{
 "cells": [
  {
   "cell_type": "code",
   "execution_count": 1,
   "metadata": {
    "ExecuteTime": {
     "end_time": "2020-03-31T16:00:12.741617Z",
     "start_time": "2020-03-31T16:00:12.501668Z"
    }
   },
   "outputs": [],
   "source": [
    "import pandas as pd"
   ]
  },
  {
   "cell_type": "code",
   "execution_count": 3,
   "metadata": {
    "ExecuteTime": {
     "end_time": "2020-03-31T16:00:24.374848Z",
     "start_time": "2020-03-31T16:00:21.842510Z"
    }
   },
   "outputs": [],
   "source": [
    "# read the stop arrival and departure times provided by CRTM\n",
    "df = pd.read_csv('../gtfs/stop_times.txt')"
   ]
  },
  {
   "cell_type": "code",
   "execution_count": 4,
   "metadata": {
    "ExecuteTime": {
     "end_time": "2020-03-31T16:00:27.848632Z",
     "start_time": "2020-03-31T16:00:27.823735Z"
    }
   },
   "outputs": [
    {
     "data": {
      "text/html": [
       "<div>\n",
       "<style scoped>\n",
       "    .dataframe tbody tr th:only-of-type {\n",
       "        vertical-align: middle;\n",
       "    }\n",
       "\n",
       "    .dataframe tbody tr th {\n",
       "        vertical-align: top;\n",
       "    }\n",
       "\n",
       "    .dataframe thead th {\n",
       "        text-align: right;\n",
       "    }\n",
       "</style>\n",
       "<table border=\"1\" class=\"dataframe\">\n",
       "  <thead>\n",
       "    <tr style=\"text-align: right;\">\n",
       "      <th></th>\n",
       "      <th>trip_id</th>\n",
       "      <th>arrival_time</th>\n",
       "      <th>departure_time</th>\n",
       "      <th>stop_id</th>\n",
       "      <th>stop_sequence</th>\n",
       "      <th>stop_headsign</th>\n",
       "      <th>pickup_type</th>\n",
       "      <th>drop_off_type</th>\n",
       "      <th>shape_dist_traveled</th>\n",
       "    </tr>\n",
       "  </thead>\n",
       "  <tbody>\n",
       "    <tr>\n",
       "      <th>0</th>\n",
       "      <td>201_8__151___-8__151____1_05:30:00_2_s.__1_8__...</td>\n",
       "      <td>04:30:00</td>\n",
       "      <td>04:30:00</td>\n",
       "      <td>par_8_10614</td>\n",
       "      <td>0</td>\n",
       "      <td>NaN</td>\n",
       "      <td>NaN</td>\n",
       "      <td>NaN</td>\n",
       "      <td>NaN</td>\n",
       "    </tr>\n",
       "    <tr>\n",
       "      <th>1</th>\n",
       "      <td>201_8__151___-8__151____1_05:30:00_2_s.__1_8__...</td>\n",
       "      <td>04:31:48</td>\n",
       "      <td>04:31:48</td>\n",
       "      <td>par_8_06762</td>\n",
       "      <td>1</td>\n",
       "      <td>NaN</td>\n",
       "      <td>NaN</td>\n",
       "      <td>NaN</td>\n",
       "      <td>NaN</td>\n",
       "    </tr>\n",
       "    <tr>\n",
       "      <th>2</th>\n",
       "      <td>201_8__151___-8__151____1_05:30:00_2_s.__1_8__...</td>\n",
       "      <td>04:32:51</td>\n",
       "      <td>04:32:51</td>\n",
       "      <td>par_8_06766</td>\n",
       "      <td>2</td>\n",
       "      <td>NaN</td>\n",
       "      <td>NaN</td>\n",
       "      <td>NaN</td>\n",
       "      <td>NaN</td>\n",
       "    </tr>\n",
       "    <tr>\n",
       "      <th>3</th>\n",
       "      <td>201_8__151___-8__151____1_05:30:00_2_s.__1_8__...</td>\n",
       "      <td>04:33:46</td>\n",
       "      <td>04:33:46</td>\n",
       "      <td>par_8_06767</td>\n",
       "      <td>3</td>\n",
       "      <td>NaN</td>\n",
       "      <td>NaN</td>\n",
       "      <td>NaN</td>\n",
       "      <td>NaN</td>\n",
       "    </tr>\n",
       "    <tr>\n",
       "      <th>4</th>\n",
       "      <td>201_8__151___-8__151____1_05:30:00_2_s.__1_8__...</td>\n",
       "      <td>04:34:53</td>\n",
       "      <td>04:34:53</td>\n",
       "      <td>par_8_06768</td>\n",
       "      <td>4</td>\n",
       "      <td>NaN</td>\n",
       "      <td>NaN</td>\n",
       "      <td>NaN</td>\n",
       "      <td>NaN</td>\n",
       "    </tr>\n",
       "    <tr>\n",
       "      <th>...</th>\n",
       "      <td>...</td>\n",
       "      <td>...</td>\n",
       "      <td>...</td>\n",
       "      <td>...</td>\n",
       "      <td>...</td>\n",
       "      <td>...</td>\n",
       "      <td>...</td>\n",
       "      <td>...</td>\n",
       "      <td>...</td>\n",
       "    </tr>\n",
       "    <tr>\n",
       "      <th>1688833</th>\n",
       "      <td>T_10L_9_i_1__132_-8__412____1_16:15:00_1_412T_...</td>\n",
       "      <td>15:16:00</td>\n",
       "      <td>15:16:00</td>\n",
       "      <td>par_8_15552</td>\n",
       "      <td>1</td>\n",
       "      <td>NaN</td>\n",
       "      <td>NaN</td>\n",
       "      <td>NaN</td>\n",
       "      <td>NaN</td>\n",
       "    </tr>\n",
       "    <tr>\n",
       "      <th>1688834</th>\n",
       "      <td>T_10L_9_i_1__132_-8__412____1_16:15:00_1_412T_...</td>\n",
       "      <td>15:17:00</td>\n",
       "      <td>15:17:00</td>\n",
       "      <td>par_8_08009</td>\n",
       "      <td>2</td>\n",
       "      <td>NaN</td>\n",
       "      <td>NaN</td>\n",
       "      <td>NaN</td>\n",
       "      <td>NaN</td>\n",
       "    </tr>\n",
       "    <tr>\n",
       "      <th>1688835</th>\n",
       "      <td>T_10L_9_i_1__132_-8__412____1_16:15:00_1_412T_...</td>\n",
       "      <td>15:18:00</td>\n",
       "      <td>15:18:00</td>\n",
       "      <td>par_8_13079</td>\n",
       "      <td>3</td>\n",
       "      <td>NaN</td>\n",
       "      <td>NaN</td>\n",
       "      <td>NaN</td>\n",
       "      <td>NaN</td>\n",
       "    </tr>\n",
       "    <tr>\n",
       "      <th>1688836</th>\n",
       "      <td>T_10L_9_i_1__132_-8__412____1_16:15:00_1_412T_...</td>\n",
       "      <td>15:19:00</td>\n",
       "      <td>15:19:00</td>\n",
       "      <td>par_8_16834</td>\n",
       "      <td>4</td>\n",
       "      <td>NaN</td>\n",
       "      <td>NaN</td>\n",
       "      <td>NaN</td>\n",
       "      <td>NaN</td>\n",
       "    </tr>\n",
       "    <tr>\n",
       "      <th>1688837</th>\n",
       "      <td>T_10L_9_i_1__132_-8__412____1_16:15:00_1_412T_...</td>\n",
       "      <td>15:20:00</td>\n",
       "      <td>15:20:00</td>\n",
       "      <td>par_8_08015</td>\n",
       "      <td>5</td>\n",
       "      <td>NaN</td>\n",
       "      <td>NaN</td>\n",
       "      <td>NaN</td>\n",
       "      <td>NaN</td>\n",
       "    </tr>\n",
       "  </tbody>\n",
       "</table>\n",
       "<p>1688838 rows × 9 columns</p>\n",
       "</div>"
      ],
      "text/plain": [
       "                                                   trip_id arrival_time  \\\n",
       "0        201_8__151___-8__151____1_05:30:00_2_s.__1_8__...     04:30:00   \n",
       "1        201_8__151___-8__151____1_05:30:00_2_s.__1_8__...     04:31:48   \n",
       "2        201_8__151___-8__151____1_05:30:00_2_s.__1_8__...     04:32:51   \n",
       "3        201_8__151___-8__151____1_05:30:00_2_s.__1_8__...     04:33:46   \n",
       "4        201_8__151___-8__151____1_05:30:00_2_s.__1_8__...     04:34:53   \n",
       "...                                                    ...          ...   \n",
       "1688833  T_10L_9_i_1__132_-8__412____1_16:15:00_1_412T_...     15:16:00   \n",
       "1688834  T_10L_9_i_1__132_-8__412____1_16:15:00_1_412T_...     15:17:00   \n",
       "1688835  T_10L_9_i_1__132_-8__412____1_16:15:00_1_412T_...     15:18:00   \n",
       "1688836  T_10L_9_i_1__132_-8__412____1_16:15:00_1_412T_...     15:19:00   \n",
       "1688837  T_10L_9_i_1__132_-8__412____1_16:15:00_1_412T_...     15:20:00   \n",
       "\n",
       "        departure_time      stop_id  stop_sequence  stop_headsign  \\\n",
       "0             04:30:00  par_8_10614              0            NaN   \n",
       "1             04:31:48  par_8_06762              1            NaN   \n",
       "2             04:32:51  par_8_06766              2            NaN   \n",
       "3             04:33:46  par_8_06767              3            NaN   \n",
       "4             04:34:53  par_8_06768              4            NaN   \n",
       "...                ...          ...            ...            ...   \n",
       "1688833       15:16:00  par_8_15552              1            NaN   \n",
       "1688834       15:17:00  par_8_08009              2            NaN   \n",
       "1688835       15:18:00  par_8_13079              3            NaN   \n",
       "1688836       15:19:00  par_8_16834              4            NaN   \n",
       "1688837       15:20:00  par_8_08015              5            NaN   \n",
       "\n",
       "         pickup_type  drop_off_type  shape_dist_traveled  \n",
       "0                NaN            NaN                  NaN  \n",
       "1                NaN            NaN                  NaN  \n",
       "2                NaN            NaN                  NaN  \n",
       "3                NaN            NaN                  NaN  \n",
       "4                NaN            NaN                  NaN  \n",
       "...              ...            ...                  ...  \n",
       "1688833          NaN            NaN                  NaN  \n",
       "1688834          NaN            NaN                  NaN  \n",
       "1688835          NaN            NaN                  NaN  \n",
       "1688836          NaN            NaN                  NaN  \n",
       "1688837          NaN            NaN                  NaN  \n",
       "\n",
       "[1688838 rows x 9 columns]"
      ]
     },
     "execution_count": 4,
     "metadata": {},
     "output_type": "execute_result"
    }
   ],
   "source": [
    "df"
   ]
  },
  {
   "cell_type": "code",
   "execution_count": 6,
   "metadata": {
    "ExecuteTime": {
     "end_time": "2020-03-31T16:00:39.686050Z",
     "start_time": "2020-03-31T16:00:39.176190Z"
    }
   },
   "outputs": [
    {
     "data": {
      "text/plain": [
       "16:00:00    8\n",
       "16:30:00    7\n",
       "21:30:00    5\n",
       "12:30:01    5\n",
       "12:30:00    5\n",
       "           ..\n",
       "18:45:00    1\n",
       "14:15:00    1\n",
       "16:08:01    1\n",
       "06:10:00    1\n",
       "21:45:01    1\n",
       "Name: arrival_time, Length: 99, dtype: int64"
      ]
     },
     "execution_count": 6,
     "metadata": {},
     "output_type": "execute_result"
    }
   ],
   "source": [
    "# let's see how often the values of the arrival times of a line to a particular stop repeat\n",
    "df[df['trip_id'].str.contains(\"658\")].query(\"stop_id == 'par_8_17480'\")['arrival_time'].value_counts()"
   ]
  }
 ],
 "metadata": {
  "kernelspec": {
   "display_name": "Python 3",
   "language": "python",
   "name": "python3"
  },
  "language_info": {
   "codemirror_mode": {
    "name": "ipython",
    "version": 3
   },
   "file_extension": ".py",
   "mimetype": "text/x-python",
   "name": "python",
   "nbconvert_exporter": "python",
   "pygments_lexer": "ipython3",
   "version": "3.7.6"
  },
  "toc": {
   "base_numbering": 1,
   "nav_menu": {},
   "number_sections": true,
   "sideBar": true,
   "skip_h1_title": false,
   "title_cell": "Table of Contents",
   "title_sidebar": "Contents",
   "toc_cell": false,
   "toc_position": {},
   "toc_section_display": true,
   "toc_window_display": false
  },
  "varInspector": {
   "cols": {
    "lenName": 16,
    "lenType": 16,
    "lenVar": 40
   },
   "kernels_config": {
    "python": {
     "delete_cmd_postfix": "",
     "delete_cmd_prefix": "del ",
     "library": "var_list.py",
     "varRefreshCmd": "print(var_dic_list())"
    },
    "r": {
     "delete_cmd_postfix": ") ",
     "delete_cmd_prefix": "rm(",
     "library": "var_list.r",
     "varRefreshCmd": "cat(var_dic_list()) "
    }
   },
   "types_to_exclude": [
    "module",
    "function",
    "builtin_function_or_method",
    "instance",
    "_Feature"
   ],
   "window_display": false
  }
 },
 "nbformat": 4,
 "nbformat_minor": 4
}
