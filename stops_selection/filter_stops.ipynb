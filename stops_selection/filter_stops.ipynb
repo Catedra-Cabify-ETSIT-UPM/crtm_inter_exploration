{
 "cells": [
  {
   "cell_type": "code",
   "execution_count": 42,
   "metadata": {
    "ExecuteTime": {
     "end_time": "2020-02-23T20:59:13.718184Z",
     "start_time": "2020-02-23T20:59:13.713585Z"
    }
   },
   "outputs": [],
   "source": [
    "import os\n",
    "import pandas as pd\n",
    "import geopandas as gpd\n",
    "import requests\n",
    "import json\n",
    "from ipyleaflet import Map, GeoJSON, Choropleth, Marker, MarkerCluster, Popup, GeoData\n",
    "from ipywidgets import HTML"
   ]
  },
  {
   "cell_type": "code",
   "execution_count": 43,
   "metadata": {
    "ExecuteTime": {
     "end_time": "2020-02-23T20:59:13.724459Z",
     "start_time": "2020-02-23T20:59:13.720611Z"
    }
   },
   "outputs": [],
   "source": [
    "# Download the file from `url` and save it locally under `gtfs.zip`, then extract:\n",
    "def gtfs_downloader(url):\n",
    "    file_name = 'gtfs.zip'\n",
    "    urllib.request.urlretrieve(url, file_name)\n",
    "    import zipfile\n",
    "    with zipfile.ZipFile(file_name,\"r\") as zip_ref:\n",
    "        zip_ref.extractall(\"gtfs/\")"
   ]
  },
  {
   "cell_type": "code",
   "execution_count": 44,
   "metadata": {
    "ExecuteTime": {
     "end_time": "2020-02-23T20:59:13.730183Z",
     "start_time": "2020-02-23T20:59:13.726713Z"
    }
   },
   "outputs": [],
   "source": [
    "#Give the URL of the TransitFeeds gtfs you want to analyze and create dataframes.\n",
    "url = 'https://www.arcgis.com/sharing/rest/content/items/885399f83408473c8d815e40c5e702b7/data'\n",
    "if (not os.path.isdir('./gtfs')):\n",
    "    gtfs_downloader(url)"
   ]
  },
  {
   "cell_type": "code",
   "execution_count": 45,
   "metadata": {
    "ExecuteTime": {
     "end_time": "2020-02-23T20:59:13.748560Z",
     "start_time": "2020-02-23T20:59:13.732127Z"
    }
   },
   "outputs": [
    {
     "data": {
      "text/html": [
       "<div>\n",
       "<style scoped>\n",
       "    .dataframe tbody tr th:only-of-type {\n",
       "        vertical-align: middle;\n",
       "    }\n",
       "\n",
       "    .dataframe tbody tr th {\n",
       "        vertical-align: top;\n",
       "    }\n",
       "\n",
       "    .dataframe thead th {\n",
       "        text-align: right;\n",
       "    }\n",
       "</style>\n",
       "<table border=\"1\" class=\"dataframe\">\n",
       "  <thead>\n",
       "    <tr style=\"text-align: right;\">\n",
       "      <th></th>\n",
       "      <th>route_id</th>\n",
       "      <th>agency_id</th>\n",
       "      <th>route_short_name</th>\n",
       "      <th>route_long_name</th>\n",
       "      <th>route_desc</th>\n",
       "      <th>route_type</th>\n",
       "      <th>route_url</th>\n",
       "      <th>route_color</th>\n",
       "      <th>route_text_color</th>\n",
       "    </tr>\n",
       "  </thead>\n",
       "  <tbody>\n",
       "    <tr>\n",
       "      <th>0</th>\n",
       "      <td>8__151___</td>\n",
       "      <td>CRTM</td>\n",
       "      <td>151</td>\n",
       "      <td>MADRID (Plaza de Castilla) - ALCOBENDAS</td>\n",
       "      <td>NaN</td>\n",
       "      <td>3</td>\n",
       "      <td>http://www.crtm.es/tu-transporte-publico/autob...</td>\n",
       "      <td>8EBF42</td>\n",
       "      <td>FFFFFF</td>\n",
       "    </tr>\n",
       "    <tr>\n",
       "      <th>1</th>\n",
       "      <td>8__152_C__</td>\n",
       "      <td>CRTM</td>\n",
       "      <td>152C</td>\n",
       "      <td>MADRID (Plaza de Castilla)-S.S. DE LOS REYES (...</td>\n",
       "      <td>NaN</td>\n",
       "      <td>3</td>\n",
       "      <td>http://www.crtm.es/tu-transporte-publico/autob...</td>\n",
       "      <td>8EBF42</td>\n",
       "      <td>FFFFFF</td>\n",
       "    </tr>\n",
       "    <tr>\n",
       "      <th>2</th>\n",
       "      <td>8__153___</td>\n",
       "      <td>CRTM</td>\n",
       "      <td>153</td>\n",
       "      <td>MADRID (Plaza de Castilla)-ALCOBENDAS-ROSA LUX...</td>\n",
       "      <td>NaN</td>\n",
       "      <td>3</td>\n",
       "      <td>http://www.crtm.es/tu-transporte-publico/autob...</td>\n",
       "      <td>8EBF42</td>\n",
       "      <td>FFFFFF</td>\n",
       "    </tr>\n",
       "    <tr>\n",
       "      <th>3</th>\n",
       "      <td>8__154___</td>\n",
       "      <td>CRTM</td>\n",
       "      <td>154</td>\n",
       "      <td>MADRID (Chamartín)-S.S. REYES CIRCULAR (Por Fu...</td>\n",
       "      <td>NaN</td>\n",
       "      <td>3</td>\n",
       "      <td>http://www.crtm.es/tu-transporte-publico/autob...</td>\n",
       "      <td>8EBF42</td>\n",
       "      <td>FFFFFF</td>\n",
       "    </tr>\n",
       "    <tr>\n",
       "      <th>4</th>\n",
       "      <td>8__154_C__</td>\n",
       "      <td>CRTM</td>\n",
       "      <td>154C</td>\n",
       "      <td>MADRID (Plaza de Castilla)-S.S. DE LOS REYES (...</td>\n",
       "      <td>NaN</td>\n",
       "      <td>3</td>\n",
       "      <td>http://www.crtm.es/tu-transporte-publico/autob...</td>\n",
       "      <td>8EBF42</td>\n",
       "      <td>FFFFFF</td>\n",
       "    </tr>\n",
       "  </tbody>\n",
       "</table>\n",
       "</div>"
      ],
      "text/plain": [
       "     route_id agency_id route_short_name  \\\n",
       "0   8__151___      CRTM              151   \n",
       "1  8__152_C__      CRTM             152C   \n",
       "2   8__153___      CRTM              153   \n",
       "3   8__154___      CRTM              154   \n",
       "4  8__154_C__      CRTM             154C   \n",
       "\n",
       "                                     route_long_name  route_desc  route_type  \\\n",
       "0            MADRID (Plaza de Castilla) - ALCOBENDAS         NaN           3   \n",
       "1  MADRID (Plaza de Castilla)-S.S. DE LOS REYES (...         NaN           3   \n",
       "2  MADRID (Plaza de Castilla)-ALCOBENDAS-ROSA LUX...         NaN           3   \n",
       "3  MADRID (Chamartín)-S.S. REYES CIRCULAR (Por Fu...         NaN           3   \n",
       "4  MADRID (Plaza de Castilla)-S.S. DE LOS REYES (...         NaN           3   \n",
       "\n",
       "                                           route_url route_color  \\\n",
       "0  http://www.crtm.es/tu-transporte-publico/autob...      8EBF42   \n",
       "1  http://www.crtm.es/tu-transporte-publico/autob...      8EBF42   \n",
       "2  http://www.crtm.es/tu-transporte-publico/autob...      8EBF42   \n",
       "3  http://www.crtm.es/tu-transporte-publico/autob...      8EBF42   \n",
       "4  http://www.crtm.es/tu-transporte-publico/autob...      8EBF42   \n",
       "\n",
       "  route_text_color  \n",
       "0           FFFFFF  \n",
       "1           FFFFFF  \n",
       "2           FFFFFF  \n",
       "3           FFFFFF  \n",
       "4           FFFFFF  "
      ]
     },
     "execution_count": 45,
     "metadata": {},
     "output_type": "execute_result"
    }
   ],
   "source": [
    "routes = pd.read_csv('gtfs/routes.txt')\n",
    "routes.head()"
   ]
  },
  {
   "cell_type": "code",
   "execution_count": 46,
   "metadata": {
    "ExecuteTime": {
     "end_time": "2020-02-23T20:59:13.775112Z",
     "start_time": "2020-02-23T20:59:13.749965Z"
    },
    "scrolled": true
   },
   "outputs": [
    {
     "data": {
      "text/html": [
       "<div>\n",
       "<style scoped>\n",
       "    .dataframe tbody tr th:only-of-type {\n",
       "        vertical-align: middle;\n",
       "    }\n",
       "\n",
       "    .dataframe tbody tr th {\n",
       "        vertical-align: top;\n",
       "    }\n",
       "\n",
       "    .dataframe thead th {\n",
       "        text-align: right;\n",
       "    }\n",
       "</style>\n",
       "<table border=\"1\" class=\"dataframe\">\n",
       "  <thead>\n",
       "    <tr style=\"text-align: right;\">\n",
       "      <th></th>\n",
       "      <th>stop_id</th>\n",
       "      <th>stop_code</th>\n",
       "      <th>stop_name</th>\n",
       "      <th>stop_desc</th>\n",
       "      <th>stop_lat</th>\n",
       "      <th>stop_lon</th>\n",
       "      <th>zone_id</th>\n",
       "      <th>stop_url</th>\n",
       "      <th>location_type</th>\n",
       "      <th>parent_station</th>\n",
       "      <th>stop_timezone</th>\n",
       "      <th>wheelchair_boarding</th>\n",
       "    </tr>\n",
       "  </thead>\n",
       "  <tbody>\n",
       "    <tr>\n",
       "      <th>0</th>\n",
       "      <td>par_8_06686</td>\n",
       "      <td>6686</td>\n",
       "      <td>AV.BURGOS-C.C.SANCHINARRO</td>\n",
       "      <td>Avda de Burgos 133</td>\n",
       "      <td>40.498047</td>\n",
       "      <td>-3.662996</td>\n",
       "      <td>A</td>\n",
       "      <td>http://www.crtm.es</td>\n",
       "      <td>0</td>\n",
       "      <td>NaN</td>\n",
       "      <td>Europe/Madrid</td>\n",
       "      <td>2</td>\n",
       "    </tr>\n",
       "    <tr>\n",
       "      <th>1</th>\n",
       "      <td>par_8_06687</td>\n",
       "      <td>6687</td>\n",
       "      <td>AV.BURGOS-DOMINICOS</td>\n",
       "      <td>Avda de Burgos 11300</td>\n",
       "      <td>40.501442</td>\n",
       "      <td>-3.659949</td>\n",
       "      <td>A</td>\n",
       "      <td>http://www.crtm.es</td>\n",
       "      <td>0</td>\n",
       "      <td>NaN</td>\n",
       "      <td>Europe/Madrid</td>\n",
       "      <td>2</td>\n",
       "    </tr>\n",
       "    <tr>\n",
       "      <th>2</th>\n",
       "      <td>par_8_06689</td>\n",
       "      <td>6689</td>\n",
       "      <td>CTRA.A1-CUESTA BLANCA</td>\n",
       "      <td>Ctra de Irún 13700</td>\n",
       "      <td>40.521770</td>\n",
       "      <td>-3.651011</td>\n",
       "      <td>B1</td>\n",
       "      <td>http://www.crtm.es</td>\n",
       "      <td>0</td>\n",
       "      <td>NaN</td>\n",
       "      <td>Europe/Madrid</td>\n",
       "      <td>2</td>\n",
       "    </tr>\n",
       "    <tr>\n",
       "      <th>3</th>\n",
       "      <td>par_8_06690</td>\n",
       "      <td>6690</td>\n",
       "      <td>CTRA.IRÚN-CONCESIONARIO</td>\n",
       "      <td>Ctra de Irún 14700</td>\n",
       "      <td>40.533794</td>\n",
       "      <td>-3.641858</td>\n",
       "      <td>B1</td>\n",
       "      <td>http://www.crtm.es</td>\n",
       "      <td>0</td>\n",
       "      <td>NaN</td>\n",
       "      <td>Europe/Madrid</td>\n",
       "      <td>2</td>\n",
       "    </tr>\n",
       "    <tr>\n",
       "      <th>4</th>\n",
       "      <td>par_8_06691</td>\n",
       "      <td>6691</td>\n",
       "      <td>AV.OLÍMPICA-C.C.LA VEGA</td>\n",
       "      <td>Avda   Olímpica 9</td>\n",
       "      <td>40.535248</td>\n",
       "      <td>-3.636984</td>\n",
       "      <td>B1</td>\n",
       "      <td>http://www.crtm.es</td>\n",
       "      <td>0</td>\n",
       "      <td>NaN</td>\n",
       "      <td>Europe/Madrid</td>\n",
       "      <td>2</td>\n",
       "    </tr>\n",
       "  </tbody>\n",
       "</table>\n",
       "</div>"
      ],
      "text/plain": [
       "       stop_id  stop_code                  stop_name             stop_desc  \\\n",
       "0  par_8_06686       6686  AV.BURGOS-C.C.SANCHINARRO    Avda de Burgos 133   \n",
       "1  par_8_06687       6687        AV.BURGOS-DOMINICOS  Avda de Burgos 11300   \n",
       "2  par_8_06689       6689      CTRA.A1-CUESTA BLANCA    Ctra de Irún 13700   \n",
       "3  par_8_06690       6690    CTRA.IRÚN-CONCESIONARIO    Ctra de Irún 14700   \n",
       "4  par_8_06691       6691    AV.OLÍMPICA-C.C.LA VEGA     Avda   Olímpica 9   \n",
       "\n",
       "    stop_lat  stop_lon zone_id            stop_url  location_type  \\\n",
       "0  40.498047 -3.662996       A  http://www.crtm.es              0   \n",
       "1  40.501442 -3.659949       A  http://www.crtm.es              0   \n",
       "2  40.521770 -3.651011      B1  http://www.crtm.es              0   \n",
       "3  40.533794 -3.641858      B1  http://www.crtm.es              0   \n",
       "4  40.535248 -3.636984      B1  http://www.crtm.es              0   \n",
       "\n",
       "  parent_station  stop_timezone  wheelchair_boarding  \n",
       "0            NaN  Europe/Madrid                    2  \n",
       "1            NaN  Europe/Madrid                    2  \n",
       "2            NaN  Europe/Madrid                    2  \n",
       "3            NaN  Europe/Madrid                    2  \n",
       "4            NaN  Europe/Madrid                    2  "
      ]
     },
     "execution_count": 46,
     "metadata": {},
     "output_type": "execute_result"
    }
   ],
   "source": [
    "stops = pd.read_csv('gtfs/stops.txt')\n",
    "stops.head()"
   ]
  },
  {
   "cell_type": "code",
   "execution_count": 47,
   "metadata": {
    "ExecuteTime": {
     "end_time": "2020-02-23T20:59:13.949515Z",
     "start_time": "2020-02-23T20:59:13.776217Z"
    }
   },
   "outputs": [],
   "source": [
    "file_path = 'm8_ParadasPorItinerario.json'\n",
    "\n",
    "if not os.path.exists(file_path):\n",
    "  url = 'https://opendata.arcgis.com/datasets/46044e95c2f340e6a9e0790842bbbef2_3.csv?outSR=%7B%22latestWkid%22%3A25830%2C%22wkid%22%3A25830%7D'\n",
    "  r = requests.get(url)\n",
    "  with open(file_path, 'w') as f:\n",
    "    f.write(r.content.decode(\"utf-8\"))\n",
    "\n",
    "with open(file_path, 'r') as f:\n",
    "  ppi = pd.read_csv(f)"
   ]
  },
  {
   "cell_type": "code",
   "execution_count": 48,
   "metadata": {
    "ExecuteTime": {
     "end_time": "2020-02-23T20:59:13.970443Z",
     "start_time": "2020-02-23T20:59:13.951287Z"
    }
   },
   "outputs": [
    {
     "data": {
      "text/html": [
       "<div>\n",
       "<style scoped>\n",
       "    .dataframe tbody tr th:only-of-type {\n",
       "        vertical-align: middle;\n",
       "    }\n",
       "\n",
       "    .dataframe tbody tr th {\n",
       "        vertical-align: top;\n",
       "    }\n",
       "\n",
       "    .dataframe thead th {\n",
       "        text-align: right;\n",
       "    }\n",
       "</style>\n",
       "<table border=\"1\" class=\"dataframe\">\n",
       "  <thead>\n",
       "    <tr style=\"text-align: right;\">\n",
       "      <th></th>\n",
       "      <th>OBJECTID</th>\n",
       "      <th>MODO</th>\n",
       "      <th>CODIGOITINERARIO</th>\n",
       "      <th>CODIGOGESTIONLINEA</th>\n",
       "      <th>NUMEROLINEAUSUARIO</th>\n",
       "      <th>SENTIDO</th>\n",
       "      <th>TIPOITINERARIO</th>\n",
       "      <th>CODIGOESTACION</th>\n",
       "      <th>CODIGOPOSTE</th>\n",
       "      <th>CODIGOANDEN</th>\n",
       "      <th>...</th>\n",
       "      <th>IDFTRAMO</th>\n",
       "      <th>CODIGOOBSERVACION</th>\n",
       "      <th>CODIGOSUBLINEA</th>\n",
       "      <th>DENOMINACION_SAE</th>\n",
       "      <th>IDFLINEA</th>\n",
       "      <th>IDFITINERARIO</th>\n",
       "      <th>IDFESTACION</th>\n",
       "      <th>IDFPOSTE</th>\n",
       "      <th>IDFANDEN</th>\n",
       "      <th>CODIGOCTMESTACIONREDMETRO</th>\n",
       "    </tr>\n",
       "  </thead>\n",
       "  <tbody>\n",
       "    <tr>\n",
       "      <th>0</th>\n",
       "      <td>4001</td>\n",
       "      <td>8</td>\n",
       "      <td>353151</td>\n",
       "      <td>8680</td>\n",
       "      <td>680</td>\n",
       "      <td>1</td>\n",
       "      <td>1</td>\n",
       "      <td>12511</td>\n",
       "      <td>*</td>\n",
       "      <td>NaN</td>\n",
       "      <td>...</td>\n",
       "      <td>8__680____-_1_IT_1_8_12511_*__TI_I_4</td>\n",
       "      <td>-</td>\n",
       "      <td>680101</td>\n",
       "      <td>DOCTOR VARELA-CANTERA</td>\n",
       "      <td>8__680___</td>\n",
       "      <td>8__680____680101_1_IT_1</td>\n",
       "      <td>8_12511</td>\n",
       "      <td>8_12511_*</td>\n",
       "      <td>8_12511_</td>\n",
       "      <td>NaN</td>\n",
       "    </tr>\n",
       "    <tr>\n",
       "      <th>1</th>\n",
       "      <td>4002</td>\n",
       "      <td>8</td>\n",
       "      <td>359409</td>\n",
       "      <td>8685</td>\n",
       "      <td>685</td>\n",
       "      <td>1</td>\n",
       "      <td>1</td>\n",
       "      <td>12511</td>\n",
       "      <td>*</td>\n",
       "      <td>NaN</td>\n",
       "      <td>...</td>\n",
       "      <td>8__685____-_1_IT_1_8_12511_*__TI_I_32</td>\n",
       "      <td>-</td>\n",
       "      <td>685101</td>\n",
       "      <td>DOCTOR VARELA-CANTERA</td>\n",
       "      <td>8__685___</td>\n",
       "      <td>8__685____685101_1_IT_1</td>\n",
       "      <td>8_12511</td>\n",
       "      <td>8_12511_*</td>\n",
       "      <td>8_12511_</td>\n",
       "      <td>NaN</td>\n",
       "    </tr>\n",
       "    <tr>\n",
       "      <th>2</th>\n",
       "      <td>4003</td>\n",
       "      <td>8</td>\n",
       "      <td>362303</td>\n",
       "      <td>8681</td>\n",
       "      <td>681</td>\n",
       "      <td>1</td>\n",
       "      <td>2</td>\n",
       "      <td>12511</td>\n",
       "      <td>*</td>\n",
       "      <td>NaN</td>\n",
       "      <td>...</td>\n",
       "      <td>8__681____va_1_IT_2_8_12511_*__TI_I_7</td>\n",
       "      <td>va</td>\n",
       "      <td>681104</td>\n",
       "      <td>DOCTOR VARELA-CANTERA</td>\n",
       "      <td>8__681___</td>\n",
       "      <td>8__681____681104_1_IT_2</td>\n",
       "      <td>8_12511</td>\n",
       "      <td>8_12511_*</td>\n",
       "      <td>8_12511_</td>\n",
       "      <td>NaN</td>\n",
       "    </tr>\n",
       "    <tr>\n",
       "      <th>3</th>\n",
       "      <td>4004</td>\n",
       "      <td>8</td>\n",
       "      <td>362182</td>\n",
       "      <td>8680</td>\n",
       "      <td>680</td>\n",
       "      <td>1</td>\n",
       "      <td>2</td>\n",
       "      <td>12511</td>\n",
       "      <td>*</td>\n",
       "      <td>NaN</td>\n",
       "      <td>...</td>\n",
       "      <td>8__680____i._1_IT_2_8_12511_*__TI_I_4</td>\n",
       "      <td>i.</td>\n",
       "      <td>680102</td>\n",
       "      <td>DOCTOR VARELA-CANTERA</td>\n",
       "      <td>8__680___</td>\n",
       "      <td>8__680____680102_1_IT_2</td>\n",
       "      <td>8_12511</td>\n",
       "      <td>8_12511_*</td>\n",
       "      <td>8_12511_</td>\n",
       "      <td>NaN</td>\n",
       "    </tr>\n",
       "    <tr>\n",
       "      <th>4</th>\n",
       "      <td>4005</td>\n",
       "      <td>8</td>\n",
       "      <td>364150</td>\n",
       "      <td>8682</td>\n",
       "      <td>682</td>\n",
       "      <td>1</td>\n",
       "      <td>2</td>\n",
       "      <td>12511</td>\n",
       "      <td>*</td>\n",
       "      <td>NaN</td>\n",
       "      <td>...</td>\n",
       "      <td>8__682____ma_1_IT_2_8_12511_*__TI_I_16</td>\n",
       "      <td>ma</td>\n",
       "      <td>682105</td>\n",
       "      <td>DOCTOR VARELA-CANTERA</td>\n",
       "      <td>8__682___</td>\n",
       "      <td>8__682____682105_1_IT_2</td>\n",
       "      <td>8_12511</td>\n",
       "      <td>8_12511_*</td>\n",
       "      <td>8_12511_</td>\n",
       "      <td>NaN</td>\n",
       "    </tr>\n",
       "  </tbody>\n",
       "</table>\n",
       "<p>5 rows × 38 columns</p>\n",
       "</div>"
      ],
      "text/plain": [
       "   OBJECTID  MODO  CODIGOITINERARIO CODIGOGESTIONLINEA NUMEROLINEAUSUARIO  \\\n",
       "0      4001     8            353151               8680                680   \n",
       "1      4002     8            359409               8685                685   \n",
       "2      4003     8            362303               8681                681   \n",
       "3      4004     8            362182               8680                680   \n",
       "4      4005     8            364150               8682                682   \n",
       "\n",
       "   SENTIDO  TIPOITINERARIO  CODIGOESTACION CODIGOPOSTE  CODIGOANDEN  ...  \\\n",
       "0        1               1           12511           *          NaN  ...   \n",
       "1        1               1           12511           *          NaN  ...   \n",
       "2        1               2           12511           *          NaN  ...   \n",
       "3        1               2           12511           *          NaN  ...   \n",
       "4        1               2           12511           *          NaN  ...   \n",
       "\n",
       "                                 IDFTRAMO CODIGOOBSERVACION CODIGOSUBLINEA  \\\n",
       "0    8__680____-_1_IT_1_8_12511_*__TI_I_4                 -         680101   \n",
       "1   8__685____-_1_IT_1_8_12511_*__TI_I_32                 -         685101   \n",
       "2   8__681____va_1_IT_2_8_12511_*__TI_I_7                va         681104   \n",
       "3   8__680____i._1_IT_2_8_12511_*__TI_I_4                i.         680102   \n",
       "4  8__682____ma_1_IT_2_8_12511_*__TI_I_16                ma         682105   \n",
       "\n",
       "        DENOMINACION_SAE   IDFLINEA            IDFITINERARIO IDFESTACION  \\\n",
       "0  DOCTOR VARELA-CANTERA  8__680___  8__680____680101_1_IT_1     8_12511   \n",
       "1  DOCTOR VARELA-CANTERA  8__685___  8__685____685101_1_IT_1     8_12511   \n",
       "2  DOCTOR VARELA-CANTERA  8__681___  8__681____681104_1_IT_2     8_12511   \n",
       "3  DOCTOR VARELA-CANTERA  8__680___  8__680____680102_1_IT_2     8_12511   \n",
       "4  DOCTOR VARELA-CANTERA  8__682___  8__682____682105_1_IT_2     8_12511   \n",
       "\n",
       "    IDFPOSTE  IDFANDEN  CODIGOCTMESTACIONREDMETRO  \n",
       "0  8_12511_*  8_12511_                        NaN  \n",
       "1  8_12511_*  8_12511_                        NaN  \n",
       "2  8_12511_*  8_12511_                        NaN  \n",
       "3  8_12511_*  8_12511_                        NaN  \n",
       "4  8_12511_*  8_12511_                        NaN  \n",
       "\n",
       "[5 rows x 38 columns]"
      ]
     },
     "execution_count": 48,
     "metadata": {},
     "output_type": "execute_result"
    }
   ],
   "source": [
    "ppi.head()"
   ]
  },
  {
   "cell_type": "code",
   "execution_count": 49,
   "metadata": {
    "ExecuteTime": {
     "end_time": "2020-02-23T20:59:13.981982Z",
     "start_time": "2020-02-23T20:59:13.972755Z"
    }
   },
   "outputs": [
    {
     "data": {
      "text/plain": [
       "array(['8__625___', '8__628___', '8__631___', '8__621___', '8__632___',\n",
       "       '8__629___', '8__627___', '8__661___', '8__664___', '8__622___',\n",
       "       '8__645___', '8__661_A__', '8__662___', '8__623___', '8__624___',\n",
       "       '8__635___', '8__656_A__', '8__656___', '8__651___', '8__652___',\n",
       "       '8__611___', '8__683___', '8__687___', '8__688___', '8__672___',\n",
       "       '8__612___', '8__686___', '8__681___', '8__686_A__', '8__643___',\n",
       "       '8__671___', '8__672_A__', '8__653___', '8__641___', '8__642___',\n",
       "       '8__611_A__', '8__691___', '8__657___', '8__655___', '8__613___',\n",
       "       '8__673___', '8__684___', '8__654___', '8__682___', '8__657_A__',\n",
       "       '8__658___', '8__601___', '8__659___'], dtype=object)"
      ]
     },
     "execution_count": 49,
     "metadata": {},
     "output_type": "execute_result"
    }
   ],
   "source": [
    "lines_from_moncloa = ppi.query(\"DENOMINACION_SAE == 'INTERCAMBIADOR DE MONCLOA' or DENOMINACION_SAE == 'INTERCAMBIADOR MONCLOA'\")\n",
    "lines_from_moncloa_unique_id = lines_from_moncloa['IDFLINEA'].unique()\n",
    "lines_from_moncloa_unique_id"
   ]
  },
  {
   "cell_type": "code",
   "execution_count": 50,
   "metadata": {
    "ExecuteTime": {
     "end_time": "2020-02-23T20:59:13.998495Z",
     "start_time": "2020-02-23T20:59:13.984419Z"
    }
   },
   "outputs": [
    {
     "data": {
      "text/plain": [
       "8_17480    154\n",
       "8_06002    118\n",
       "8_23       105\n",
       "8_1333      96\n",
       "8_06268     60\n",
       "          ... \n",
       "8_10238      1\n",
       "8_10739      1\n",
       "8_10741      1\n",
       "8_08784      1\n",
       "8_09375      1\n",
       "Name: IDFESTACION, Length: 1315, dtype: int64"
      ]
     },
     "execution_count": 50,
     "metadata": {},
     "output_type": "execute_result"
    }
   ],
   "source": [
    "ppi[ppi['IDFLINEA'].isin(lines_from_moncloa_unique_id)]['IDFESTACION'].value_counts()"
   ]
  },
  {
   "cell_type": "code",
   "execution_count": 51,
   "metadata": {
    "ExecuteTime": {
     "end_time": "2020-02-23T20:59:14.005109Z",
     "start_time": "2020-02-23T20:59:13.999422Z"
    }
   },
   "outputs": [],
   "source": [
    "lines_stop_23 = ppi.query(\"IDFESTACION == '8_23'\")\n",
    "lines_stop_23_unique_id = lines_stop_23['IDFLINEA'].unique()"
   ]
  },
  {
   "cell_type": "code",
   "execution_count": 52,
   "metadata": {
    "ExecuteTime": {
     "end_time": "2020-02-23T20:59:14.023028Z",
     "start_time": "2020-02-23T20:59:14.007276Z"
    }
   },
   "outputs": [
    {
     "data": {
      "text/plain": [
       "8_17480    150\n",
       "8_06002    113\n",
       "8_23       110\n",
       "8_1333     101\n",
       "8_06268     63\n",
       "          ... \n",
       "8_09959      1\n",
       "8_10745      1\n",
       "8_10743      1\n",
       "8_08685      1\n",
       "8_10742      1\n",
       "Name: IDFESTACION, Length: 1301, dtype: int64"
      ]
     },
     "execution_count": 52,
     "metadata": {},
     "output_type": "execute_result"
    }
   ],
   "source": [
    "ppi[ppi['IDFLINEA'].isin(lines_stop_23_unique_id)]['IDFESTACION'].value_counts()"
   ]
  },
  {
   "cell_type": "code",
   "execution_count": 53,
   "metadata": {
    "ExecuteTime": {
     "end_time": "2020-02-23T20:59:14.058377Z",
     "start_time": "2020-02-23T20:59:14.024588Z"
    }
   },
   "outputs": [],
   "source": [
    "lines_pozuelo = ppi[ppi['DENOMINACION_SAE'].str.contains(\"POZUELO\")==True]\n",
    "lines_pozuelo_unique_id = lines_pozuelo['IDFLINEA'].unique()"
   ]
  },
  {
   "cell_type": "code",
   "execution_count": 54,
   "metadata": {
    "ExecuteTime": {
     "end_time": "2020-02-23T20:59:14.065585Z",
     "start_time": "2020-02-23T20:59:14.059833Z"
    }
   },
   "outputs": [
    {
     "data": {
      "text/plain": [
       "CTRA.POZUELO-INS.NACIONAL DE SANIDAD    55\n",
       "CTRA.POZUELO-URB.PINAR PLANTÍO          29\n",
       "CTRA.POZUELO-RESIDENCIA                 29\n",
       "CTRA.POZUELO-CIUDAD DEPORTIVA           27\n",
       "CTRA.POZUELO-URB.MONTECLARO             18\n",
       "CTRA.POZUELO-CENTRO DE PREVENCIÓN       18\n",
       "CTRA.POZUELO-URB.EL PAULAR              16\n",
       "CTRA.M502-EST.POZUELO OESTE             16\n",
       "CTRA.POZUELO-AV. REY JUAN CARLOS I      12\n",
       "AV.ESPAÑA-CTRA.POZUELO                   9\n",
       "CTRA.POZUELO-FRANCISCO UMBRAL            9\n",
       "AV.SAN JUAN DE DIOS-EST.CIEMPOZUELOS     8\n",
       "CTRA.POZUELO-INSTITUTO                   8\n",
       "SARASATE-CTRA.POZUELO                    4\n",
       "PABLO PICASSO-CTRA.POZUELO               4\n",
       "ARROYO POZUELO-GTA.RIO ZANCARA           4\n",
       "ARROYO DE POZUELO-HÚMERA                 2\n",
       "CUESTAS-CIEMPOZUELOS                     2\n",
       "ARROYO POZUELO-GTA.SIERRA PARAMERA       2\n",
       "ARROYO POZUELO-HINOJO                    2\n",
       "ARROYO POZUELO-ALCORNOQUE                2\n",
       "ANTONIO DÍAZ-EST.POZUELO                 2\n",
       "ARROYO POZUELO-ANIS                      2\n",
       "ARROYO POZUELO-MENTA                     2\n",
       "UNIVERSIDAD FCO.DE VITORIA-POZUELO       2\n",
       "ARROYO POZUELO-OLIVINO                   2\n",
       "ARROYO DE POZUELO-COLONIA STA.MARÍA      2\n",
       "ARROYO POZUELO-ACEBUCHE                  2\n",
       "PZA.ESTACIÓN-EST.POZUELO                 2\n",
       "Name: DENOMINACION_SAE, dtype: int64"
      ]
     },
     "execution_count": 54,
     "metadata": {},
     "output_type": "execute_result"
    }
   ],
   "source": [
    "lines_pozuelo['DENOMINACION_SAE'].value_counts()"
   ]
  },
  {
   "cell_type": "code",
   "execution_count": 55,
   "metadata": {
    "ExecuteTime": {
     "end_time": "2020-02-23T20:59:14.078572Z",
     "start_time": "2020-02-23T20:59:14.066918Z"
    }
   },
   "outputs": [
    {
     "data": {
      "text/plain": [
       "8__626___     590\n",
       "8__567___     324\n",
       "8__654___     258\n",
       "8__561___     213\n",
       "8__685___     197\n",
       "8__653___     162\n",
       "8__633___     153\n",
       "8__561_B__    130\n",
       "8__655___     120\n",
       "8_N_901___    113\n",
       "8__415___     112\n",
       "8__562___     111\n",
       "8_N_906___    103\n",
       "8_N_902___     93\n",
       "8__650___      92\n",
       "8__658___      90\n",
       "8__561_A__     89\n",
       "8__416___      83\n",
       "8__410___      76\n",
       "8__563___      72\n",
       "8__560___      63\n",
       "8__659___      16\n",
       "Name: IDFLINEA, dtype: int64"
      ]
     },
     "execution_count": 55,
     "metadata": {},
     "output_type": "execute_result"
    }
   ],
   "source": [
    "ppi[ppi['IDFLINEA'].isin(lines_pozuelo_unique_id)]['IDFLINEA'].value_counts()"
   ]
  },
  {
   "cell_type": "code",
   "execution_count": 56,
   "metadata": {
    "ExecuteTime": {
     "end_time": "2020-02-23T20:59:14.093443Z",
     "start_time": "2020-02-23T20:59:14.079763Z"
    }
   },
   "outputs": [
    {
     "data": {
      "text/plain": [
       "8_06002    12\n",
       "8_10585    11\n",
       "8_3444     11\n",
       "8_06445     9\n",
       "8_06478     9\n",
       "           ..\n",
       "8_08683     1\n",
       "8_17964     1\n",
       "8_08790     1\n",
       "8_15359     1\n",
       "8_06446     1\n",
       "Name: IDFESTACION, Length: 285, dtype: int64"
      ]
     },
     "execution_count": 56,
     "metadata": {},
     "output_type": "execute_result"
    }
   ],
   "source": [
    "selected_lines_full = ['8_N_901___',\n",
    "                  '8_N_906___',\n",
    "                  '8_N_902___',\n",
    "                  '8__650___',\n",
    "                  '8__658___',\n",
    "                  '8__563___',\n",
    "                  '8__560___',\n",
    "                  '8__656___',\n",
    "                  '8__656_A__',\n",
    "                  '8__657___',\n",
    "                  '8__659___']\n",
    "selected_lines = ['8__658___',\n",
    "                  '8__656___',\n",
    "                  '8__656_A__',\n",
    "                  '8__563___',\n",
    "                  '8__657___',\n",
    "                  '8__659___']\n",
    "ppi[ppi['IDFLINEA'].isin(selected_lines)]['IDFESTACION'].value_counts()"
   ]
  },
  {
   "cell_type": "code",
   "execution_count": 57,
   "metadata": {
    "ExecuteTime": {
     "end_time": "2020-02-23T20:59:14.102923Z",
     "start_time": "2020-02-23T20:59:14.094638Z"
    }
   },
   "outputs": [],
   "source": [
    "unique_selected_stops = ppi[ppi['IDFLINEA'].isin(selected_lines)]['IDFESTACION'].unique()\n",
    "with open('selected_stops', 'w') as f:\n",
    "    f.write('\\n'.join(unique_selected_stops))"
   ]
  },
  {
   "cell_type": "code",
   "execution_count": 58,
   "metadata": {
    "ExecuteTime": {
     "end_time": "2020-02-23T20:59:15.618881Z",
     "start_time": "2020-02-23T20:59:14.104891Z"
    }
   },
   "outputs": [],
   "source": [
    "file_path = 'm8_estaciones.geojson'\n",
    "\n",
    "if not os.path.exists(file_path):\n",
    "  url = 'https://opendata.arcgis.com/datasets/19884a02ac044270b91fa478d80f7858_0.geojson'\n",
    "  r = requests.get(url)\n",
    "  with open(file_path, 'w') as f:\n",
    "    f.write(r.content.decode(\"utf-8\"))\n",
    "\n",
    "#with open(file_path, 'r') as f:\n",
    "stations = gpd.read_file(file_path)"
   ]
  },
  {
   "cell_type": "code",
   "execution_count": 59,
   "metadata": {
    "ExecuteTime": {
     "end_time": "2020-02-23T20:59:15.626859Z",
     "start_time": "2020-02-23T20:59:15.620022Z"
    }
   },
   "outputs": [
    {
     "data": {
      "text/plain": [
       "285"
      ]
     },
     "execution_count": 59,
     "metadata": {},
     "output_type": "execute_result"
    }
   ],
   "source": [
    "selected_stations = stations[stations['IDESTACION'].isin(unique_selected_stops)]\n",
    "len(selected_stations)"
   ]
  },
  {
   "cell_type": "code",
   "execution_count": 60,
   "metadata": {
    "ExecuteTime": {
     "end_time": "2020-02-23T20:59:15.779929Z",
     "start_time": "2020-02-23T20:59:15.628475Z"
    }
   },
   "outputs": [
    {
     "data": {
      "application/vnd.jupyter.widget-view+json": {
       "model_id": "1dd51aff68754c9b892034b500a81caa",
       "version_major": 2,
       "version_minor": 0
      },
      "text/plain": [
       "Map(center=[40.416775, -3.70379], controls=(ZoomControl(options=['position', 'zoom_in_text', 'zoom_in_title', …"
      ]
     },
     "metadata": {},
     "output_type": "display_data"
    }
   ],
   "source": [
    "# Create a map\n",
    "m = Map(center=(40.416775, -3.703790), zoom=10)\n",
    "\n",
    "#geo_json = MarkerCluster(GeoJSON(data=data, style = {'color': 'green', 'opacity':1, 'weight':1.9, 'dashArray':'9', 'fillOpacity':0.1}))\n",
    "#m.add_layer(geo_json)\n",
    "\n",
    "geo_stops = GeoData(geo_dataframe = selected_stations)\n",
    "\n",
    "m.add_layer(geo_stops)\n",
    "\n",
    "# Display the map (if you dare)\n",
    "m"
   ]
  }
 ],
 "metadata": {
  "kernelspec": {
   "display_name": "Python 3",
   "language": "python",
   "name": "python3"
  },
  "language_info": {
   "codemirror_mode": {
    "name": "ipython",
    "version": 3
   },
   "file_extension": ".py",
   "mimetype": "text/x-python",
   "name": "python",
   "nbconvert_exporter": "python",
   "pygments_lexer": "ipython3",
   "version": "3.7.4"
  },
  "toc": {
   "base_numbering": 1,
   "nav_menu": {},
   "number_sections": true,
   "sideBar": true,
   "skip_h1_title": false,
   "title_cell": "Table of Contents",
   "title_sidebar": "Contents",
   "toc_cell": false,
   "toc_position": {},
   "toc_section_display": true,
   "toc_window_display": false
  },
  "varInspector": {
   "cols": {
    "lenName": 16,
    "lenType": 16,
    "lenVar": 40
   },
   "kernels_config": {
    "python": {
     "delete_cmd_postfix": "",
     "delete_cmd_prefix": "del ",
     "library": "var_list.py",
     "varRefreshCmd": "print(var_dic_list())"
    },
    "r": {
     "delete_cmd_postfix": ") ",
     "delete_cmd_prefix": "rm(",
     "library": "var_list.r",
     "varRefreshCmd": "cat(var_dic_list()) "
    }
   },
   "types_to_exclude": [
    "module",
    "function",
    "builtin_function_or_method",
    "instance",
    "_Feature"
   ],
   "window_display": false
  }
 },
 "nbformat": 4,
 "nbformat_minor": 4
}
