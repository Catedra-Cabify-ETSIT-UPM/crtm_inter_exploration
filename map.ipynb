{
 "cells": [
  {
   "cell_type": "code",
   "execution_count": 1,
   "metadata": {
    "ExecuteTime": {
     "end_time": "2020-02-19T11:15:47.407944Z",
     "start_time": "2020-02-19T11:15:47.224286Z"
    },
    "scrolled": true
   },
   "outputs": [],
   "source": [
    "import pandas as pd\n",
    "import numpy as np\n",
    "import urllib.request\n",
    "import os"
   ]
  },
  {
   "cell_type": "code",
   "execution_count": 2,
   "metadata": {
    "ExecuteTime": {
     "end_time": "2020-02-19T11:15:47.502325Z",
     "start_time": "2020-02-19T11:15:47.409038Z"
    }
   },
   "outputs": [],
   "source": [
    "%matplotlib inline"
   ]
  },
  {
   "cell_type": "code",
   "execution_count": 3,
   "metadata": {
    "ExecuteTime": {
     "end_time": "2020-02-19T11:15:47.507917Z",
     "start_time": "2020-02-19T11:15:47.504491Z"
    }
   },
   "outputs": [],
   "source": [
    "# Download the file from `url` and save it locally under `gtfs.zip`, then extract:\n",
    "def gtfs_downloader(url):\n",
    "    file_name = 'gtfs.zip'\n",
    "    urllib.request.urlretrieve(url, file_name)\n",
    "    import zipfile\n",
    "    with zipfile.ZipFile(file_name,\"r\") as zip_ref:\n",
    "        zip_ref.extractall(\"gtfs/\")"
   ]
  },
  {
   "cell_type": "code",
   "execution_count": 4,
   "metadata": {
    "ExecuteTime": {
     "end_time": "2020-02-19T11:15:47.512612Z",
     "start_time": "2020-02-19T11:15:47.509942Z"
    }
   },
   "outputs": [],
   "source": [
    "#Give the URL of the TransitFeeds gtfs you want to analyze and create dataframes.\n",
    "url = 'https://www.arcgis.com/sharing/rest/content/items/885399f83408473c8d815e40c5e702b7/data'\n",
    "if (not os.path.isdir('./gtfs')):\n",
    "    gtfs_downloader(url)"
   ]
  },
  {
   "cell_type": "code",
   "execution_count": 5,
   "metadata": {
    "ExecuteTime": {
     "end_time": "2020-02-19T11:15:47.632114Z",
     "start_time": "2020-02-19T11:15:47.514540Z"
    }
   },
   "outputs": [],
   "source": [
    "trips = pd.read_csv('gtfs/trips.txt')"
   ]
  },
  {
   "cell_type": "code",
   "execution_count": 6,
   "metadata": {
    "ExecuteTime": {
     "end_time": "2020-02-19T11:15:47.647597Z",
     "start_time": "2020-02-19T11:15:47.633796Z"
    }
   },
   "outputs": [
    {
     "data": {
      "text/html": [
       "<div>\n",
       "<style scoped>\n",
       "    .dataframe tbody tr th:only-of-type {\n",
       "        vertical-align: middle;\n",
       "    }\n",
       "\n",
       "    .dataframe tbody tr th {\n",
       "        vertical-align: top;\n",
       "    }\n",
       "\n",
       "    .dataframe thead th {\n",
       "        text-align: right;\n",
       "    }\n",
       "</style>\n",
       "<table border=\"1\" class=\"dataframe\">\n",
       "  <thead>\n",
       "    <tr style=\"text-align: right;\">\n",
       "      <th></th>\n",
       "      <th>route_id</th>\n",
       "      <th>service_id</th>\n",
       "      <th>trip_id</th>\n",
       "      <th>trip_headsign</th>\n",
       "      <th>trip_short_name</th>\n",
       "      <th>direction_id</th>\n",
       "      <th>block_id</th>\n",
       "      <th>shape_id</th>\n",
       "      <th>wheelchair_accessible</th>\n",
       "    </tr>\n",
       "  </thead>\n",
       "  <tbody>\n",
       "    <tr>\n",
       "      <th>0</th>\n",
       "      <td>8__151___</td>\n",
       "      <td>201_8__151___</td>\n",
       "      <td>201_8__151___-8__151____1_05:30:00_2_s.__1_8__...</td>\n",
       "      <td>INTERCAMBIADOR DE PLAZA CASTILLA</td>\n",
       "      <td>Sale/llega a superficie</td>\n",
       "      <td>1</td>\n",
       "      <td>NaN</td>\n",
       "      <td>8__151____2_s._IT_2</td>\n",
       "      <td>0</td>\n",
       "    </tr>\n",
       "    <tr>\n",
       "      <th>1</th>\n",
       "      <td>8__151___</td>\n",
       "      <td>201_8__151___</td>\n",
       "      <td>201_8__151___-8__151____1_06:00:00_1_s.__1_8__...</td>\n",
       "      <td>AV.ESPAÑA-EST.ALCOBENDAS-S.S.REYES</td>\n",
       "      <td>151 ALCOBENDAS</td>\n",
       "      <td>0</td>\n",
       "      <td>NaN</td>\n",
       "      <td>8__151____1_s._IT_2</td>\n",
       "      <td>0</td>\n",
       "    </tr>\n",
       "    <tr>\n",
       "      <th>2</th>\n",
       "      <td>8__151___</td>\n",
       "      <td>201_8__151___</td>\n",
       "      <td>201_8__151___-8__151____1_06:30:00_2_-__4_8__1...</td>\n",
       "      <td>INTERCAMBIADOR DE PLAZA CASTILLA</td>\n",
       "      <td>151 MADRID (Pza. Castilla)</td>\n",
       "      <td>1</td>\n",
       "      <td>NaN</td>\n",
       "      <td>8__151____2_-_IT_1</td>\n",
       "      <td>0</td>\n",
       "    </tr>\n",
       "    <tr>\n",
       "      <th>3</th>\n",
       "      <td>8__151___</td>\n",
       "      <td>201_8__151___</td>\n",
       "      <td>201_8__151___-8__151____1_07:20:00_1_-__5_8__1...</td>\n",
       "      <td>AV.ESPAÑA-EST.ALCOBENDAS-S.S.REYES</td>\n",
       "      <td>151 ALCOBENDAS</td>\n",
       "      <td>0</td>\n",
       "      <td>NaN</td>\n",
       "      <td>8__151____1_-_IT_1</td>\n",
       "      <td>0</td>\n",
       "    </tr>\n",
       "    <tr>\n",
       "      <th>4</th>\n",
       "      <td>8__151___</td>\n",
       "      <td>201_8__151___</td>\n",
       "      <td>201_8__151___-8__151____1_07:50:00_2_-__8_8__1...</td>\n",
       "      <td>INTERCAMBIADOR DE PLAZA CASTILLA</td>\n",
       "      <td>151 MADRID (Pza. Castilla)</td>\n",
       "      <td>1</td>\n",
       "      <td>NaN</td>\n",
       "      <td>8__151____2_-_IT_1</td>\n",
       "      <td>0</td>\n",
       "    </tr>\n",
       "  </tbody>\n",
       "</table>\n",
       "</div>"
      ],
      "text/plain": [
       "    route_id     service_id  \\\n",
       "0  8__151___  201_8__151___   \n",
       "1  8__151___  201_8__151___   \n",
       "2  8__151___  201_8__151___   \n",
       "3  8__151___  201_8__151___   \n",
       "4  8__151___  201_8__151___   \n",
       "\n",
       "                                             trip_id  \\\n",
       "0  201_8__151___-8__151____1_05:30:00_2_s.__1_8__...   \n",
       "1  201_8__151___-8__151____1_06:00:00_1_s.__1_8__...   \n",
       "2  201_8__151___-8__151____1_06:30:00_2_-__4_8__1...   \n",
       "3  201_8__151___-8__151____1_07:20:00_1_-__5_8__1...   \n",
       "4  201_8__151___-8__151____1_07:50:00_2_-__8_8__1...   \n",
       "\n",
       "                        trip_headsign             trip_short_name  \\\n",
       "0    INTERCAMBIADOR DE PLAZA CASTILLA     Sale/llega a superficie   \n",
       "1  AV.ESPAÑA-EST.ALCOBENDAS-S.S.REYES              151 ALCOBENDAS   \n",
       "2    INTERCAMBIADOR DE PLAZA CASTILLA  151 MADRID (Pza. Castilla)   \n",
       "3  AV.ESPAÑA-EST.ALCOBENDAS-S.S.REYES              151 ALCOBENDAS   \n",
       "4    INTERCAMBIADOR DE PLAZA CASTILLA  151 MADRID (Pza. Castilla)   \n",
       "\n",
       "   direction_id  block_id             shape_id  wheelchair_accessible  \n",
       "0             1       NaN  8__151____2_s._IT_2                      0  \n",
       "1             0       NaN  8__151____1_s._IT_2                      0  \n",
       "2             1       NaN   8__151____2_-_IT_1                      0  \n",
       "3             0       NaN   8__151____1_-_IT_1                      0  \n",
       "4             1       NaN   8__151____2_-_IT_1                      0  "
      ]
     },
     "execution_count": 6,
     "metadata": {},
     "output_type": "execute_result"
    }
   ],
   "source": [
    "trips.head()"
   ]
  },
  {
   "cell_type": "code",
   "execution_count": 7,
   "metadata": {
    "ExecuteTime": {
     "end_time": "2020-02-19T11:16:15.592737Z",
     "start_time": "2020-02-19T11:15:47.649285Z"
    }
   },
   "outputs": [
    {
     "name": "stderr",
     "output_type": "stream",
     "text": [
      "/opt/conda/lib/python3.7/site-packages/pyproj/crs.py:77: FutureWarning: '+init=<authority>:<code>' syntax is deprecated. '<authority>:<code>' is the preferred initialization method.\n",
      "  return _prepare_from_string(\" \".join(pjargs))\n"
     ]
    },
    {
     "data": {
      "text/html": [
       "<div>\n",
       "<style scoped>\n",
       "    .dataframe tbody tr th:only-of-type {\n",
       "        vertical-align: middle;\n",
       "    }\n",
       "\n",
       "    .dataframe tbody tr th {\n",
       "        vertical-align: top;\n",
       "    }\n",
       "\n",
       "    .dataframe thead th {\n",
       "        text-align: right;\n",
       "    }\n",
       "</style>\n",
       "<table border=\"1\" class=\"dataframe\">\n",
       "  <thead>\n",
       "    <tr style=\"text-align: right;\">\n",
       "      <th></th>\n",
       "      <th>shape_id</th>\n",
       "      <th>geometry</th>\n",
       "    </tr>\n",
       "  </thead>\n",
       "  <tbody>\n",
       "    <tr>\n",
       "      <th>0</th>\n",
       "      <td>8_N_101____1_-_IT_1</td>\n",
       "      <td>LINESTRING (-3.68892 40.46804, -3.68888 40.468...</td>\n",
       "    </tr>\n",
       "    <tr>\n",
       "      <th>1</th>\n",
       "      <td>8_N_101____2_-_IT_1</td>\n",
       "      <td>LINESTRING (-3.64021 40.53059, -3.63992 40.530...</td>\n",
       "    </tr>\n",
       "    <tr>\n",
       "      <th>2</th>\n",
       "      <td>8_N_102____1_-_IT_1</td>\n",
       "      <td>LINESTRING (-3.68900 40.46776, -3.68888 40.468...</td>\n",
       "    </tr>\n",
       "    <tr>\n",
       "      <th>3</th>\n",
       "      <td>8_N_102____2_-_IT_1</td>\n",
       "      <td>LINESTRING (-3.61815 40.54068, -3.61756 40.541...</td>\n",
       "    </tr>\n",
       "    <tr>\n",
       "      <th>4</th>\n",
       "      <td>8_N_103____1_-_IT_1</td>\n",
       "      <td>LINESTRING (-3.68907 40.46751, -3.68900 40.467...</td>\n",
       "    </tr>\n",
       "  </tbody>\n",
       "</table>\n",
       "</div>"
      ],
      "text/plain": [
       "              shape_id                                           geometry\n",
       "0  8_N_101____1_-_IT_1  LINESTRING (-3.68892 40.46804, -3.68888 40.468...\n",
       "1  8_N_101____2_-_IT_1  LINESTRING (-3.64021 40.53059, -3.63992 40.530...\n",
       "2  8_N_102____1_-_IT_1  LINESTRING (-3.68900 40.46776, -3.68888 40.468...\n",
       "3  8_N_102____2_-_IT_1  LINESTRING (-3.61815 40.54068, -3.61756 40.541...\n",
       "4  8_N_103____1_-_IT_1  LINESTRING (-3.68907 40.46751, -3.68900 40.467..."
      ]
     },
     "execution_count": 7,
     "metadata": {},
     "output_type": "execute_result"
    }
   ],
   "source": [
    "import partridge as ptg\n",
    "\n",
    "inpath = 'gtfs'\n",
    "\n",
    "service_ids = ptg.read_busiest_date(inpath)[1]\n",
    "view = {'trips.txt': {'service_id': service_ids}}\n",
    "\n",
    "feed = ptg.load_geo_feed(inpath, view)\n",
    "\n",
    "feed.shapes.head()"
   ]
  },
  {
   "cell_type": "code",
   "execution_count": 8,
   "metadata": {
    "ExecuteTime": {
     "end_time": "2020-02-19T11:16:21.926535Z",
     "start_time": "2020-02-19T11:16:15.594335Z"
    }
   },
   "outputs": [
    {
     "data": {
      "text/html": [
       "<div>\n",
       "<style scoped>\n",
       "    .dataframe tbody tr th:only-of-type {\n",
       "        vertical-align: middle;\n",
       "    }\n",
       "\n",
       "    .dataframe tbody tr th {\n",
       "        vertical-align: top;\n",
       "    }\n",
       "\n",
       "    .dataframe thead th {\n",
       "        text-align: right;\n",
       "    }\n",
       "</style>\n",
       "<table border=\"1\" class=\"dataframe\">\n",
       "  <thead>\n",
       "    <tr style=\"text-align: right;\">\n",
       "      <th></th>\n",
       "      <th>stop_id</th>\n",
       "      <th>stop_code</th>\n",
       "      <th>stop_name</th>\n",
       "      <th>stop_desc</th>\n",
       "      <th>zone_id</th>\n",
       "      <th>stop_url</th>\n",
       "      <th>location_type</th>\n",
       "      <th>parent_station</th>\n",
       "      <th>stop_timezone</th>\n",
       "      <th>wheelchair_boarding</th>\n",
       "      <th>geometry</th>\n",
       "    </tr>\n",
       "  </thead>\n",
       "  <tbody>\n",
       "    <tr>\n",
       "      <th>0</th>\n",
       "      <td>par_8_06686</td>\n",
       "      <td>06686</td>\n",
       "      <td>AV.BURGOS-C.C.SANCHINARRO</td>\n",
       "      <td>Avda de Burgos 133</td>\n",
       "      <td>A</td>\n",
       "      <td>http://www.crtm.es</td>\n",
       "      <td>0</td>\n",
       "      <td>NaN</td>\n",
       "      <td>Europe/Madrid</td>\n",
       "      <td>2</td>\n",
       "      <td>POINT (-3.66300 40.49805)</td>\n",
       "    </tr>\n",
       "    <tr>\n",
       "      <th>1</th>\n",
       "      <td>par_8_06687</td>\n",
       "      <td>06687</td>\n",
       "      <td>AV.BURGOS-DOMINICOS</td>\n",
       "      <td>Avda de Burgos 11300</td>\n",
       "      <td>A</td>\n",
       "      <td>http://www.crtm.es</td>\n",
       "      <td>0</td>\n",
       "      <td>NaN</td>\n",
       "      <td>Europe/Madrid</td>\n",
       "      <td>2</td>\n",
       "      <td>POINT (-3.65995 40.50144)</td>\n",
       "    </tr>\n",
       "    <tr>\n",
       "      <th>2</th>\n",
       "      <td>par_8_06689</td>\n",
       "      <td>06689</td>\n",
       "      <td>CTRA.A1-CUESTA BLANCA</td>\n",
       "      <td>Ctra de Irún 13700</td>\n",
       "      <td>B1</td>\n",
       "      <td>http://www.crtm.es</td>\n",
       "      <td>0</td>\n",
       "      <td>NaN</td>\n",
       "      <td>Europe/Madrid</td>\n",
       "      <td>2</td>\n",
       "      <td>POINT (-3.65101 40.52177)</td>\n",
       "    </tr>\n",
       "    <tr>\n",
       "      <th>3</th>\n",
       "      <td>par_8_06690</td>\n",
       "      <td>06690</td>\n",
       "      <td>CTRA.IRÚN-CONCESIONARIO</td>\n",
       "      <td>Ctra de Irún 14700</td>\n",
       "      <td>B1</td>\n",
       "      <td>http://www.crtm.es</td>\n",
       "      <td>0</td>\n",
       "      <td>NaN</td>\n",
       "      <td>Europe/Madrid</td>\n",
       "      <td>2</td>\n",
       "      <td>POINT (-3.64186 40.53379)</td>\n",
       "    </tr>\n",
       "    <tr>\n",
       "      <th>4</th>\n",
       "      <td>par_8_06691</td>\n",
       "      <td>06691</td>\n",
       "      <td>AV.OLÍMPICA-C.C.LA VEGA</td>\n",
       "      <td>Avda   Olímpica 9</td>\n",
       "      <td>B1</td>\n",
       "      <td>http://www.crtm.es</td>\n",
       "      <td>0</td>\n",
       "      <td>NaN</td>\n",
       "      <td>Europe/Madrid</td>\n",
       "      <td>2</td>\n",
       "      <td>POINT (-3.63698 40.53525)</td>\n",
       "    </tr>\n",
       "  </tbody>\n",
       "</table>\n",
       "</div>"
      ],
      "text/plain": [
       "       stop_id stop_code                  stop_name             stop_desc  \\\n",
       "0  par_8_06686     06686  AV.BURGOS-C.C.SANCHINARRO    Avda de Burgos 133   \n",
       "1  par_8_06687     06687        AV.BURGOS-DOMINICOS  Avda de Burgos 11300   \n",
       "2  par_8_06689     06689      CTRA.A1-CUESTA BLANCA    Ctra de Irún 13700   \n",
       "3  par_8_06690     06690    CTRA.IRÚN-CONCESIONARIO    Ctra de Irún 14700   \n",
       "4  par_8_06691     06691    AV.OLÍMPICA-C.C.LA VEGA     Avda   Olímpica 9   \n",
       "\n",
       "  zone_id            stop_url  location_type parent_station  stop_timezone  \\\n",
       "0       A  http://www.crtm.es              0            NaN  Europe/Madrid   \n",
       "1       A  http://www.crtm.es              0            NaN  Europe/Madrid   \n",
       "2      B1  http://www.crtm.es              0            NaN  Europe/Madrid   \n",
       "3      B1  http://www.crtm.es              0            NaN  Europe/Madrid   \n",
       "4      B1  http://www.crtm.es              0            NaN  Europe/Madrid   \n",
       "\n",
       "   wheelchair_boarding                   geometry  \n",
       "0                    2  POINT (-3.66300 40.49805)  \n",
       "1                    2  POINT (-3.65995 40.50144)  \n",
       "2                    2  POINT (-3.65101 40.52177)  \n",
       "3                    2  POINT (-3.64186 40.53379)  \n",
       "4                    2  POINT (-3.63698 40.53525)  "
      ]
     },
     "execution_count": 8,
     "metadata": {},
     "output_type": "execute_result"
    }
   ],
   "source": [
    "feed.stops.head()"
   ]
  },
  {
   "cell_type": "code",
   "execution_count": 9,
   "metadata": {
    "ExecuteTime": {
     "end_time": "2020-02-19T11:16:22.987001Z",
     "start_time": "2020-02-19T11:16:21.928750Z"
    },
    "scrolled": true
   },
   "outputs": [
    {
     "data": {
      "text/plain": [
       "<matplotlib.axes._subplots.AxesSubplot at 0x7efbb094f650>"
      ]
     },
     "execution_count": 9,
     "metadata": {},
     "output_type": "execute_result"
    },
    {
     "data": {
      "image/png": "[encoded data removed]",
      "text/plain": [
       "<Figure size 432x288 with 1 Axes>"
      ]
     },
     "metadata": {
      "needs_background": "light"
     },
     "output_type": "display_data"
    }
   ],
   "source": [
    "feed.shapes.plot()"
   ]
  },
  {
   "cell_type": "code",
   "execution_count": 10,
   "metadata": {
    "ExecuteTime": {
     "end_time": "2020-02-19T11:16:23.421490Z",
     "start_time": "2020-02-19T11:16:22.988593Z"
    }
   },
   "outputs": [],
   "source": [
    "import folium\n",
    "from folium import Choropleth, Circle, Marker\n",
    "from folium.plugins import HeatMap, MarkerCluster"
   ]
  },
  {
   "cell_type": "code",
   "execution_count": 11,
   "metadata": {
    "ExecuteTime": {
     "end_time": "2020-02-19T11:16:23.427369Z",
     "start_time": "2020-02-19T11:16:23.423574Z"
    }
   },
   "outputs": [],
   "source": [
    "# Function for displaying the map\n",
    "def embed_map(m, file_name):\n",
    "    from IPython.display import IFrame\n",
    "    m.save(file_name)\n",
    "    return IFrame(file_name, width='100%', height='500px')"
   ]
  },
  {
   "cell_type": "code",
   "execution_count": 12,
   "metadata": {
    "ExecuteTime": {
     "end_time": "2020-02-19T11:16:23.892572Z",
     "start_time": "2020-02-19T11:16:23.429520Z"
    }
   },
   "outputs": [],
   "source": [
    "import os\n",
    "import json\n",
    "import requests\n",
    "from ipyleaflet import Map, GeoJSON, Choropleth, Marker, MarkerCluster, Popup\n",
    "from ipywidgets import HTML"
   ]
  },
  {
   "cell_type": "code",
   "execution_count": 13,
   "metadata": {
    "ExecuteTime": {
     "end_time": "2020-02-19T11:16:27.267931Z",
     "start_time": "2020-02-19T11:16:23.893799Z"
    }
   },
   "outputs": [],
   "source": [
    "file_path = 'm8_postes.json'\n",
    "\n",
    "if not os.path.exists(file_path):\n",
    "  #url = 'https://opendata.arcgis.com/datasets/19884a02ac044270b91fa478d80f7858_1.geojson'\n",
    "  url = 'https://opendata.arcgis.com/datasets/19884a02ac044270b91fa478d80f7858_2.geojson'\n",
    "  r = requests.get(url)\n",
    "  with open(file_path, 'w') as f:\n",
    "    f.write(r.content.decode(\"utf-8\"))\n",
    "\n",
    "with open(file_path, 'r') as f:\n",
    "  data = json.load(f)"
   ]
  },
  {
   "cell_type": "code",
   "execution_count": 14,
   "metadata": {
    "ExecuteTime": {
     "end_time": "2020-02-19T11:19:59.644094Z",
     "start_time": "2020-02-19T11:16:27.269836Z"
    }
   },
   "outputs": [],
   "source": [
    "# Create a map\n",
    "m = Map(center=(40.416775, -3.703790), zoom=10)\n",
    "\n",
    "#geo_json = MarkerCluster(GeoJSON(data=data, style = {'color': 'green', 'opacity':1, 'weight':1.9, 'dashArray':'9', 'fillOpacity':0.1}))\n",
    "#m.add_layer(geo_json)\n",
    "\n",
    "markers = [Marker(\n",
    "            location=(poste['geometry']['coordinates'][1], poste['geometry']['coordinates'][0]),\n",
    "            title=poste['properties']['CODIGOESTACION'],\n",
    "            draggable=False,\n",
    "            popup = HTML(description = \"Stop:\", value = poste['properties']['CODIGOESTACION'])\n",
    "            ) for poste in data['features']]\n",
    "\n",
    "\n",
    "marker_cluster = MarkerCluster(\n",
    "    markers = markers\n",
    ")\n",
    "\n",
    "m.add_layer(marker_cluster)\n",
    "\n",
    "# Display the map (if you dare)\n",
    "#m"
   ]
  }
 ],
 "metadata": {
  "kernelspec": {
   "display_name": "Python 3",
   "language": "python",
   "name": "python3"
  },
  "language_info": {
   "codemirror_mode": {
    "name": "ipython",
    "version": 3
   },
   "file_extension": ".py",
   "mimetype": "text/x-python",
   "name": "python",
   "nbconvert_exporter": "python",
   "pygments_lexer": "ipython3",
   "version": "3.7.6"
  },
  "toc": {
   "base_numbering": 1,
   "nav_menu": {},
   "number_sections": true,
   "sideBar": true,
   "skip_h1_title": false,
   "title_cell": "Table of Contents",
   "title_sidebar": "Contents",
   "toc_cell": false,
   "toc_position": {},
   "toc_section_display": true,
   "toc_window_display": false
  },
  "varInspector": {
   "cols": {
    "lenName": 16,
    "lenType": 16,
    "lenVar": 40
   },
   "kernels_config": {
    "python": {
     "delete_cmd_postfix": "",
     "delete_cmd_prefix": "del ",
     "library": "var_list.py",
     "varRefreshCmd": "print(var_dic_list())"
    },
    "r": {
     "delete_cmd_postfix": ") ",
     "delete_cmd_prefix": "rm(",
     "library": "var_list.r",
     "varRefreshCmd": "cat(var_dic_list()) "
    }
   },
   "types_to_exclude": [
    "module",
    "function",
    "builtin_function_or_method",
    "instance",
    "_Feature"
   ],
   "window_display": false
  }
 },
 "nbformat": 4,
 "nbformat_minor": 4
}
