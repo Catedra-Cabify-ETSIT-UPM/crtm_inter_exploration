{
 "cells": [
  {
   "cell_type": "code",
   "execution_count": 1,
   "metadata": {
    "ExecuteTime": {
     "end_time": "2020-03-26T18:31:36.816785Z",
     "start_time": "2020-03-26T18:31:36.097746Z"
    }
   },
   "outputs": [],
   "source": [
    "import pandas as pd # main data processing tool\n",
    "import datetime # for datetime object opperations\n",
    "import time # for measuring the processing time\n",
    "import plotly.express as px # for graphs"
   ]
  },
  {
   "cell_type": "code",
   "execution_count": 2,
   "metadata": {
    "ExecuteTime": {
     "end_time": "2020-03-26T18:31:54.664397Z",
     "start_time": "2020-03-26T18:31:36.819221Z"
    }
   },
   "outputs": [],
   "source": [
    "df = pd.read_csv(\n",
    "                     'out_parsed',\n",
    "                     parse_dates=['actual_date', 'eta'],\n",
    "                     nrows=1e6\n",
    "                     )"
   ]
  },
  {
   "cell_type": "code",
   "execution_count": 3,
   "metadata": {
    "ExecuteTime": {
     "end_time": "2020-03-26T18:31:54.679277Z",
     "start_time": "2020-03-26T18:31:54.665621Z"
    }
   },
   "outputs": [
    {
     "data": {
      "text/html": [
       "<div>\n",
       "<style scoped>\n",
       "    .dataframe tbody tr th:only-of-type {\n",
       "        vertical-align: middle;\n",
       "    }\n",
       "\n",
       "    .dataframe tbody tr th {\n",
       "        vertical-align: top;\n",
       "    }\n",
       "\n",
       "    .dataframe thead th {\n",
       "        text-align: right;\n",
       "    }\n",
       "</style>\n",
       "<table border=\"1\" class=\"dataframe\">\n",
       "  <thead>\n",
       "    <tr style=\"text-align: right;\">\n",
       "      <th></th>\n",
       "      <th>actual_date</th>\n",
       "      <th>cod_stop</th>\n",
       "      <th>cod_line</th>\n",
       "      <th>cod_issue</th>\n",
       "      <th>eta</th>\n",
       "      <th>destination_stop</th>\n",
       "    </tr>\n",
       "  </thead>\n",
       "  <tbody>\n",
       "    <tr>\n",
       "      <th>0</th>\n",
       "      <td>2020-02-15 17:45:40+01:00</td>\n",
       "      <td>8_23</td>\n",
       "      <td>8__629___</td>\n",
       "      <td>8__629____2_17:05:00_2_-__13_8__629___</td>\n",
       "      <td>2020-02-15 17:46:34+01:00</td>\n",
       "      <td>8_06002</td>\n",
       "    </tr>\n",
       "    <tr>\n",
       "      <th>1</th>\n",
       "      <td>2020-02-15 17:45:40+01:00</td>\n",
       "      <td>8_23</td>\n",
       "      <td>8__686___</td>\n",
       "      <td>5278458</td>\n",
       "      <td>2020-02-15 17:47:01+01:00</td>\n",
       "      <td>8_17480</td>\n",
       "    </tr>\n",
       "    <tr>\n",
       "      <th>2</th>\n",
       "      <td>2020-02-15 17:45:40+01:00</td>\n",
       "      <td>8_23</td>\n",
       "      <td>8__651___</td>\n",
       "      <td>5308556</td>\n",
       "      <td>2020-02-15 17:47:19+01:00</td>\n",
       "      <td>8_17480</td>\n",
       "    </tr>\n",
       "    <tr>\n",
       "      <th>3</th>\n",
       "      <td>2020-02-15 17:45:40+01:00</td>\n",
       "      <td>8_23</td>\n",
       "      <td>8__654___</td>\n",
       "      <td>5308548</td>\n",
       "      <td>2020-02-15 17:48:21+01:00</td>\n",
       "      <td>8_17480</td>\n",
       "    </tr>\n",
       "    <tr>\n",
       "      <th>4</th>\n",
       "      <td>2020-02-15 17:45:40+01:00</td>\n",
       "      <td>8_23</td>\n",
       "      <td>8__622___</td>\n",
       "      <td>8__622____2_17:00:00_2_-__17_8__622___</td>\n",
       "      <td>2020-02-15 17:48:56+01:00</td>\n",
       "      <td>8_06002</td>\n",
       "    </tr>\n",
       "  </tbody>\n",
       "</table>\n",
       "</div>"
      ],
      "text/plain": [
       "                actual_date cod_stop   cod_line  \\\n",
       "0 2020-02-15 17:45:40+01:00     8_23  8__629___   \n",
       "1 2020-02-15 17:45:40+01:00     8_23  8__686___   \n",
       "2 2020-02-15 17:45:40+01:00     8_23  8__651___   \n",
       "3 2020-02-15 17:45:40+01:00     8_23  8__654___   \n",
       "4 2020-02-15 17:45:40+01:00     8_23  8__622___   \n",
       "\n",
       "                                cod_issue                       eta  \\\n",
       "0  8__629____2_17:05:00_2_-__13_8__629___ 2020-02-15 17:46:34+01:00   \n",
       "1                                 5278458 2020-02-15 17:47:01+01:00   \n",
       "2                                 5308556 2020-02-15 17:47:19+01:00   \n",
       "3                                 5308548 2020-02-15 17:48:21+01:00   \n",
       "4  8__622____2_17:00:00_2_-__17_8__622___ 2020-02-15 17:48:56+01:00   \n",
       "\n",
       "  destination_stop  \n",
       "0          8_06002  \n",
       "1          8_17480  \n",
       "2          8_17480  \n",
       "3          8_17480  \n",
       "4          8_06002  "
      ]
     },
     "execution_count": 3,
     "metadata": {},
     "output_type": "execute_result"
    }
   ],
   "source": [
    "df.head()"
   ]
  },
  {
   "cell_type": "code",
   "execution_count": 4,
   "metadata": {
    "ExecuteTime": {
     "end_time": "2020-03-26T18:31:54.687269Z",
     "start_time": "2020-03-26T18:31:54.681339Z"
    }
   },
   "outputs": [],
   "source": [
    "def count_bursts(group, mode, bursts_count):\n",
    "    burst_size = len(group)\n",
    "    cod_issue = group.iloc[0]['cod_issue']\n",
    "    cod_stop = group.iloc[0]['cod_stop']\n",
    "    cod_line = group.iloc[0]['cod_line']\n",
    "    if (group.iloc[0]['eta'] == mode and burst_size >= 2):\n",
    "        static = True\n",
    "    else:\n",
    "        static = False\n",
    "    bursts_count.append({\n",
    "                            'len': burst_size,\n",
    "                            'cod_issue': cod_issue,\n",
    "                            'cod_stop': cod_stop,\n",
    "                            'cod_line': cod_line,\n",
    "                            'static': static\n",
    "                         })"
   ]
  },
  {
   "cell_type": "code",
   "execution_count": 5,
   "metadata": {
    "ExecuteTime": {
     "end_time": "2020-03-26T18:31:54.692108Z",
     "start_time": "2020-03-26T18:31:54.688672Z"
    }
   },
   "outputs": [],
   "source": [
    "def add_static_column(df, burst_threshold, mode):\n",
    "    \"\"\"Adds a column to the DataFrame with a boolean value\n",
    "    depending on if the row's ETA was marked as sttic or not.\"\"\"\n",
    "    df['static'] = (False if\n",
    "                             (not (len(df) >= burst_threshold and df.iloc[0]['eta'] == mode))\n",
    "                          else True)\n",
    "    return df"
   ]
  },
  {
   "cell_type": "code",
   "execution_count": 6,
   "metadata": {
    "ExecuteTime": {
     "end_time": "2020-03-26T18:31:54.698966Z",
     "start_time": "2020-03-26T18:31:54.693529Z"
    }
   },
   "outputs": [],
   "source": [
    "def filter_static_values(df, bursts_count):\n",
    "    \"\"\"Remove the static ETA values from a DataFrame.\n",
    "    The DataFrame must only contain information about a specific trip.\n",
    "    The static values are those whose ETA value is equal to the one of the\n",
    "    largest group of same consecutive ETA value and are before or after\n",
    "    another row with the same ETA.\n",
    "    \n",
    "    Keyword arguments:\n",
    "    df -- Pandas DataFrame with the ETA's\n",
    "    \n",
    "    Output:\n",
    "    df -- filtered DataFrame\n",
    "    \"\"\"\n",
    "    \n",
    "    # Sort by actual_date and group by \"bursts\" of same ETA\n",
    "    df_grouped = (df\n",
    "                    .sort_values(['actual_date'], ascending=[True])\n",
    "                    .groupby((df.shift()['eta'] != df['eta']).cumsum())\n",
    "                 )\n",
    "    # Get the ETA value of the first \"burst\"\n",
    "    try:\n",
    "        mode = (df_grouped\n",
    "                          .filter(lambda x: len(x) >= 3)\n",
    "                          .iloc[0]['eta']\n",
    "                )\n",
    "    except IndexError:\n",
    "            mode = ''\n",
    "        \n",
    "    df_grouped.apply(lambda x: count_bursts(x, mode, bursts_count))\n",
    "    # Return the values with a 'static' column\n",
    "    return (df_grouped.apply(lambda x: add_static_column(x, 2, mode)))"
   ]
  },
  {
   "cell_type": "code",
   "execution_count": 7,
   "metadata": {
    "ExecuteTime": {
     "end_time": "2020-03-26T18:31:54.702517Z",
     "start_time": "2020-03-26T18:31:54.700668Z"
    }
   },
   "outputs": [],
   "source": [
    "bursts_count = []\n",
    "#{\n",
    "#    'len': 0,\n",
    "#    'cod_issue': '',\n",
    "#    'static': False\n",
    "#}"
   ]
  },
  {
   "cell_type": "code",
   "execution_count": 8,
   "metadata": {
    "ExecuteTime": {
     "end_time": "2020-03-26T18:31:55.067102Z",
     "start_time": "2020-03-26T18:31:54.704820Z"
    }
   },
   "outputs": [],
   "source": [
    "df['remaining_seconds'] = df['eta'] - df['actual_date']\n",
    "df['eta_date'] = df['eta'].dt.day\n",
    "test_df = df[df['remaining_seconds'] < pd.Timedelta(100, unit='m')]\n",
    "test_df_grouped = test_df.groupby(['cod_issue', 'cod_stop', 'cod_line', 'eta_date'])"
   ]
  },
  {
   "cell_type": "code",
   "execution_count": 9,
   "metadata": {
    "ExecuteTime": {
     "end_time": "2020-03-26T18:31:55.070857Z",
     "start_time": "2020-03-26T18:31:55.068544Z"
    }
   },
   "outputs": [],
   "source": [
    "# klk = test_df_grouped.get_group((list(test_df_grouped.groups)[0]))\n",
    "# #print(klk)\n",
    "# df_grouped = (klk\n",
    "#                     .sort_values(['actual_date'], ascending=[True])\n",
    "#                     .groupby((df.shift()['eta'] != df['eta']).cumsum())\n",
    "#                  )\n",
    "# try:\n",
    "#         mode = (df_grouped\n",
    "#                           .filter(lambda x: len(x) >= 10)\n",
    "#                           .iloc[0]['eta']\n",
    "#                 )\n",
    "# except IndexError:\n",
    "#         mode = ''\n",
    "\n",
    "# print(\"mode: \" + str(mode))\n",
    "# kk = []\n",
    "# #df_grouped.apply(lambda x: print(x))\n",
    "# df_grouped.apply(lambda x: count_bursts(x, mode, kk))\n",
    "                 \n",
    "# kk = df_grouped.apply(lambda x: add_static_column(x, 2, mode))"
   ]
  },
  {
   "cell_type": "code",
   "execution_count": null,
   "metadata": {
    "ExecuteTime": {
     "start_time": "2020-03-26T18:31:22.648Z"
    }
   },
   "outputs": [],
   "source": [
    "test_df = test_df_grouped.apply(lambda x: filter_static_values(x, bursts_count)).reset_index(drop=True)"
   ]
  },
  {
   "cell_type": "code",
   "execution_count": null,
   "metadata": {
    "ExecuteTime": {
     "start_time": "2020-03-26T18:31:22.649Z"
    }
   },
   "outputs": [],
   "source": [
    "#bursts_count"
   ]
  },
  {
   "cell_type": "code",
   "execution_count": null,
   "metadata": {
    "ExecuteTime": {
     "start_time": "2020-03-26T18:31:22.652Z"
    }
   },
   "outputs": [],
   "source": [
    "bursts_count_df = pd.DataFrame(bursts_count)\n",
    "bursts_count_df"
   ]
  },
  {
   "cell_type": "code",
   "execution_count": null,
   "metadata": {
    "ExecuteTime": {
     "start_time": "2020-03-26T18:31:22.654Z"
    }
   },
   "outputs": [],
   "source": [
    "bursts_count_df['len'].value_counts()"
   ]
  },
  {
   "cell_type": "code",
   "execution_count": null,
   "metadata": {
    "ExecuteTime": {
     "start_time": "2020-03-26T18:31:22.656Z"
    },
    "scrolled": false
   },
   "outputs": [],
   "source": [
    "fig = px.histogram(\n",
    "                   bursts_count_df,\n",
    "                   x='len',\n",
    "                   color='static',\n",
    "                   color_discrete_map={\n",
    "                         True: \"red\",\n",
    "                         False: \"green\"},\n",
    "                   )\n",
    "fig.show()"
   ]
  },
  {
   "cell_type": "code",
   "execution_count": null,
   "metadata": {
    "ExecuteTime": {
     "start_time": "2020-03-26T18:31:22.659Z"
    },
    "scrolled": false
   },
   "outputs": [],
   "source": [
    "for n in range(10):\n",
    "#     selected_trip = (bursts_count_df\n",
    "#                                     .query(\"static == False\")\n",
    "#                                     .query(\"cod_line == '8__563___'\")\n",
    "#                                     .sort_values(by='len', ascending=False)\n",
    "#                                     .iloc[n]\n",
    "#                      )\n",
    "    selected_trip = (bursts_count_df\n",
    "                                    .query(\"static == False\")\n",
    "                                    .query(\"cod_line == '8__656___'\")\n",
    "                                    .sample()\n",
    "                                    .iloc[0]\n",
    "                    )\n",
    "    plot_df = test_df[(test_df['cod_issue'] == selected_trip['cod_issue']) & (test_df['cod_stop'] == selected_trip['cod_stop'])]\n",
    "\n",
    "    fig = px.scatter(\n",
    "                     plot_df,\n",
    "                     x='actual_date',\n",
    "                     y='eta',\n",
    "                     color='static',\n",
    "                     color_discrete_map={\n",
    "                         True: \"red\",\n",
    "                         False: \"green\"},\n",
    "                     hover_data=[\n",
    "                                 plot_df['eta'].dt.minute,\n",
    "                                 plot_df['eta'].dt.second\n",
    "                                 ]\n",
    "                     )\n",
    "    # Edit the layout\n",
    "    fig.update_layout(title='ETA over time',\n",
    "                      xaxis_title='Sample collection time',\n",
    "                      yaxis_title='ETA')\n",
    "    fig.show()"
   ]
  },
  {
   "cell_type": "code",
   "execution_count": null,
   "metadata": {
    "ExecuteTime": {
     "start_time": "2020-03-26T18:31:22.660Z"
    }
   },
   "outputs": [],
   "source": [
    "#plot_df"
   ]
  }
 ],
 "metadata": {
  "kernelspec": {
   "display_name": "Python 3",
   "language": "python",
   "name": "python3"
  },
  "language_info": {
   "codemirror_mode": {
    "name": "ipython",
    "version": 3
   },
   "file_extension": ".py",
   "mimetype": "text/x-python",
   "name": "python",
   "nbconvert_exporter": "python",
   "pygments_lexer": "ipython3",
   "version": "3.7.6"
  },
  "toc": {
   "base_numbering": 1,
   "nav_menu": {},
   "number_sections": true,
   "sideBar": true,
   "skip_h1_title": false,
   "title_cell": "Table of Contents",
   "title_sidebar": "Contents",
   "toc_cell": false,
   "toc_position": {},
   "toc_section_display": true,
   "toc_window_display": false
  },
  "varInspector": {
   "cols": {
    "lenName": 16,
    "lenType": 16,
    "lenVar": 40
   },
   "kernels_config": {
    "python": {
     "delete_cmd_postfix": "",
     "delete_cmd_prefix": "del ",
     "library": "var_list.py",
     "varRefreshCmd": "print(var_dic_list())"
    },
    "r": {
     "delete_cmd_postfix": ") ",
     "delete_cmd_prefix": "rm(",
     "library": "var_list.r",
     "varRefreshCmd": "cat(var_dic_list()) "
    }
   },
   "types_to_exclude": [
    "module",
    "function",
    "builtin_function_or_method",
    "instance",
    "_Feature"
   ],
   "window_display": false
  }
 },
 "nbformat": 4,
 "nbformat_minor": 4
}
