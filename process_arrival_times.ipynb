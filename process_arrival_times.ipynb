{
 "cells": [
  {
   "cell_type": "code",
   "execution_count": 1,
   "metadata": {
    "ExecuteTime": {
     "end_time": "2020-03-02T18:00:56.971859Z",
     "start_time": "2020-03-02T18:00:56.875390Z"
    },
    "execution": {
     "iopub.execute_input": "2020-03-02T17:59:14.034852Z",
     "iopub.status.busy": "2020-03-02T17:59:14.034583Z",
     "iopub.status.idle": "2020-03-02T17:59:14.038622Z",
     "shell.execute_reply": "2020-03-02T17:59:14.037717Z",
     "shell.execute_reply.started": "2020-03-02T17:59:14.034822Z"
    }
   },
   "outputs": [],
   "source": [
    "import pandas as pd\n",
    "import datetime"
   ]
  },
  {
   "cell_type": "code",
   "execution_count": 2,
   "metadata": {
    "ExecuteTime": {
     "end_time": "2020-03-02T18:17:02.225121Z",
     "start_time": "2020-03-02T18:00:56.973815Z"
    }
   },
   "outputs": [],
   "source": [
    "df = pd.read_csv('out_parsed', parse_dates=['actual_date', 'eta'])"
   ]
  },
  {
   "cell_type": "code",
   "execution_count": 3,
   "metadata": {
    "ExecuteTime": {
     "end_time": "2020-03-02T18:17:04.785642Z",
     "start_time": "2020-03-02T18:17:02.231492Z"
    }
   },
   "outputs": [
    {
     "data": {
      "text/html": [
       "<div>\n",
       "<style scoped>\n",
       "    .dataframe tbody tr th:only-of-type {\n",
       "        vertical-align: middle;\n",
       "    }\n",
       "\n",
       "    .dataframe tbody tr th {\n",
       "        vertical-align: top;\n",
       "    }\n",
       "\n",
       "    .dataframe thead th {\n",
       "        text-align: right;\n",
       "    }\n",
       "</style>\n",
       "<table border=\"1\" class=\"dataframe\">\n",
       "  <thead>\n",
       "    <tr style=\"text-align: right;\">\n",
       "      <th></th>\n",
       "      <th>actual_date</th>\n",
       "      <th>cod_stop</th>\n",
       "      <th>cod_line</th>\n",
       "      <th>cod_issue</th>\n",
       "      <th>eta</th>\n",
       "      <th>destination_stop</th>\n",
       "      <th>remaining_seconds</th>\n",
       "      <th>eta_date</th>\n",
       "    </tr>\n",
       "  </thead>\n",
       "  <tbody>\n",
       "    <tr>\n",
       "      <th>0</th>\n",
       "      <td>2020-02-15 17:45:40+01:00</td>\n",
       "      <td>8_23</td>\n",
       "      <td>8__629___</td>\n",
       "      <td>8__629____2_17:05:00_2_-__13_8__629___</td>\n",
       "      <td>2020-02-15 17:46:34+01:00</td>\n",
       "      <td>8_06002</td>\n",
       "      <td>00:00:54</td>\n",
       "      <td>15</td>\n",
       "    </tr>\n",
       "    <tr>\n",
       "      <th>1</th>\n",
       "      <td>2020-02-15 17:45:40+01:00</td>\n",
       "      <td>8_23</td>\n",
       "      <td>8__686___</td>\n",
       "      <td>5278458</td>\n",
       "      <td>2020-02-15 17:47:01+01:00</td>\n",
       "      <td>8_17480</td>\n",
       "      <td>00:01:21</td>\n",
       "      <td>15</td>\n",
       "    </tr>\n",
       "    <tr>\n",
       "      <th>2</th>\n",
       "      <td>2020-02-15 17:45:40+01:00</td>\n",
       "      <td>8_23</td>\n",
       "      <td>8__651___</td>\n",
       "      <td>5308556</td>\n",
       "      <td>2020-02-15 17:47:19+01:00</td>\n",
       "      <td>8_17480</td>\n",
       "      <td>00:01:39</td>\n",
       "      <td>15</td>\n",
       "    </tr>\n",
       "    <tr>\n",
       "      <th>3</th>\n",
       "      <td>2020-02-15 17:45:40+01:00</td>\n",
       "      <td>8_23</td>\n",
       "      <td>8__654___</td>\n",
       "      <td>5308548</td>\n",
       "      <td>2020-02-15 17:48:21+01:00</td>\n",
       "      <td>8_17480</td>\n",
       "      <td>00:02:41</td>\n",
       "      <td>15</td>\n",
       "    </tr>\n",
       "    <tr>\n",
       "      <th>4</th>\n",
       "      <td>2020-02-15 17:45:40+01:00</td>\n",
       "      <td>8_23</td>\n",
       "      <td>8__622___</td>\n",
       "      <td>8__622____2_17:00:00_2_-__17_8__622___</td>\n",
       "      <td>2020-02-15 17:48:56+01:00</td>\n",
       "      <td>8_06002</td>\n",
       "      <td>00:03:16</td>\n",
       "      <td>15</td>\n",
       "    </tr>\n",
       "  </tbody>\n",
       "</table>\n",
       "</div>"
      ],
      "text/plain": [
       "                actual_date cod_stop   cod_line  \\\n",
       "0 2020-02-15 17:45:40+01:00     8_23  8__629___   \n",
       "1 2020-02-15 17:45:40+01:00     8_23  8__686___   \n",
       "2 2020-02-15 17:45:40+01:00     8_23  8__651___   \n",
       "3 2020-02-15 17:45:40+01:00     8_23  8__654___   \n",
       "4 2020-02-15 17:45:40+01:00     8_23  8__622___   \n",
       "\n",
       "                                cod_issue                       eta  \\\n",
       "0  8__629____2_17:05:00_2_-__13_8__629___ 2020-02-15 17:46:34+01:00   \n",
       "1                                 5278458 2020-02-15 17:47:01+01:00   \n",
       "2                                 5308556 2020-02-15 17:47:19+01:00   \n",
       "3                                 5308548 2020-02-15 17:48:21+01:00   \n",
       "4  8__622____2_17:00:00_2_-__17_8__622___ 2020-02-15 17:48:56+01:00   \n",
       "\n",
       "  destination_stop remaining_seconds  eta_date  \n",
       "0          8_06002          00:00:54        15  \n",
       "1          8_17480          00:01:21        15  \n",
       "2          8_17480          00:01:39        15  \n",
       "3          8_17480          00:02:41        15  \n",
       "4          8_06002          00:03:16        15  "
      ]
     },
     "execution_count": 3,
     "metadata": {},
     "output_type": "execute_result"
    }
   ],
   "source": [
    "df['remaining_seconds'] = pd.to_timedelta(df['eta'] - df['actual_date'], 's')\n",
    "df['eta_date'] = df['eta'].dt.day\n",
    "df.head()"
   ]
  },
  {
   "cell_type": "code",
   "execution_count": 4,
   "metadata": {
    "ExecuteTime": {
     "end_time": "2020-03-02T18:26:45.625734Z",
     "start_time": "2020-03-02T18:17:04.788005Z"
    }
   },
   "outputs": [],
   "source": [
    "arrival_times_rows = []\n",
    "#columns = ['arrival_time', 'cod_issue', 'cod_stop', 'cod_line']\n",
    "df_grouped = df.groupby(['cod_issue', 'cod_stop', 'cod_line', 'eta_date'])\n",
    "arrival_times = (df_grouped.apply(lambda x: x.sort_values('remaining_seconds', ascending=True).iloc[0]['eta'])\n",
    "                           .to_frame(name = 'arrival_time')\n",
    "                           .reset_index()\n",
    "                           .sort_values('arrival_time', ascending=True)\n",
    "                )"
   ]
  },
  {
   "cell_type": "code",
   "execution_count": 5,
   "metadata": {
    "ExecuteTime": {
     "end_time": "2020-03-02T18:26:45.637548Z",
     "start_time": "2020-03-02T18:26:45.626849Z"
    }
   },
   "outputs": [
    {
     "data": {
      "text/html": [
       "<div>\n",
       "<style scoped>\n",
       "    .dataframe tbody tr th:only-of-type {\n",
       "        vertical-align: middle;\n",
       "    }\n",
       "\n",
       "    .dataframe tbody tr th {\n",
       "        vertical-align: top;\n",
       "    }\n",
       "\n",
       "    .dataframe thead th {\n",
       "        text-align: right;\n",
       "    }\n",
       "</style>\n",
       "<table border=\"1\" class=\"dataframe\">\n",
       "  <thead>\n",
       "    <tr style=\"text-align: right;\">\n",
       "      <th></th>\n",
       "      <th>cod_issue</th>\n",
       "      <th>cod_stop</th>\n",
       "      <th>cod_line</th>\n",
       "      <th>eta_date</th>\n",
       "      <th>arrival_time</th>\n",
       "    </tr>\n",
       "  </thead>\n",
       "  <tbody>\n",
       "    <tr>\n",
       "      <th>598256</th>\n",
       "      <td>8__622____2_17:00:00_2_-__17_8__622___</td>\n",
       "      <td>8_4311</td>\n",
       "      <td>8__622___</td>\n",
       "      <td>15</td>\n",
       "      <td>2020-02-15 17:45:53+01:00</td>\n",
       "    </tr>\n",
       "    <tr>\n",
       "      <th>467194</th>\n",
       "      <td>5308274</td>\n",
       "      <td>8_10577</td>\n",
       "      <td>8__562___</td>\n",
       "      <td>15</td>\n",
       "      <td>2020-02-15 17:46:15+01:00</td>\n",
       "    </tr>\n",
       "    <tr>\n",
       "      <th>473742</th>\n",
       "      <td>5308413</td>\n",
       "      <td>8_1333</td>\n",
       "      <td>8__653___</td>\n",
       "      <td>15</td>\n",
       "      <td>2020-02-15 17:46:15+01:00</td>\n",
       "    </tr>\n",
       "    <tr>\n",
       "      <th>637226</th>\n",
       "      <td>8__661____2_17:45:00_1_-__21_8__661___</td>\n",
       "      <td>8_1338</td>\n",
       "      <td>8__661___</td>\n",
       "      <td>15</td>\n",
       "      <td>2020-02-15 17:46:20+01:00</td>\n",
       "    </tr>\n",
       "    <tr>\n",
       "      <th>472226</th>\n",
       "      <td>5308386</td>\n",
       "      <td>8_08458</td>\n",
       "      <td>8__564___</td>\n",
       "      <td>15</td>\n",
       "      <td>2020-02-15 17:46:27+01:00</td>\n",
       "    </tr>\n",
       "    <tr>\n",
       "      <th>...</th>\n",
       "      <td>...</td>\n",
       "      <td>...</td>\n",
       "      <td>...</td>\n",
       "      <td>...</td>\n",
       "      <td>...</td>\n",
       "    </tr>\n",
       "    <tr>\n",
       "      <th>637525</th>\n",
       "      <td>8__662____1_07:30:00_1_-__2_8__662___</td>\n",
       "      <td>8_1338</td>\n",
       "      <td>8__662___</td>\n",
       "      <td>3</td>\n",
       "      <td>2020-03-03 07:31:20+01:00</td>\n",
       "    </tr>\n",
       "    <tr>\n",
       "      <th>638141</th>\n",
       "      <td>8__664____1_08:05:00_1_-__3_8__664___</td>\n",
       "      <td>8_1338</td>\n",
       "      <td>8__664___</td>\n",
       "      <td>3</td>\n",
       "      <td>2020-03-03 08:06:25+01:00</td>\n",
       "    </tr>\n",
       "    <tr>\n",
       "      <th>637548</th>\n",
       "      <td>8__662____1_08:25:00_1_-__3_8__662___</td>\n",
       "      <td>8_1338</td>\n",
       "      <td>8__662___</td>\n",
       "      <td>3</td>\n",
       "      <td>2020-03-03 08:26:26+01:00</td>\n",
       "    </tr>\n",
       "    <tr>\n",
       "      <th>634629</th>\n",
       "      <td>8__661_A___1_09:10:00_1_-__2_8__661_A__</td>\n",
       "      <td>8_06002</td>\n",
       "      <td>8__661_A__</td>\n",
       "      <td>3</td>\n",
       "      <td>2020-03-03 09:10:00+01:00</td>\n",
       "    </tr>\n",
       "    <tr>\n",
       "      <th>634641</th>\n",
       "      <td>8__661_A___1_09:10:00_1_-__2_8__661_A__</td>\n",
       "      <td>8_1338</td>\n",
       "      <td>8__661_A__</td>\n",
       "      <td>3</td>\n",
       "      <td>2020-03-03 09:11:22+01:00</td>\n",
       "    </tr>\n",
       "  </tbody>\n",
       "</table>\n",
       "<p>644099 rows × 5 columns</p>\n",
       "</div>"
      ],
      "text/plain": [
       "                                      cod_issue cod_stop    cod_line  \\\n",
       "598256   8__622____2_17:00:00_2_-__17_8__622___   8_4311   8__622___   \n",
       "467194                                  5308274  8_10577   8__562___   \n",
       "473742                                  5308413   8_1333   8__653___   \n",
       "637226   8__661____2_17:45:00_1_-__21_8__661___   8_1338   8__661___   \n",
       "472226                                  5308386  8_08458   8__564___   \n",
       "...                                         ...      ...         ...   \n",
       "637525    8__662____1_07:30:00_1_-__2_8__662___   8_1338   8__662___   \n",
       "638141    8__664____1_08:05:00_1_-__3_8__664___   8_1338   8__664___   \n",
       "637548    8__662____1_08:25:00_1_-__3_8__662___   8_1338   8__662___   \n",
       "634629  8__661_A___1_09:10:00_1_-__2_8__661_A__  8_06002  8__661_A__   \n",
       "634641  8__661_A___1_09:10:00_1_-__2_8__661_A__   8_1338  8__661_A__   \n",
       "\n",
       "        eta_date              arrival_time  \n",
       "598256        15 2020-02-15 17:45:53+01:00  \n",
       "467194        15 2020-02-15 17:46:15+01:00  \n",
       "473742        15 2020-02-15 17:46:15+01:00  \n",
       "637226        15 2020-02-15 17:46:20+01:00  \n",
       "472226        15 2020-02-15 17:46:27+01:00  \n",
       "...          ...                       ...  \n",
       "637525         3 2020-03-03 07:31:20+01:00  \n",
       "638141         3 2020-03-03 08:06:25+01:00  \n",
       "637548         3 2020-03-03 08:26:26+01:00  \n",
       "634629         3 2020-03-03 09:10:00+01:00  \n",
       "634641         3 2020-03-03 09:11:22+01:00  \n",
       "\n",
       "[644099 rows x 5 columns]"
      ]
     },
     "execution_count": 5,
     "metadata": {},
     "output_type": "execute_result"
    }
   ],
   "source": [
    "arrival_times"
   ]
  },
  {
   "cell_type": "code",
   "execution_count": 6,
   "metadata": {
    "ExecuteTime": {
     "end_time": "2020-03-02T18:26:52.174524Z",
     "start_time": "2020-03-02T18:26:45.639501Z"
    }
   },
   "outputs": [],
   "source": [
    "arrival_times.to_csv('arrival_times.csv', index=False)"
   ]
  },
  {
   "cell_type": "code",
   "execution_count": 15,
   "metadata": {
    "ExecuteTime": {
     "end_time": "2020-03-02T18:39:59.270906Z",
     "start_time": "2020-03-02T18:39:58.833567Z"
    }
   },
   "outputs": [],
   "source": [
    "import plotly.express as px"
   ]
  },
  {
   "cell_type": "code",
   "execution_count": 74,
   "metadata": {
    "ExecuteTime": {
     "end_time": "2020-03-02T20:45:42.435354Z",
     "start_time": "2020-03-02T20:45:42.043550Z"
    }
   },
   "outputs": [],
   "source": [
    "test_df = df\n",
    "#test_df = df.query(\"cod_issue == '5302729' & eta_date == 2 & cod_stop == '8_06277'\")\n",
    "test_df = test_df[test_df['remaining_seconds'] < pd.Timedelta(1, unit='m')]\n",
    "#fig = px.scatter(test_df, x='actual_date', y='remaining_seconds')\n",
    "#fig.show()"
   ]
  },
  {
   "cell_type": "code",
   "execution_count": 75,
   "metadata": {
    "ExecuteTime": {
     "end_time": "2020-03-02T20:52:33.341612Z",
     "start_time": "2020-03-02T20:45:44.844196Z"
    },
    "scrolled": true
   },
   "outputs": [
    {
     "data": {
      "text/html": [
       "<div>\n",
       "<style scoped>\n",
       "    .dataframe tbody tr th:only-of-type {\n",
       "        vertical-align: middle;\n",
       "    }\n",
       "\n",
       "    .dataframe tbody tr th {\n",
       "        vertical-align: top;\n",
       "    }\n",
       "\n",
       "    .dataframe thead th {\n",
       "        text-align: right;\n",
       "    }\n",
       "</style>\n",
       "<table border=\"1\" class=\"dataframe\">\n",
       "  <thead>\n",
       "    <tr style=\"text-align: right;\">\n",
       "      <th></th>\n",
       "      <th>cod_issue</th>\n",
       "      <th>cod_stop</th>\n",
       "      <th>cod_line</th>\n",
       "      <th>eta_date</th>\n",
       "      <th>arrival_time</th>\n",
       "    </tr>\n",
       "  </thead>\n",
       "  <tbody>\n",
       "    <tr>\n",
       "      <th>475354</th>\n",
       "      <td>8__622____2_17:00:00_2_-__17_8__622___</td>\n",
       "      <td>8_4311</td>\n",
       "      <td>8__622___</td>\n",
       "      <td>15</td>\n",
       "      <td>2020-02-15 17:45:53+01:00</td>\n",
       "    </tr>\n",
       "    <tr>\n",
       "      <th>387318</th>\n",
       "      <td>5308274</td>\n",
       "      <td>8_10577</td>\n",
       "      <td>8__562___</td>\n",
       "      <td>15</td>\n",
       "      <td>2020-02-15 17:46:15+01:00</td>\n",
       "    </tr>\n",
       "    <tr>\n",
       "      <th>392837</th>\n",
       "      <td>5308413</td>\n",
       "      <td>8_1333</td>\n",
       "      <td>8__653___</td>\n",
       "      <td>15</td>\n",
       "      <td>2020-02-15 17:46:15+01:00</td>\n",
       "    </tr>\n",
       "    <tr>\n",
       "      <th>503011</th>\n",
       "      <td>8__661____2_17:45:00_1_-__21_8__661___</td>\n",
       "      <td>8_1338</td>\n",
       "      <td>8__661___</td>\n",
       "      <td>15</td>\n",
       "      <td>2020-02-15 17:46:20+01:00</td>\n",
       "    </tr>\n",
       "    <tr>\n",
       "      <th>391605</th>\n",
       "      <td>5308386</td>\n",
       "      <td>8_08458</td>\n",
       "      <td>8__564___</td>\n",
       "      <td>15</td>\n",
       "      <td>2020-02-15 17:46:27+01:00</td>\n",
       "    </tr>\n",
       "    <tr>\n",
       "      <th>...</th>\n",
       "      <td>...</td>\n",
       "      <td>...</td>\n",
       "      <td>...</td>\n",
       "      <td>...</td>\n",
       "      <td>...</td>\n",
       "    </tr>\n",
       "    <tr>\n",
       "      <th>70273</th>\n",
       "      <td>5302610</td>\n",
       "      <td>8_10580</td>\n",
       "      <td>8__564___</td>\n",
       "      <td>2</td>\n",
       "      <td>2020-03-02 19:01:22+01:00</td>\n",
       "    </tr>\n",
       "    <tr>\n",
       "      <th>479880</th>\n",
       "      <td>8__625____1_18:12:00_2_-__60_8__625___</td>\n",
       "      <td>8_06268</td>\n",
       "      <td>8__625___</td>\n",
       "      <td>2</td>\n",
       "      <td>2020-03-02 19:01:27+01:00</td>\n",
       "    </tr>\n",
       "    <tr>\n",
       "      <th>67913</th>\n",
       "      <td>5302555</td>\n",
       "      <td>8_06296</td>\n",
       "      <td>8__563___</td>\n",
       "      <td>2</td>\n",
       "      <td>2020-03-02 19:01:29+01:00</td>\n",
       "    </tr>\n",
       "    <tr>\n",
       "      <th>493288</th>\n",
       "      <td>8__629____1_18:10:00_2_-__36_8__629___</td>\n",
       "      <td>8_1335</td>\n",
       "      <td>8__629___</td>\n",
       "      <td>2</td>\n",
       "      <td>2020-03-02 19:01:30+01:00</td>\n",
       "    </tr>\n",
       "    <tr>\n",
       "      <th>91671</th>\n",
       "      <td>5303161</td>\n",
       "      <td>8_10867</td>\n",
       "      <td>8__650___</td>\n",
       "      <td>2</td>\n",
       "      <td>2020-03-02 19:01:31+01:00</td>\n",
       "    </tr>\n",
       "  </tbody>\n",
       "</table>\n",
       "<p>507906 rows × 5 columns</p>\n",
       "</div>"
      ],
      "text/plain": [
       "                                     cod_issue cod_stop   cod_line  eta_date  \\\n",
       "475354  8__622____2_17:00:00_2_-__17_8__622___   8_4311  8__622___        15   \n",
       "387318                                 5308274  8_10577  8__562___        15   \n",
       "392837                                 5308413   8_1333  8__653___        15   \n",
       "503011  8__661____2_17:45:00_1_-__21_8__661___   8_1338  8__661___        15   \n",
       "391605                                 5308386  8_08458  8__564___        15   \n",
       "...                                        ...      ...        ...       ...   \n",
       "70273                                  5302610  8_10580  8__564___         2   \n",
       "479880  8__625____1_18:12:00_2_-__60_8__625___  8_06268  8__625___         2   \n",
       "67913                                  5302555  8_06296  8__563___         2   \n",
       "493288  8__629____1_18:10:00_2_-__36_8__629___   8_1335  8__629___         2   \n",
       "91671                                  5303161  8_10867  8__650___         2   \n",
       "\n",
       "                    arrival_time  \n",
       "475354 2020-02-15 17:45:53+01:00  \n",
       "387318 2020-02-15 17:46:15+01:00  \n",
       "392837 2020-02-15 17:46:15+01:00  \n",
       "503011 2020-02-15 17:46:20+01:00  \n",
       "391605 2020-02-15 17:46:27+01:00  \n",
       "...                          ...  \n",
       "70273  2020-03-02 19:01:22+01:00  \n",
       "479880 2020-03-02 19:01:27+01:00  \n",
       "67913  2020-03-02 19:01:29+01:00  \n",
       "493288 2020-03-02 19:01:30+01:00  \n",
       "91671  2020-03-02 19:01:31+01:00  \n",
       "\n",
       "[507906 rows x 5 columns]"
      ]
     },
     "execution_count": 75,
     "metadata": {},
     "output_type": "execute_result"
    }
   ],
   "source": [
    "test_arrival_times_rows = []\n",
    "#columns = ['arrival_time', 'cod_issue', 'cod_stop', 'cod_line']\n",
    "#test_df['ad_plus_rs'] = test_df['actual_date'] + test_df['remaining_seconds']\n",
    "test_df_grouped = test_df.groupby(['cod_issue', 'cod_stop', 'cod_line', 'eta_date'])\n",
    "test_arrival_times = (test_df_grouped.apply(lambda x: x.sort_values(['actual_date'], ascending=[True]).iloc[0]['eta'])\n",
    "                           .to_frame(name = 'arrival_time')\n",
    "                           .reset_index()\n",
    "                           .sort_values('arrival_time', ascending=True)\n",
    "                )\n",
    "test_arrival_times"
   ]
  },
  {
   "cell_type": "code",
   "execution_count": 76,
   "metadata": {
    "ExecuteTime": {
     "end_time": "2020-03-02T20:53:25.771240Z",
     "start_time": "2020-03-02T20:53:20.566681Z"
    }
   },
   "outputs": [],
   "source": [
    "test_arrival_times.to_csv('arrival_times.csv', index=False)"
   ]
  }
 ],
 "metadata": {
  "kernelspec": {
   "display_name": "Python 3",
   "language": "python",
   "name": "python3"
  },
  "language_info": {
   "codemirror_mode": {
    "name": "ipython",
    "version": 3
   },
   "file_extension": ".py",
   "mimetype": "text/x-python",
   "name": "python",
   "nbconvert_exporter": "python",
   "pygments_lexer": "ipython3",
   "version": "3.7.6"
  },
  "record_timing": true,
  "toc": {
   "base_numbering": 1,
   "nav_menu": {},
   "number_sections": true,
   "sideBar": true,
   "skip_h1_title": false,
   "title_cell": "Table of Contents",
   "title_sidebar": "Contents",
   "toc_cell": false,
   "toc_position": {},
   "toc_section_display": true,
   "toc_window_display": false
  },
  "varInspector": {
   "cols": {
    "lenName": 16,
    "lenType": 16,
    "lenVar": 40
   },
   "kernels_config": {
    "python": {
     "delete_cmd_postfix": "",
     "delete_cmd_prefix": "del ",
     "library": "var_list.py",
     "varRefreshCmd": "print(var_dic_list())"
    },
    "r": {
     "delete_cmd_postfix": ") ",
     "delete_cmd_prefix": "rm(",
     "library": "var_list.r",
     "varRefreshCmd": "cat(var_dic_list()) "
    }
   },
   "types_to_exclude": [
    "module",
    "function",
    "builtin_function_or_method",
    "instance",
    "_Feature"
   ],
   "window_display": false
  }
 },
 "nbformat": 4,
 "nbformat_minor": 4
}
