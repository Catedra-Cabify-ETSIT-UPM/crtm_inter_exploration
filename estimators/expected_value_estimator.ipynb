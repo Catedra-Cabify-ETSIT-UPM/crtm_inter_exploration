{
 "cells": [
  {
   "cell_type": "code",
   "execution_count": 20,
   "metadata": {
    "ExecuteTime": {
     "end_time": "2020-05-23T11:18:10.886256Z",
     "start_time": "2020-05-23T11:18:10.882391Z"
    }
   },
   "outputs": [],
   "source": [
    "from common.functions import *\n",
    "import numpy as np\n",
    "from pandarallel import pandarallel\n",
    "import pandas as pd\n",
    "import plotly.graph_objects as go\n",
    "import plotly.express as px\n",
    "from sqlalchemy import create_engine\n",
    "from sklearn.model_selection import train_test_split"
   ]
  },
  {
   "cell_type": "code",
   "execution_count": 21,
   "metadata": {
    "ExecuteTime": {
     "end_time": "2020-05-23T11:18:10.893026Z",
     "start_time": "2020-05-23T11:18:10.888285Z"
    }
   },
   "outputs": [],
   "source": [
    "def estimations(running_times_test,\n",
    "                running_times_train,\n",
    "                cod_stop_from,\n",
    "                cod_stop_to):\n",
    "\n",
    "    running_times_test['trip_time_estimate'] = running_times_test.apply(get_running_time_estimate,\n",
    "                                                                                 axis=1,\n",
    "                                                                                 estimations=running_times_train).dt.round('1s')\n",
    "    running_times_test['error'] = running_times_test['trip_time'].dt.total_seconds(\n",
    "    ) - running_times_test['trip_time_estimate'].dt.total_seconds()\n",
    "    running_times_test = running_times_test.query(\"error < 3600\")\n",
    "\n",
    "    return running_times_test"
   ]
  },
  {
   "cell_type": "code",
   "execution_count": 22,
   "metadata": {
    "ExecuteTime": {
     "end_time": "2020-05-23T11:18:10.898023Z",
     "start_time": "2020-05-23T11:18:10.894807Z"
    }
   },
   "outputs": [],
   "source": [
    "def get_running_time_estimate(row, estimations):\n",
    "    cod_stop_from = row['cod_stop_from']\n",
    "    cod_stop_to = row['cod_stop_to']\n",
    "    cod_line = row['cod_line']\n",
    "    cod_issue = row['cod_issue']\n",
    "    departure_time = row['departure_time']\n",
    "    arrival_time = row['arrival_time']\n",
    "\n",
    "    estimation = estimations['trip_time'].mean()\n",
    "\n",
    "    return estimation"
   ]
  },
  {
   "cell_type": "code",
   "execution_count": 23,
   "metadata": {
    "ExecuteTime": {
     "end_time": "2020-05-23T11:18:10.901753Z",
     "start_time": "2020-05-23T11:18:10.899586Z"
    }
   },
   "outputs": [],
   "source": [
    "cod_stop_from = '8_1336'\n",
    "cod_stop_to = '8_06277'\n",
    "cod_line = '8__658___'"
   ]
  },
  {
   "cell_type": "code",
   "execution_count": 24,
   "metadata": {
    "ExecuteTime": {
     "end_time": "2020-05-23T11:18:12.631977Z",
     "start_time": "2020-05-23T11:18:10.903508Z"
    }
   },
   "outputs": [],
   "source": [
    "running_times = filter_outliers(get_running_times(cod_stop_from, cod_stop_to))\n",
    "\n",
    "if (cod_line):\n",
    "    running_times = running_times[running_times['cod_line'] == cod_line]\n",
    "\n",
    "running_times_train, running_times_test = train_test_split(running_times, test_size=0.25, random_state=42)"
   ]
  },
  {
   "cell_type": "code",
   "execution_count": 25,
   "metadata": {
    "ExecuteTime": {
     "end_time": "2020-05-23T11:18:12.634294Z",
     "start_time": "2020-05-23T11:18:12.632940Z"
    }
   },
   "outputs": [],
   "source": [
    "# # Initialization\n",
    "# pandarallel.initialize(progress_bar=True)"
   ]
  },
  {
   "cell_type": "code",
   "execution_count": 26,
   "metadata": {
    "ExecuteTime": {
     "end_time": "2020-05-23T11:18:12.678429Z",
     "start_time": "2020-05-23T11:18:12.635461Z"
    },
    "scrolled": false
   },
   "outputs": [
    {
     "name": "stderr",
     "output_type": "stream",
     "text": [
      "/opt/conda/lib/python3.7/site-packages/ipykernel_launcher.py:8: SettingWithCopyWarning:\n",
      "\n",
      "\n",
      "A value is trying to be set on a copy of a slice from a DataFrame.\n",
      "Try using .loc[row_indexer,col_indexer] = value instead\n",
      "\n",
      "See the caveats in the documentation: https://pandas.pydata.org/pandas-docs/stable/user_guide/indexing.html#returning-a-view-versus-a-copy\n",
      "\n",
      "/opt/conda/lib/python3.7/site-packages/ipykernel_launcher.py:10: SettingWithCopyWarning:\n",
      "\n",
      "\n",
      "A value is trying to be set on a copy of a slice from a DataFrame.\n",
      "Try using .loc[row_indexer,col_indexer] = value instead\n",
      "\n",
      "See the caveats in the documentation: https://pandas.pydata.org/pandas-docs/stable/user_guide/indexing.html#returning-a-view-versus-a-copy\n",
      "\n"
     ]
    }
   ],
   "source": [
    "plot_df = estimations(running_times_test, running_times_train, cod_stop_from, cod_stop_to)"
   ]
  },
  {
   "cell_type": "code",
   "execution_count": 27,
   "metadata": {
    "ExecuteTime": {
     "end_time": "2020-05-23T11:18:12.760042Z",
     "start_time": "2020-05-23T11:18:12.679875Z"
    }
   },
   "outputs": [
    {
     "data": {
      "application/vnd.plotly.v1+json": {
       "config": {
        "plotlyServerURL": "https://plot.ly"
       },
       "data": [
        {
         "alignmentgroup": "True",
         "bingroup": "x",
         "histfunc": "count",
         "hovertemplate": "cod_line=8__658___<br>x=%{x}<br>count=%{y}<extra></extra>",
         "legendgroup": "8__658___",
         "marker": {
          "color": "#636efa"
         },
         "name": "8__658___",
         "nbinsx": 50,
         "offsetgroup": "8__658___",
         "orientation": "v",
         "showlegend": true,
         "type": "histogram",
         "x": [
          0.18333333333333332,
          1.2833333333333334,
          3.3333333333333353,
          -3.433333333333333,
          -1.0666666666666667,
          3.7666666666666666,
          -0.4,
          1.1166666666666667,
          0.11666666666666667,
          0.4666666666666667,
          -2.2666666666666666,
          -1.3666666666666667,
          2.0166666666666684,
          -1.9833333333333334,
          -3.8833333333333333,
          -0.21666666666666667,
          0.13333333333333333,
          2.733333333333335,
          1.2833333333333334,
          -1.6666666666666667,
          -1.2666666666666666,
          -1.3333333333333333,
          4.4,
          0.75,
          -1.2333333333333334,
          -3.533333333333333,
          1.1333333333333333,
          -0.2833333333333333,
          0.016666666666666666,
          0.38333333333333336,
          -0.8,
          -1.8833333333333333,
          -0.7333333333333333,
          1.8166666666666687,
          1.0333333333333334,
          0.25,
          2.0333333333333354,
          0.2,
          0.06666666666666667,
          0.3333333333333333,
          3.233333333333335,
          -1.5,
          1.45,
          -0.5666666666666667,
          0.8333333333333334,
          -2.283333333333333,
          0.5,
          -1.0833333333333333,
          -1.05,
          -1.1,
          -0.4666666666666667,
          2.7166666666666686,
          -0.26666666666666666,
          -0.2,
          -0.6833333333333333,
          1.8333333333333353,
          1.2333333333333334,
          1.2333333333333334,
          -0.23333333333333334,
          -3.2333333333333334,
          -2.5166666666666666,
          0.7166666666666667,
          1.1666666666666667,
          -1.3833333333333333,
          -0.26666666666666666,
          3.0000000000000018,
          0.7333333333333333,
          -0.4166666666666667,
          -1.1833333333333333,
          -3.1333333333333333,
          2.0666666666666687,
          2.2166666666666686,
          3.2166666666666686,
          -4.45,
          0.6166666666666667,
          0.8166666666666667,
          -3.1166666666666667,
          0.31666666666666665,
          -1.6333333333333333,
          1.0666666666666667,
          0.4666666666666667,
          2.1166666666666685,
          -2.2,
          -0.38333333333333336,
          -2.966666666666667,
          -0.5833333333333334,
          0.43333333333333335,
          -0.45,
          -0.5166666666666667,
          -1.05,
          -5.499999999999999,
          -3.6333333333333333,
          1.2166666666666666,
          -3.033333333333333,
          -2.4,
          2.483333333333335,
          3.483333333333335,
          1.4166666666666667,
          0.43333333333333335,
          2.5333333333333354,
          1.35,
          -1.65,
          -2.9,
          2.0000000000000018,
          -1.8666666666666667,
          0.2833333333333333,
          -0.38333333333333336,
          1.0833333333333333,
          -2.7666666666666666,
          0.03333333333333333,
          -4.716666666666667,
          -2.1333333333333333,
          -2.183333333333333,
          -1.7833333333333334,
          1.8166666666666687,
          -2.683333333333333
         ],
         "xaxis": "x",
         "yaxis": "y"
        },
        {
         "alignmentgroup": "True",
         "hovertemplate": "cod_line=8__658___<br>x=%{x}<extra></extra>",
         "legendgroup": "8__658___",
         "marker": {
          "color": "#636efa"
         },
         "name": "8__658___",
         "notched": true,
         "offsetgroup": "8__658___",
         "showlegend": false,
         "type": "box",
         "x": [
          0.18333333333333332,
          1.2833333333333334,
          3.3333333333333353,
          -3.433333333333333,
          -1.0666666666666667,
          3.7666666666666666,
          -0.4,
          1.1166666666666667,
          0.11666666666666667,
          0.4666666666666667,
          -2.2666666666666666,
          -1.3666666666666667,
          2.0166666666666684,
          -1.9833333333333334,
          -3.8833333333333333,
          -0.21666666666666667,
          0.13333333333333333,
          2.733333333333335,
          1.2833333333333334,
          -1.6666666666666667,
          -1.2666666666666666,
          -1.3333333333333333,
          4.4,
          0.75,
          -1.2333333333333334,
          -3.533333333333333,
          1.1333333333333333,
          -0.2833333333333333,
          0.016666666666666666,
          0.38333333333333336,
          -0.8,
          -1.8833333333333333,
          -0.7333333333333333,
          1.8166666666666687,
          1.0333333333333334,
          0.25,
          2.0333333333333354,
          0.2,
          0.06666666666666667,
          0.3333333333333333,
          3.233333333333335,
          -1.5,
          1.45,
          -0.5666666666666667,
          0.8333333333333334,
          -2.283333333333333,
          0.5,
          -1.0833333333333333,
          -1.05,
          -1.1,
          -0.4666666666666667,
          2.7166666666666686,
          -0.26666666666666666,
          -0.2,
          -0.6833333333333333,
          1.8333333333333353,
          1.2333333333333334,
          1.2333333333333334,
          -0.23333333333333334,
          -3.2333333333333334,
          -2.5166666666666666,
          0.7166666666666667,
          1.1666666666666667,
          -1.3833333333333333,
          -0.26666666666666666,
          3.0000000000000018,
          0.7333333333333333,
          -0.4166666666666667,
          -1.1833333333333333,
          -3.1333333333333333,
          2.0666666666666687,
          2.2166666666666686,
          3.2166666666666686,
          -4.45,
          0.6166666666666667,
          0.8166666666666667,
          -3.1166666666666667,
          0.31666666666666665,
          -1.6333333333333333,
          1.0666666666666667,
          0.4666666666666667,
          2.1166666666666685,
          -2.2,
          -0.38333333333333336,
          -2.966666666666667,
          -0.5833333333333334,
          0.43333333333333335,
          -0.45,
          -0.5166666666666667,
          -1.05,
          -5.499999999999999,
          -3.6333333333333333,
          1.2166666666666666,
          -3.033333333333333,
          -2.4,
          2.483333333333335,
          3.483333333333335,
          1.4166666666666667,
          0.43333333333333335,
          2.5333333333333354,
          1.35,
          -1.65,
          -2.9,
          2.0000000000000018,
          -1.8666666666666667,
          0.2833333333333333,
          -0.38333333333333336,
          1.0833333333333333,
          -2.7666666666666666,
          0.03333333333333333,
          -4.716666666666667,
          -2.1333333333333333,
          -2.183333333333333,
          -1.7833333333333334,
          1.8166666666666687,
          -2.683333333333333
         ],
         "xaxis": "x2",
         "yaxis": "y2"
        }
       ],
       "layout": {
        "barmode": "relative",
        "legend": {
         "title": {
          "text": "cod_line"
         },
         "tracegroupgap": 0
        },
        "margin": {
         "t": 60
        },
        "template": {
         "data": {
          "bar": [
           {
            "error_x": {
             "color": "#2a3f5f"
            },
            "error_y": {
             "color": "#2a3f5f"
            },
            "marker": {
             "line": {
              "color": "#E5ECF6",
              "width": 0.5
             }
            },
            "type": "bar"
           }
          ],
          "barpolar": [
           {
            "marker": {
             "line": {
              "color": "#E5ECF6",
              "width": 0.5
             }
            },
            "type": "barpolar"
           }
          ],
          "carpet": [
           {
            "aaxis": {
             "endlinecolor": "#2a3f5f",
             "gridcolor": "white",
             "linecolor": "white",
             "minorgridcolor": "white",
             "startlinecolor": "#2a3f5f"
            },
            "baxis": {
             "endlinecolor": "#2a3f5f",
             "gridcolor": "white",
             "linecolor": "white",
             "minorgridcolor": "white",
             "startlinecolor": "#2a3f5f"
            },
            "type": "carpet"
           }
          ],
          "choropleth": [
           {
            "colorbar": {
             "outlinewidth": 0,
             "ticks": ""
            },
            "type": "choropleth"
           }
          ],
          "contour": [
           {
            "colorbar": {
             "outlinewidth": 0,
             "ticks": ""
            },
            "colorscale": [
             [
              0,
              "#0d0887"
             ],
             [
              0.1111111111111111,
              "#46039f"
             ],
             [
              0.2222222222222222,
              "#7201a8"
             ],
             [
              0.3333333333333333,
              "#9c179e"
             ],
             [
              0.4444444444444444,
              "#bd3786"
             ],
             [
              0.5555555555555556,
              "#d8576b"
             ],
             [
              0.6666666666666666,
              "#ed7953"
             ],
             [
              0.7777777777777778,
              "#fb9f3a"
             ],
             [
              0.8888888888888888,
              "#fdca26"
             ],
             [
              1,
              "#f0f921"
             ]
            ],
            "type": "contour"
           }
          ],
          "contourcarpet": [
           {
            "colorbar": {
             "outlinewidth": 0,
             "ticks": ""
            },
            "type": "contourcarpet"
           }
          ],
          "heatmap": [
           {
            "colorbar": {
             "outlinewidth": 0,
             "ticks": ""
            },
            "colorscale": [
             [
              0,
              "#0d0887"
             ],
             [
              0.1111111111111111,
              "#46039f"
             ],
             [
              0.2222222222222222,
              "#7201a8"
             ],
             [
              0.3333333333333333,
              "#9c179e"
             ],
             [
              0.4444444444444444,
              "#bd3786"
             ],
             [
              0.5555555555555556,
              "#d8576b"
             ],
             [
              0.6666666666666666,
              "#ed7953"
             ],
             [
              0.7777777777777778,
              "#fb9f3a"
             ],
             [
              0.8888888888888888,
              "#fdca26"
             ],
             [
              1,
              "#f0f921"
             ]
            ],
            "type": "heatmap"
           }
          ],
          "heatmapgl": [
           {
            "colorbar": {
             "outlinewidth": 0,
             "ticks": ""
            },
            "colorscale": [
             [
              0,
              "#0d0887"
             ],
             [
              0.1111111111111111,
              "#46039f"
             ],
             [
              0.2222222222222222,
              "#7201a8"
             ],
             [
              0.3333333333333333,
              "#9c179e"
             ],
             [
              0.4444444444444444,
              "#bd3786"
             ],
             [
              0.5555555555555556,
              "#d8576b"
             ],
             [
              0.6666666666666666,
              "#ed7953"
             ],
             [
              0.7777777777777778,
              "#fb9f3a"
             ],
             [
              0.8888888888888888,
              "#fdca26"
             ],
             [
              1,
              "#f0f921"
             ]
            ],
            "type": "heatmapgl"
           }
          ],
          "histogram": [
           {
            "marker": {
             "colorbar": {
              "outlinewidth": 0,
              "ticks": ""
             }
            },
            "type": "histogram"
           }
          ],
          "histogram2d": [
           {
            "colorbar": {
             "outlinewidth": 0,
             "ticks": ""
            },
            "colorscale": [
             [
              0,
              "#0d0887"
             ],
             [
              0.1111111111111111,
              "#46039f"
             ],
             [
              0.2222222222222222,
              "#7201a8"
             ],
             [
              0.3333333333333333,
              "#9c179e"
             ],
             [
              0.4444444444444444,
              "#bd3786"
             ],
             [
              0.5555555555555556,
              "#d8576b"
             ],
             [
              0.6666666666666666,
              "#ed7953"
             ],
             [
              0.7777777777777778,
              "#fb9f3a"
             ],
             [
              0.8888888888888888,
              "#fdca26"
             ],
             [
              1,
              "#f0f921"
             ]
            ],
            "type": "histogram2d"
           }
          ],
          "histogram2dcontour": [
           {
            "colorbar": {
             "outlinewidth": 0,
             "ticks": ""
            },
            "colorscale": [
             [
              0,
              "#0d0887"
             ],
             [
              0.1111111111111111,
              "#46039f"
             ],
             [
              0.2222222222222222,
              "#7201a8"
             ],
             [
              0.3333333333333333,
              "#9c179e"
             ],
             [
              0.4444444444444444,
              "#bd3786"
             ],
             [
              0.5555555555555556,
              "#d8576b"
             ],
             [
              0.6666666666666666,
              "#ed7953"
             ],
             [
              0.7777777777777778,
              "#fb9f3a"
             ],
             [
              0.8888888888888888,
              "#fdca26"
             ],
             [
              1,
              "#f0f921"
             ]
            ],
            "type": "histogram2dcontour"
           }
          ],
          "mesh3d": [
           {
            "colorbar": {
             "outlinewidth": 0,
             "ticks": ""
            },
            "type": "mesh3d"
           }
          ],
          "parcoords": [
           {
            "line": {
             "colorbar": {
              "outlinewidth": 0,
              "ticks": ""
             }
            },
            "type": "parcoords"
           }
          ],
          "pie": [
           {
            "automargin": true,
            "type": "pie"
           }
          ],
          "scatter": [
           {
            "marker": {
             "colorbar": {
              "outlinewidth": 0,
              "ticks": ""
             }
            },
            "type": "scatter"
           }
          ],
          "scatter3d": [
           {
            "line": {
             "colorbar": {
              "outlinewidth": 0,
              "ticks": ""
             }
            },
            "marker": {
             "colorbar": {
              "outlinewidth": 0,
              "ticks": ""
             }
            },
            "type": "scatter3d"
           }
          ],
          "scattercarpet": [
           {
            "marker": {
             "colorbar": {
              "outlinewidth": 0,
              "ticks": ""
             }
            },
            "type": "scattercarpet"
           }
          ],
          "scattergeo": [
           {
            "marker": {
             "colorbar": {
              "outlinewidth": 0,
              "ticks": ""
             }
            },
            "type": "scattergeo"
           }
          ],
          "scattergl": [
           {
            "marker": {
             "colorbar": {
              "outlinewidth": 0,
              "ticks": ""
             }
            },
            "type": "scattergl"
           }
          ],
          "scattermapbox": [
           {
            "marker": {
             "colorbar": {
              "outlinewidth": 0,
              "ticks": ""
             }
            },
            "type": "scattermapbox"
           }
          ],
          "scatterpolar": [
           {
            "marker": {
             "colorbar": {
              "outlinewidth": 0,
              "ticks": ""
             }
            },
            "type": "scatterpolar"
           }
          ],
          "scatterpolargl": [
           {
            "marker": {
             "colorbar": {
              "outlinewidth": 0,
              "ticks": ""
             }
            },
            "type": "scatterpolargl"
           }
          ],
          "scatterternary": [
           {
            "marker": {
             "colorbar": {
              "outlinewidth": 0,
              "ticks": ""
             }
            },
            "type": "scatterternary"
           }
          ],
          "surface": [
           {
            "colorbar": {
             "outlinewidth": 0,
             "ticks": ""
            },
            "colorscale": [
             [
              0,
              "#0d0887"
             ],
             [
              0.1111111111111111,
              "#46039f"
             ],
             [
              0.2222222222222222,
              "#7201a8"
             ],
             [
              0.3333333333333333,
              "#9c179e"
             ],
             [
              0.4444444444444444,
              "#bd3786"
             ],
             [
              0.5555555555555556,
              "#d8576b"
             ],
             [
              0.6666666666666666,
              "#ed7953"
             ],
             [
              0.7777777777777778,
              "#fb9f3a"
             ],
             [
              0.8888888888888888,
              "#fdca26"
             ],
             [
              1,
              "#f0f921"
             ]
            ],
            "type": "surface"
           }
          ],
          "table": [
           {
            "cells": {
             "fill": {
              "color": "#EBF0F8"
             },
             "line": {
              "color": "white"
             }
            },
            "header": {
             "fill": {
              "color": "#C8D4E3"
             },
             "line": {
              "color": "white"
             }
            },
            "type": "table"
           }
          ]
         },
         "layout": {
          "annotationdefaults": {
           "arrowcolor": "#2a3f5f",
           "arrowhead": 0,
           "arrowwidth": 1
          },
          "coloraxis": {
           "colorbar": {
            "outlinewidth": 0,
            "ticks": ""
           }
          },
          "colorscale": {
           "diverging": [
            [
             0,
             "#8e0152"
            ],
            [
             0.1,
             "#c51b7d"
            ],
            [
             0.2,
             "#de77ae"
            ],
            [
             0.3,
             "#f1b6da"
            ],
            [
             0.4,
             "#fde0ef"
            ],
            [
             0.5,
             "#f7f7f7"
            ],
            [
             0.6,
             "#e6f5d0"
            ],
            [
             0.7,
             "#b8e186"
            ],
            [
             0.8,
             "#7fbc41"
            ],
            [
             0.9,
             "#4d9221"
            ],
            [
             1,
             "#276419"
            ]
           ],
           "sequential": [
            [
             0,
             "#0d0887"
            ],
            [
             0.1111111111111111,
             "#46039f"
            ],
            [
             0.2222222222222222,
             "#7201a8"
            ],
            [
             0.3333333333333333,
             "#9c179e"
            ],
            [
             0.4444444444444444,
             "#bd3786"
            ],
            [
             0.5555555555555556,
             "#d8576b"
            ],
            [
             0.6666666666666666,
             "#ed7953"
            ],
            [
             0.7777777777777778,
             "#fb9f3a"
            ],
            [
             0.8888888888888888,
             "#fdca26"
            ],
            [
             1,
             "#f0f921"
            ]
           ],
           "sequentialminus": [
            [
             0,
             "#0d0887"
            ],
            [
             0.1111111111111111,
             "#46039f"
            ],
            [
             0.2222222222222222,
             "#7201a8"
            ],
            [
             0.3333333333333333,
             "#9c179e"
            ],
            [
             0.4444444444444444,
             "#bd3786"
            ],
            [
             0.5555555555555556,
             "#d8576b"
            ],
            [
             0.6666666666666666,
             "#ed7953"
            ],
            [
             0.7777777777777778,
             "#fb9f3a"
            ],
            [
             0.8888888888888888,
             "#fdca26"
            ],
            [
             1,
             "#f0f921"
            ]
           ]
          },
          "colorway": [
           "#636efa",
           "#EF553B",
           "#00cc96",
           "#ab63fa",
           "#FFA15A",
           "#19d3f3",
           "#FF6692",
           "#B6E880",
           "#FF97FF",
           "#FECB52"
          ],
          "font": {
           "color": "#2a3f5f"
          },
          "geo": {
           "bgcolor": "white",
           "lakecolor": "white",
           "landcolor": "#E5ECF6",
           "showlakes": true,
           "showland": true,
           "subunitcolor": "white"
          },
          "hoverlabel": {
           "align": "left"
          },
          "hovermode": "closest",
          "mapbox": {
           "style": "light"
          },
          "paper_bgcolor": "white",
          "plot_bgcolor": "#E5ECF6",
          "polar": {
           "angularaxis": {
            "gridcolor": "white",
            "linecolor": "white",
            "ticks": ""
           },
           "bgcolor": "#E5ECF6",
           "radialaxis": {
            "gridcolor": "white",
            "linecolor": "white",
            "ticks": ""
           }
          },
          "scene": {
           "xaxis": {
            "backgroundcolor": "#E5ECF6",
            "gridcolor": "white",
            "gridwidth": 2,
            "linecolor": "white",
            "showbackground": true,
            "ticks": "",
            "zerolinecolor": "white"
           },
           "yaxis": {
            "backgroundcolor": "#E5ECF6",
            "gridcolor": "white",
            "gridwidth": 2,
            "linecolor": "white",
            "showbackground": true,
            "ticks": "",
            "zerolinecolor": "white"
           },
           "zaxis": {
            "backgroundcolor": "#E5ECF6",
            "gridcolor": "white",
            "gridwidth": 2,
            "linecolor": "white",
            "showbackground": true,
            "ticks": "",
            "zerolinecolor": "white"
           }
          },
          "shapedefaults": {
           "line": {
            "color": "#2a3f5f"
           }
          },
          "ternary": {
           "aaxis": {
            "gridcolor": "white",
            "linecolor": "white",
            "ticks": ""
           },
           "baxis": {
            "gridcolor": "white",
            "linecolor": "white",
            "ticks": ""
           },
           "bgcolor": "#E5ECF6",
           "caxis": {
            "gridcolor": "white",
            "linecolor": "white",
            "ticks": ""
           }
          },
          "title": {
           "x": 0.05
          },
          "xaxis": {
           "automargin": true,
           "gridcolor": "white",
           "linecolor": "white",
           "ticks": "",
           "title": {
            "standoff": 15
           },
           "zerolinecolor": "white",
           "zerolinewidth": 2
          },
          "yaxis": {
           "automargin": true,
           "gridcolor": "white",
           "linecolor": "white",
           "ticks": "",
           "title": {
            "standoff": 15
           },
           "zerolinecolor": "white",
           "zerolinewidth": 2
          }
         }
        },
        "title": {
         "text": "Estimation error: histogram and boxplot"
        },
        "xaxis": {
         "anchor": "y",
         "domain": [
          0,
          1
         ],
         "title": {
          "text": "Error: (running_time - running_time_estimate) (minutes)"
         }
        },
        "xaxis2": {
         "anchor": "y2",
         "domain": [
          0,
          1
         ],
         "matches": "x",
         "showgrid": true,
         "showticklabels": false
        },
        "yaxis": {
         "anchor": "x",
         "domain": [
          0,
          0.7326
         ],
         "title": {
          "text": "Count"
         }
        },
        "yaxis2": {
         "anchor": "x2",
         "domain": [
          0.7426,
          1
         ],
         "matches": "y2",
         "showgrid": false,
         "showline": false,
         "showticklabels": false,
         "ticks": ""
        }
       }
      },
      "text/html": [
       "<div>\n",
       "        \n",
       "        \n",
       "            <div id=\"fe62ea92-8d38-4c4d-a46e-4ed9e9e72307\" class=\"plotly-graph-div\" style=\"height:525px; width:100%;\"></div>\n",
       "            <script type=\"text/javascript\">\n",
       "                require([\"plotly\"], function(Plotly) {\n",
       "                    window.PLOTLYENV=window.PLOTLYENV || {};\n",
       "                    \n",
       "                if (document.getElementById(\"fe62ea92-8d38-4c4d-a46e-4ed9e9e72307\")) {\n",
       "                    Plotly.newPlot(\n",
       "                        'fe62ea92-8d38-4c4d-a46e-4ed9e9e72307',\n",
       "                        [{\"alignmentgroup\": \"True\", \"bingroup\": \"x\", \"histfunc\": \"count\", \"hovertemplate\": \"cod_line=8__658___<br>x=%{x}<br>count=%{y}<extra></extra>\", \"legendgroup\": \"8__658___\", \"marker\": {\"color\": \"#636efa\"}, \"name\": \"8__658___\", \"nbinsx\": 50, \"offsetgroup\": \"8__658___\", \"orientation\": \"v\", \"showlegend\": true, \"type\": \"histogram\", \"x\": [0.18333333333333332, 1.2833333333333334, 3.3333333333333353, -3.433333333333333, -1.0666666666666667, 3.7666666666666666, -0.4, 1.1166666666666667, 0.11666666666666667, 0.4666666666666667, -2.2666666666666666, -1.3666666666666667, 2.0166666666666684, -1.9833333333333334, -3.8833333333333333, -0.21666666666666667, 0.13333333333333333, 2.733333333333335, 1.2833333333333334, -1.6666666666666667, -1.2666666666666666, -1.3333333333333333, 4.4, 0.75, -1.2333333333333334, -3.533333333333333, 1.1333333333333333, -0.2833333333333333, 0.016666666666666666, 0.38333333333333336, -0.8, -1.8833333333333333, -0.7333333333333333, 1.8166666666666687, 1.0333333333333334, 0.25, 2.0333333333333354, 0.2, 0.06666666666666667, 0.3333333333333333, 3.233333333333335, -1.5, 1.45, -0.5666666666666667, 0.8333333333333334, -2.283333333333333, 0.5, -1.0833333333333333, -1.05, -1.1, -0.4666666666666667, 2.7166666666666686, -0.26666666666666666, -0.2, -0.6833333333333333, 1.8333333333333353, 1.2333333333333334, 1.2333333333333334, -0.23333333333333334, -3.2333333333333334, -2.5166666666666666, 0.7166666666666667, 1.1666666666666667, -1.3833333333333333, -0.26666666666666666, 3.0000000000000018, 0.7333333333333333, -0.4166666666666667, -1.1833333333333333, -3.1333333333333333, 2.0666666666666687, 2.2166666666666686, 3.2166666666666686, -4.45, 0.6166666666666667, 0.8166666666666667, -3.1166666666666667, 0.31666666666666665, -1.6333333333333333, 1.0666666666666667, 0.4666666666666667, 2.1166666666666685, -2.2, -0.38333333333333336, -2.966666666666667, -0.5833333333333334, 0.43333333333333335, -0.45, -0.5166666666666667, -1.05, -5.499999999999999, -3.6333333333333333, 1.2166666666666666, -3.033333333333333, -2.4, 2.483333333333335, 3.483333333333335, 1.4166666666666667, 0.43333333333333335, 2.5333333333333354, 1.35, -1.65, -2.9, 2.0000000000000018, -1.8666666666666667, 0.2833333333333333, -0.38333333333333336, 1.0833333333333333, -2.7666666666666666, 0.03333333333333333, -4.716666666666667, -2.1333333333333333, -2.183333333333333, -1.7833333333333334, 1.8166666666666687, -2.683333333333333], \"xaxis\": \"x\", \"yaxis\": \"y\"}, {\"alignmentgroup\": \"True\", \"hovertemplate\": \"cod_line=8__658___<br>x=%{x}<extra></extra>\", \"legendgroup\": \"8__658___\", \"marker\": {\"color\": \"#636efa\"}, \"name\": \"8__658___\", \"notched\": true, \"offsetgroup\": \"8__658___\", \"showlegend\": false, \"type\": \"box\", \"x\": [0.18333333333333332, 1.2833333333333334, 3.3333333333333353, -3.433333333333333, -1.0666666666666667, 3.7666666666666666, -0.4, 1.1166666666666667, 0.11666666666666667, 0.4666666666666667, -2.2666666666666666, -1.3666666666666667, 2.0166666666666684, -1.9833333333333334, -3.8833333333333333, -0.21666666666666667, 0.13333333333333333, 2.733333333333335, 1.2833333333333334, -1.6666666666666667, -1.2666666666666666, -1.3333333333333333, 4.4, 0.75, -1.2333333333333334, -3.533333333333333, 1.1333333333333333, -0.2833333333333333, 0.016666666666666666, 0.38333333333333336, -0.8, -1.8833333333333333, -0.7333333333333333, 1.8166666666666687, 1.0333333333333334, 0.25, 2.0333333333333354, 0.2, 0.06666666666666667, 0.3333333333333333, 3.233333333333335, -1.5, 1.45, -0.5666666666666667, 0.8333333333333334, -2.283333333333333, 0.5, -1.0833333333333333, -1.05, -1.1, -0.4666666666666667, 2.7166666666666686, -0.26666666666666666, -0.2, -0.6833333333333333, 1.8333333333333353, 1.2333333333333334, 1.2333333333333334, -0.23333333333333334, -3.2333333333333334, -2.5166666666666666, 0.7166666666666667, 1.1666666666666667, -1.3833333333333333, -0.26666666666666666, 3.0000000000000018, 0.7333333333333333, -0.4166666666666667, -1.1833333333333333, -3.1333333333333333, 2.0666666666666687, 2.2166666666666686, 3.2166666666666686, -4.45, 0.6166666666666667, 0.8166666666666667, -3.1166666666666667, 0.31666666666666665, -1.6333333333333333, 1.0666666666666667, 0.4666666666666667, 2.1166666666666685, -2.2, -0.38333333333333336, -2.966666666666667, -0.5833333333333334, 0.43333333333333335, -0.45, -0.5166666666666667, -1.05, -5.499999999999999, -3.6333333333333333, 1.2166666666666666, -3.033333333333333, -2.4, 2.483333333333335, 3.483333333333335, 1.4166666666666667, 0.43333333333333335, 2.5333333333333354, 1.35, -1.65, -2.9, 2.0000000000000018, -1.8666666666666667, 0.2833333333333333, -0.38333333333333336, 1.0833333333333333, -2.7666666666666666, 0.03333333333333333, -4.716666666666667, -2.1333333333333333, -2.183333333333333, -1.7833333333333334, 1.8166666666666687, -2.683333333333333], \"xaxis\": \"x2\", \"yaxis\": \"y2\"}],\n",
       "                        {\"barmode\": \"relative\", \"legend\": {\"title\": {\"text\": \"cod_line\"}, \"tracegroupgap\": 0}, \"margin\": {\"t\": 60}, \"template\": {\"data\": {\"bar\": [{\"error_x\": {\"color\": \"#2a3f5f\"}, \"error_y\": {\"color\": \"#2a3f5f\"}, \"marker\": {\"line\": {\"color\": \"#E5ECF6\", \"width\": 0.5}}, \"type\": \"bar\"}], \"barpolar\": [{\"marker\": {\"line\": {\"color\": \"#E5ECF6\", \"width\": 0.5}}, \"type\": \"barpolar\"}], \"carpet\": [{\"aaxis\": {\"endlinecolor\": \"#2a3f5f\", \"gridcolor\": \"white\", \"linecolor\": \"white\", \"minorgridcolor\": \"white\", \"startlinecolor\": \"#2a3f5f\"}, \"baxis\": {\"endlinecolor\": \"#2a3f5f\", \"gridcolor\": \"white\", \"linecolor\": \"white\", \"minorgridcolor\": \"white\", \"startlinecolor\": \"#2a3f5f\"}, \"type\": \"carpet\"}], \"choropleth\": [{\"colorbar\": {\"outlinewidth\": 0, \"ticks\": \"\"}, \"type\": \"choropleth\"}], \"contour\": [{\"colorbar\": {\"outlinewidth\": 0, \"ticks\": \"\"}, \"colorscale\": [[0.0, \"#0d0887\"], [0.1111111111111111, \"#46039f\"], [0.2222222222222222, \"#7201a8\"], [0.3333333333333333, \"#9c179e\"], [0.4444444444444444, \"#bd3786\"], [0.5555555555555556, \"#d8576b\"], [0.6666666666666666, \"#ed7953\"], [0.7777777777777778, \"#fb9f3a\"], [0.8888888888888888, \"#fdca26\"], [1.0, \"#f0f921\"]], \"type\": \"contour\"}], \"contourcarpet\": [{\"colorbar\": {\"outlinewidth\": 0, \"ticks\": \"\"}, \"type\": \"contourcarpet\"}], \"heatmap\": [{\"colorbar\": {\"outlinewidth\": 0, \"ticks\": \"\"}, \"colorscale\": [[0.0, \"#0d0887\"], [0.1111111111111111, \"#46039f\"], [0.2222222222222222, \"#7201a8\"], [0.3333333333333333, \"#9c179e\"], [0.4444444444444444, \"#bd3786\"], [0.5555555555555556, \"#d8576b\"], [0.6666666666666666, \"#ed7953\"], [0.7777777777777778, \"#fb9f3a\"], [0.8888888888888888, \"#fdca26\"], [1.0, \"#f0f921\"]], \"type\": \"heatmap\"}], \"heatmapgl\": [{\"colorbar\": {\"outlinewidth\": 0, \"ticks\": \"\"}, \"colorscale\": [[0.0, \"#0d0887\"], [0.1111111111111111, \"#46039f\"], [0.2222222222222222, \"#7201a8\"], [0.3333333333333333, \"#9c179e\"], [0.4444444444444444, \"#bd3786\"], [0.5555555555555556, \"#d8576b\"], [0.6666666666666666, \"#ed7953\"], [0.7777777777777778, \"#fb9f3a\"], [0.8888888888888888, \"#fdca26\"], [1.0, \"#f0f921\"]], \"type\": \"heatmapgl\"}], \"histogram\": [{\"marker\": {\"colorbar\": {\"outlinewidth\": 0, \"ticks\": \"\"}}, \"type\": \"histogram\"}], \"histogram2d\": [{\"colorbar\": {\"outlinewidth\": 0, \"ticks\": \"\"}, \"colorscale\": [[0.0, \"#0d0887\"], [0.1111111111111111, \"#46039f\"], [0.2222222222222222, \"#7201a8\"], [0.3333333333333333, \"#9c179e\"], [0.4444444444444444, \"#bd3786\"], [0.5555555555555556, \"#d8576b\"], [0.6666666666666666, \"#ed7953\"], [0.7777777777777778, \"#fb9f3a\"], [0.8888888888888888, \"#fdca26\"], [1.0, \"#f0f921\"]], \"type\": \"histogram2d\"}], \"histogram2dcontour\": [{\"colorbar\": {\"outlinewidth\": 0, \"ticks\": \"\"}, \"colorscale\": [[0.0, \"#0d0887\"], [0.1111111111111111, \"#46039f\"], [0.2222222222222222, \"#7201a8\"], [0.3333333333333333, \"#9c179e\"], [0.4444444444444444, \"#bd3786\"], [0.5555555555555556, \"#d8576b\"], [0.6666666666666666, \"#ed7953\"], [0.7777777777777778, \"#fb9f3a\"], [0.8888888888888888, \"#fdca26\"], [1.0, \"#f0f921\"]], \"type\": \"histogram2dcontour\"}], \"mesh3d\": [{\"colorbar\": {\"outlinewidth\": 0, \"ticks\": \"\"}, \"type\": \"mesh3d\"}], \"parcoords\": [{\"line\": {\"colorbar\": {\"outlinewidth\": 0, \"ticks\": \"\"}}, \"type\": \"parcoords\"}], \"pie\": [{\"automargin\": true, \"type\": \"pie\"}], \"scatter\": [{\"marker\": {\"colorbar\": {\"outlinewidth\": 0, \"ticks\": \"\"}}, \"type\": \"scatter\"}], \"scatter3d\": [{\"line\": {\"colorbar\": {\"outlinewidth\": 0, \"ticks\": \"\"}}, \"marker\": {\"colorbar\": {\"outlinewidth\": 0, \"ticks\": \"\"}}, \"type\": \"scatter3d\"}], \"scattercarpet\": [{\"marker\": {\"colorbar\": {\"outlinewidth\": 0, \"ticks\": \"\"}}, \"type\": \"scattercarpet\"}], \"scattergeo\": [{\"marker\": {\"colorbar\": {\"outlinewidth\": 0, \"ticks\": \"\"}}, \"type\": \"scattergeo\"}], \"scattergl\": [{\"marker\": {\"colorbar\": {\"outlinewidth\": 0, \"ticks\": \"\"}}, \"type\": \"scattergl\"}], \"scattermapbox\": [{\"marker\": {\"colorbar\": {\"outlinewidth\": 0, \"ticks\": \"\"}}, \"type\": \"scattermapbox\"}], \"scatterpolar\": [{\"marker\": {\"colorbar\": {\"outlinewidth\": 0, \"ticks\": \"\"}}, \"type\": \"scatterpolar\"}], \"scatterpolargl\": [{\"marker\": {\"colorbar\": {\"outlinewidth\": 0, \"ticks\": \"\"}}, \"type\": \"scatterpolargl\"}], \"scatterternary\": [{\"marker\": {\"colorbar\": {\"outlinewidth\": 0, \"ticks\": \"\"}}, \"type\": \"scatterternary\"}], \"surface\": [{\"colorbar\": {\"outlinewidth\": 0, \"ticks\": \"\"}, \"colorscale\": [[0.0, \"#0d0887\"], [0.1111111111111111, \"#46039f\"], [0.2222222222222222, \"#7201a8\"], [0.3333333333333333, \"#9c179e\"], [0.4444444444444444, \"#bd3786\"], [0.5555555555555556, \"#d8576b\"], [0.6666666666666666, \"#ed7953\"], [0.7777777777777778, \"#fb9f3a\"], [0.8888888888888888, \"#fdca26\"], [1.0, \"#f0f921\"]], \"type\": \"surface\"}], \"table\": [{\"cells\": {\"fill\": {\"color\": \"#EBF0F8\"}, \"line\": {\"color\": \"white\"}}, \"header\": {\"fill\": {\"color\": \"#C8D4E3\"}, \"line\": {\"color\": \"white\"}}, \"type\": \"table\"}]}, \"layout\": {\"annotationdefaults\": {\"arrowcolor\": \"#2a3f5f\", \"arrowhead\": 0, \"arrowwidth\": 1}, \"coloraxis\": {\"colorbar\": {\"outlinewidth\": 0, \"ticks\": \"\"}}, \"colorscale\": {\"diverging\": [[0, \"#8e0152\"], [0.1, \"#c51b7d\"], [0.2, \"#de77ae\"], [0.3, \"#f1b6da\"], [0.4, \"#fde0ef\"], [0.5, \"#f7f7f7\"], [0.6, \"#e6f5d0\"], [0.7, \"#b8e186\"], [0.8, \"#7fbc41\"], [0.9, \"#4d9221\"], [1, \"#276419\"]], \"sequential\": [[0.0, \"#0d0887\"], [0.1111111111111111, \"#46039f\"], [0.2222222222222222, \"#7201a8\"], [0.3333333333333333, \"#9c179e\"], [0.4444444444444444, \"#bd3786\"], [0.5555555555555556, \"#d8576b\"], [0.6666666666666666, \"#ed7953\"], [0.7777777777777778, \"#fb9f3a\"], [0.8888888888888888, \"#fdca26\"], [1.0, \"#f0f921\"]], \"sequentialminus\": [[0.0, \"#0d0887\"], [0.1111111111111111, \"#46039f\"], [0.2222222222222222, \"#7201a8\"], [0.3333333333333333, \"#9c179e\"], [0.4444444444444444, \"#bd3786\"], [0.5555555555555556, \"#d8576b\"], [0.6666666666666666, \"#ed7953\"], [0.7777777777777778, \"#fb9f3a\"], [0.8888888888888888, \"#fdca26\"], [1.0, \"#f0f921\"]]}, \"colorway\": [\"#636efa\", \"#EF553B\", \"#00cc96\", \"#ab63fa\", \"#FFA15A\", \"#19d3f3\", \"#FF6692\", \"#B6E880\", \"#FF97FF\", \"#FECB52\"], \"font\": {\"color\": \"#2a3f5f\"}, \"geo\": {\"bgcolor\": \"white\", \"lakecolor\": \"white\", \"landcolor\": \"#E5ECF6\", \"showlakes\": true, \"showland\": true, \"subunitcolor\": \"white\"}, \"hoverlabel\": {\"align\": \"left\"}, \"hovermode\": \"closest\", \"mapbox\": {\"style\": \"light\"}, \"paper_bgcolor\": \"white\", \"plot_bgcolor\": \"#E5ECF6\", \"polar\": {\"angularaxis\": {\"gridcolor\": \"white\", \"linecolor\": \"white\", \"ticks\": \"\"}, \"bgcolor\": \"#E5ECF6\", \"radialaxis\": {\"gridcolor\": \"white\", \"linecolor\": \"white\", \"ticks\": \"\"}}, \"scene\": {\"xaxis\": {\"backgroundcolor\": \"#E5ECF6\", \"gridcolor\": \"white\", \"gridwidth\": 2, \"linecolor\": \"white\", \"showbackground\": true, \"ticks\": \"\", \"zerolinecolor\": \"white\"}, \"yaxis\": {\"backgroundcolor\": \"#E5ECF6\", \"gridcolor\": \"white\", \"gridwidth\": 2, \"linecolor\": \"white\", \"showbackground\": true, \"ticks\": \"\", \"zerolinecolor\": \"white\"}, \"zaxis\": {\"backgroundcolor\": \"#E5ECF6\", \"gridcolor\": \"white\", \"gridwidth\": 2, \"linecolor\": \"white\", \"showbackground\": true, \"ticks\": \"\", \"zerolinecolor\": \"white\"}}, \"shapedefaults\": {\"line\": {\"color\": \"#2a3f5f\"}}, \"ternary\": {\"aaxis\": {\"gridcolor\": \"white\", \"linecolor\": \"white\", \"ticks\": \"\"}, \"baxis\": {\"gridcolor\": \"white\", \"linecolor\": \"white\", \"ticks\": \"\"}, \"bgcolor\": \"#E5ECF6\", \"caxis\": {\"gridcolor\": \"white\", \"linecolor\": \"white\", \"ticks\": \"\"}}, \"title\": {\"x\": 0.05}, \"xaxis\": {\"automargin\": true, \"gridcolor\": \"white\", \"linecolor\": \"white\", \"ticks\": \"\", \"title\": {\"standoff\": 15}, \"zerolinecolor\": \"white\", \"zerolinewidth\": 2}, \"yaxis\": {\"automargin\": true, \"gridcolor\": \"white\", \"linecolor\": \"white\", \"ticks\": \"\", \"title\": {\"standoff\": 15}, \"zerolinecolor\": \"white\", \"zerolinewidth\": 2}}}, \"title\": {\"text\": \"Estimation error: histogram and boxplot\"}, \"xaxis\": {\"anchor\": \"y\", \"domain\": [0.0, 1.0], \"title\": {\"text\": \"Error: (running_time - running_time_estimate) (minutes)\"}}, \"xaxis2\": {\"anchor\": \"y2\", \"domain\": [0.0, 1.0], \"matches\": \"x\", \"showgrid\": true, \"showticklabels\": false}, \"yaxis\": {\"anchor\": \"x\", \"domain\": [0.0, 0.7326], \"title\": {\"text\": \"Count\"}}, \"yaxis2\": {\"anchor\": \"x2\", \"domain\": [0.7426, 1.0], \"matches\": \"y2\", \"showgrid\": false, \"showline\": false, \"showticklabels\": false, \"ticks\": \"\"}},\n",
       "                        {\"responsive\": true}\n",
       "                    ).then(function(){\n",
       "                            \n",
       "var gd = document.getElementById('fe62ea92-8d38-4c4d-a46e-4ed9e9e72307');\n",
       "var x = new MutationObserver(function (mutations, observer) {{\n",
       "        var display = window.getComputedStyle(gd).display;\n",
       "        if (!display || display === 'none') {{\n",
       "            console.log([gd, 'removed!']);\n",
       "            Plotly.purge(gd);\n",
       "            observer.disconnect();\n",
       "        }}\n",
       "}});\n",
       "\n",
       "// Listen for the removal of the full notebook cells\n",
       "var notebookContainer = gd.closest('#notebook-container');\n",
       "if (notebookContainer) {{\n",
       "    x.observe(notebookContainer, {childList: true});\n",
       "}}\n",
       "\n",
       "// Listen for the clearing of the current output cell\n",
       "var outputEl = gd.closest('.output');\n",
       "if (outputEl) {{\n",
       "    x.observe(outputEl, {childList: true});\n",
       "}}\n",
       "\n",
       "                        })\n",
       "                };\n",
       "                });\n",
       "            </script>\n",
       "        </div>"
      ]
     },
     "metadata": {},
     "output_type": "display_data"
    },
    {
     "data": {
      "application/vnd.plotly.v1+json": {
       "config": {
        "plotlyServerURL": "https://plot.ly"
       },
       "data": [
        {
         "marker": {
          "color": "red"
         },
         "name": "running time estimate",
         "type": "box",
         "x": [
          14,
          13,
          15,
          21,
          10,
          15,
          20,
          19,
          16,
          20,
          15,
          16,
          18,
          8,
          21,
          20,
          19,
          8,
          12,
          5,
          13,
          5,
          16,
          14,
          17,
          14,
          11,
          11,
          8,
          6,
          20,
          11,
          16,
          16,
          18,
          6,
          16,
          7,
          19,
          20,
          6,
          13,
          17,
          11,
          13,
          21,
          10,
          20,
          10,
          12,
          18,
          18,
          13,
          14,
          12,
          14,
          15,
          13,
          20,
          15,
          13,
          6,
          6,
          9,
          6,
          15,
          18,
          8,
          20,
          22,
          18,
          14,
          18,
          22,
          6,
          12,
          15,
          9,
          21,
          15,
          13,
          17,
          22,
          11,
          22,
          12,
          6,
          20,
          12,
          18,
          21,
          9,
          17,
          8,
          19,
          18,
          15,
          11,
          7,
          6,
          17,
          17,
          5,
          13,
          5,
          8,
          10,
          14,
          8,
          7,
          20,
          10,
          20,
          14,
          16,
          21
         ],
         "y": [
          13.566666666666666,
          13.566666666666666,
          13.566666666666666,
          13.566666666666666,
          13.566666666666666,
          13.566666666666666,
          13.566666666666666,
          13.566666666666666,
          13.566666666666666,
          13.566666666666666,
          13.566666666666666,
          13.566666666666666,
          13.566666666666666,
          13.566666666666666,
          13.566666666666666,
          13.566666666666666,
          13.566666666666666,
          13.566666666666666,
          13.566666666666666,
          13.566666666666666,
          13.566666666666666,
          13.566666666666666,
          13.566666666666666,
          13.566666666666666,
          13.566666666666666,
          13.566666666666666,
          13.566666666666666,
          13.566666666666666,
          13.566666666666666,
          13.566666666666666,
          13.566666666666666,
          13.566666666666666,
          13.566666666666666,
          13.566666666666666,
          13.566666666666666,
          13.566666666666666,
          13.566666666666666,
          13.566666666666666,
          13.566666666666666,
          13.566666666666666,
          13.566666666666666,
          13.566666666666666,
          13.566666666666666,
          13.566666666666666,
          13.566666666666666,
          13.566666666666666,
          13.566666666666666,
          13.566666666666666,
          13.566666666666666,
          13.566666666666666,
          13.566666666666666,
          13.566666666666666,
          13.566666666666666,
          13.566666666666666,
          13.566666666666666,
          13.566666666666666,
          13.566666666666666,
          13.566666666666666,
          13.566666666666666,
          13.566666666666666,
          13.566666666666666,
          13.566666666666666,
          13.566666666666666,
          13.566666666666666,
          13.566666666666666,
          13.566666666666666,
          13.566666666666666,
          13.566666666666666,
          13.566666666666666,
          13.566666666666666,
          13.566666666666666,
          13.566666666666666,
          13.566666666666666,
          13.566666666666666,
          13.566666666666666,
          13.566666666666666,
          13.566666666666666,
          13.566666666666666,
          13.566666666666666,
          13.566666666666666,
          13.566666666666666,
          13.566666666666666,
          13.566666666666666,
          13.566666666666666,
          13.566666666666666,
          13.566666666666666,
          13.566666666666666,
          13.566666666666666,
          13.566666666666666,
          13.566666666666666,
          13.566666666666666,
          13.566666666666666,
          13.566666666666666,
          13.566666666666666,
          13.566666666666666,
          13.566666666666666,
          13.566666666666666,
          13.566666666666666,
          13.566666666666666,
          13.566666666666666,
          13.566666666666666,
          13.566666666666666,
          13.566666666666666,
          13.566666666666666,
          13.566666666666666,
          13.566666666666666,
          13.566666666666666,
          13.566666666666666,
          13.566666666666666,
          13.566666666666666,
          13.566666666666666,
          13.566666666666666,
          13.566666666666666,
          13.566666666666666,
          13.566666666666666,
          13.566666666666666
         ]
        },
        {
         "marker": {
          "color": "green"
         },
         "name": "running time",
         "type": "box",
         "x": [
          14,
          13,
          15,
          21,
          10,
          15,
          20,
          19,
          16,
          20,
          15,
          16,
          18,
          8,
          21,
          20,
          19,
          8,
          12,
          5,
          13,
          5,
          16,
          14,
          17,
          14,
          11,
          11,
          8,
          6,
          20,
          11,
          16,
          16,
          18,
          6,
          16,
          7,
          19,
          20,
          6,
          13,
          17,
          11,
          13,
          21,
          10,
          20,
          10,
          12,
          18,
          18,
          13,
          14,
          12,
          14,
          15,
          13,
          20,
          15,
          13,
          6,
          6,
          9,
          6,
          15,
          18,
          8,
          20,
          22,
          18,
          14,
          18,
          22,
          6,
          12,
          15,
          9,
          21,
          15,
          13,
          17,
          22,
          11,
          22,
          12,
          6,
          20,
          12,
          18,
          21,
          9,
          17,
          8,
          19,
          18,
          15,
          11,
          7,
          6,
          17,
          17,
          5,
          13,
          5,
          8,
          10,
          14,
          8,
          7,
          20,
          10,
          20,
          14,
          16,
          21
         ],
         "y": [
          13.75,
          14.85,
          16.900000000000002,
          10.133333333333333,
          12.5,
          17.333333333333332,
          13.166666666666666,
          14.683333333333334,
          13.683333333333334,
          14.033333333333333,
          11.3,
          12.2,
          15.583333333333336,
          11.583333333333334,
          9.683333333333334,
          13.35,
          13.7,
          16.3,
          14.85,
          11.9,
          12.3,
          12.233333333333333,
          17.966666666666665,
          14.316666666666666,
          12.333333333333334,
          10.033333333333333,
          14.7,
          13.283333333333333,
          13.583333333333334,
          13.95,
          12.766666666666667,
          11.683333333333334,
          12.833333333333334,
          15.383333333333335,
          14.6,
          13.816666666666666,
          15.600000000000001,
          13.766666666666667,
          13.633333333333333,
          13.9,
          16.8,
          12.066666666666666,
          15.016666666666667,
          13,
          14.4,
          11.283333333333333,
          14.066666666666666,
          12.483333333333333,
          12.516666666666667,
          12.466666666666667,
          13.1,
          16.283333333333335,
          13.3,
          13.366666666666667,
          12.883333333333333,
          15.400000000000002,
          14.8,
          14.8,
          13.333333333333334,
          10.333333333333334,
          11.05,
          14.283333333333333,
          14.733333333333333,
          12.183333333333334,
          13.3,
          16.56666666666667,
          14.3,
          13.15,
          12.383333333333333,
          10.433333333333334,
          15.633333333333335,
          15.783333333333335,
          16.783333333333335,
          9.116666666666667,
          14.183333333333334,
          14.383333333333333,
          10.45,
          13.883333333333333,
          11.933333333333334,
          14.633333333333333,
          14.033333333333333,
          15.683333333333335,
          11.366666666666667,
          13.183333333333334,
          10.6,
          12.983333333333333,
          14,
          13.116666666666667,
          13.05,
          12.516666666666667,
          8.066666666666668,
          9.933333333333334,
          14.783333333333333,
          10.533333333333333,
          11.166666666666666,
          16.05,
          17.05,
          14.983333333333333,
          14,
          16.1,
          14.916666666666666,
          11.916666666666666,
          10.666666666666666,
          15.566666666666668,
          11.7,
          13.85,
          13.183333333333334,
          14.65,
          10.8,
          13.6,
          8.85,
          11.433333333333334,
          11.383333333333333,
          11.783333333333333,
          15.383333333333335,
          10.883333333333333
         ]
        }
       ],
       "layout": {
        "template": {
         "data": {
          "bar": [
           {
            "error_x": {
             "color": "#2a3f5f"
            },
            "error_y": {
             "color": "#2a3f5f"
            },
            "marker": {
             "line": {
              "color": "#E5ECF6",
              "width": 0.5
             }
            },
            "type": "bar"
           }
          ],
          "barpolar": [
           {
            "marker": {
             "line": {
              "color": "#E5ECF6",
              "width": 0.5
             }
            },
            "type": "barpolar"
           }
          ],
          "carpet": [
           {
            "aaxis": {
             "endlinecolor": "#2a3f5f",
             "gridcolor": "white",
             "linecolor": "white",
             "minorgridcolor": "white",
             "startlinecolor": "#2a3f5f"
            },
            "baxis": {
             "endlinecolor": "#2a3f5f",
             "gridcolor": "white",
             "linecolor": "white",
             "minorgridcolor": "white",
             "startlinecolor": "#2a3f5f"
            },
            "type": "carpet"
           }
          ],
          "choropleth": [
           {
            "colorbar": {
             "outlinewidth": 0,
             "ticks": ""
            },
            "type": "choropleth"
           }
          ],
          "contour": [
           {
            "colorbar": {
             "outlinewidth": 0,
             "ticks": ""
            },
            "colorscale": [
             [
              0,
              "#0d0887"
             ],
             [
              0.1111111111111111,
              "#46039f"
             ],
             [
              0.2222222222222222,
              "#7201a8"
             ],
             [
              0.3333333333333333,
              "#9c179e"
             ],
             [
              0.4444444444444444,
              "#bd3786"
             ],
             [
              0.5555555555555556,
              "#d8576b"
             ],
             [
              0.6666666666666666,
              "#ed7953"
             ],
             [
              0.7777777777777778,
              "#fb9f3a"
             ],
             [
              0.8888888888888888,
              "#fdca26"
             ],
             [
              1,
              "#f0f921"
             ]
            ],
            "type": "contour"
           }
          ],
          "contourcarpet": [
           {
            "colorbar": {
             "outlinewidth": 0,
             "ticks": ""
            },
            "type": "contourcarpet"
           }
          ],
          "heatmap": [
           {
            "colorbar": {
             "outlinewidth": 0,
             "ticks": ""
            },
            "colorscale": [
             [
              0,
              "#0d0887"
             ],
             [
              0.1111111111111111,
              "#46039f"
             ],
             [
              0.2222222222222222,
              "#7201a8"
             ],
             [
              0.3333333333333333,
              "#9c179e"
             ],
             [
              0.4444444444444444,
              "#bd3786"
             ],
             [
              0.5555555555555556,
              "#d8576b"
             ],
             [
              0.6666666666666666,
              "#ed7953"
             ],
             [
              0.7777777777777778,
              "#fb9f3a"
             ],
             [
              0.8888888888888888,
              "#fdca26"
             ],
             [
              1,
              "#f0f921"
             ]
            ],
            "type": "heatmap"
           }
          ],
          "heatmapgl": [
           {
            "colorbar": {
             "outlinewidth": 0,
             "ticks": ""
            },
            "colorscale": [
             [
              0,
              "#0d0887"
             ],
             [
              0.1111111111111111,
              "#46039f"
             ],
             [
              0.2222222222222222,
              "#7201a8"
             ],
             [
              0.3333333333333333,
              "#9c179e"
             ],
             [
              0.4444444444444444,
              "#bd3786"
             ],
             [
              0.5555555555555556,
              "#d8576b"
             ],
             [
              0.6666666666666666,
              "#ed7953"
             ],
             [
              0.7777777777777778,
              "#fb9f3a"
             ],
             [
              0.8888888888888888,
              "#fdca26"
             ],
             [
              1,
              "#f0f921"
             ]
            ],
            "type": "heatmapgl"
           }
          ],
          "histogram": [
           {
            "marker": {
             "colorbar": {
              "outlinewidth": 0,
              "ticks": ""
             }
            },
            "type": "histogram"
           }
          ],
          "histogram2d": [
           {
            "colorbar": {
             "outlinewidth": 0,
             "ticks": ""
            },
            "colorscale": [
             [
              0,
              "#0d0887"
             ],
             [
              0.1111111111111111,
              "#46039f"
             ],
             [
              0.2222222222222222,
              "#7201a8"
             ],
             [
              0.3333333333333333,
              "#9c179e"
             ],
             [
              0.4444444444444444,
              "#bd3786"
             ],
             [
              0.5555555555555556,
              "#d8576b"
             ],
             [
              0.6666666666666666,
              "#ed7953"
             ],
             [
              0.7777777777777778,
              "#fb9f3a"
             ],
             [
              0.8888888888888888,
              "#fdca26"
             ],
             [
              1,
              "#f0f921"
             ]
            ],
            "type": "histogram2d"
           }
          ],
          "histogram2dcontour": [
           {
            "colorbar": {
             "outlinewidth": 0,
             "ticks": ""
            },
            "colorscale": [
             [
              0,
              "#0d0887"
             ],
             [
              0.1111111111111111,
              "#46039f"
             ],
             [
              0.2222222222222222,
              "#7201a8"
             ],
             [
              0.3333333333333333,
              "#9c179e"
             ],
             [
              0.4444444444444444,
              "#bd3786"
             ],
             [
              0.5555555555555556,
              "#d8576b"
             ],
             [
              0.6666666666666666,
              "#ed7953"
             ],
             [
              0.7777777777777778,
              "#fb9f3a"
             ],
             [
              0.8888888888888888,
              "#fdca26"
             ],
             [
              1,
              "#f0f921"
             ]
            ],
            "type": "histogram2dcontour"
           }
          ],
          "mesh3d": [
           {
            "colorbar": {
             "outlinewidth": 0,
             "ticks": ""
            },
            "type": "mesh3d"
           }
          ],
          "parcoords": [
           {
            "line": {
             "colorbar": {
              "outlinewidth": 0,
              "ticks": ""
             }
            },
            "type": "parcoords"
           }
          ],
          "pie": [
           {
            "automargin": true,
            "type": "pie"
           }
          ],
          "scatter": [
           {
            "marker": {
             "colorbar": {
              "outlinewidth": 0,
              "ticks": ""
             }
            },
            "type": "scatter"
           }
          ],
          "scatter3d": [
           {
            "line": {
             "colorbar": {
              "outlinewidth": 0,
              "ticks": ""
             }
            },
            "marker": {
             "colorbar": {
              "outlinewidth": 0,
              "ticks": ""
             }
            },
            "type": "scatter3d"
           }
          ],
          "scattercarpet": [
           {
            "marker": {
             "colorbar": {
              "outlinewidth": 0,
              "ticks": ""
             }
            },
            "type": "scattercarpet"
           }
          ],
          "scattergeo": [
           {
            "marker": {
             "colorbar": {
              "outlinewidth": 0,
              "ticks": ""
             }
            },
            "type": "scattergeo"
           }
          ],
          "scattergl": [
           {
            "marker": {
             "colorbar": {
              "outlinewidth": 0,
              "ticks": ""
             }
            },
            "type": "scattergl"
           }
          ],
          "scattermapbox": [
           {
            "marker": {
             "colorbar": {
              "outlinewidth": 0,
              "ticks": ""
             }
            },
            "type": "scattermapbox"
           }
          ],
          "scatterpolar": [
           {
            "marker": {
             "colorbar": {
              "outlinewidth": 0,
              "ticks": ""
             }
            },
            "type": "scatterpolar"
           }
          ],
          "scatterpolargl": [
           {
            "marker": {
             "colorbar": {
              "outlinewidth": 0,
              "ticks": ""
             }
            },
            "type": "scatterpolargl"
           }
          ],
          "scatterternary": [
           {
            "marker": {
             "colorbar": {
              "outlinewidth": 0,
              "ticks": ""
             }
            },
            "type": "scatterternary"
           }
          ],
          "surface": [
           {
            "colorbar": {
             "outlinewidth": 0,
             "ticks": ""
            },
            "colorscale": [
             [
              0,
              "#0d0887"
             ],
             [
              0.1111111111111111,
              "#46039f"
             ],
             [
              0.2222222222222222,
              "#7201a8"
             ],
             [
              0.3333333333333333,
              "#9c179e"
             ],
             [
              0.4444444444444444,
              "#bd3786"
             ],
             [
              0.5555555555555556,
              "#d8576b"
             ],
             [
              0.6666666666666666,
              "#ed7953"
             ],
             [
              0.7777777777777778,
              "#fb9f3a"
             ],
             [
              0.8888888888888888,
              "#fdca26"
             ],
             [
              1,
              "#f0f921"
             ]
            ],
            "type": "surface"
           }
          ],
          "table": [
           {
            "cells": {
             "fill": {
              "color": "#EBF0F8"
             },
             "line": {
              "color": "white"
             }
            },
            "header": {
             "fill": {
              "color": "#C8D4E3"
             },
             "line": {
              "color": "white"
             }
            },
            "type": "table"
           }
          ]
         },
         "layout": {
          "annotationdefaults": {
           "arrowcolor": "#2a3f5f",
           "arrowhead": 0,
           "arrowwidth": 1
          },
          "coloraxis": {
           "colorbar": {
            "outlinewidth": 0,
            "ticks": ""
           }
          },
          "colorscale": {
           "diverging": [
            [
             0,
             "#8e0152"
            ],
            [
             0.1,
             "#c51b7d"
            ],
            [
             0.2,
             "#de77ae"
            ],
            [
             0.3,
             "#f1b6da"
            ],
            [
             0.4,
             "#fde0ef"
            ],
            [
             0.5,
             "#f7f7f7"
            ],
            [
             0.6,
             "#e6f5d0"
            ],
            [
             0.7,
             "#b8e186"
            ],
            [
             0.8,
             "#7fbc41"
            ],
            [
             0.9,
             "#4d9221"
            ],
            [
             1,
             "#276419"
            ]
           ],
           "sequential": [
            [
             0,
             "#0d0887"
            ],
            [
             0.1111111111111111,
             "#46039f"
            ],
            [
             0.2222222222222222,
             "#7201a8"
            ],
            [
             0.3333333333333333,
             "#9c179e"
            ],
            [
             0.4444444444444444,
             "#bd3786"
            ],
            [
             0.5555555555555556,
             "#d8576b"
            ],
            [
             0.6666666666666666,
             "#ed7953"
            ],
            [
             0.7777777777777778,
             "#fb9f3a"
            ],
            [
             0.8888888888888888,
             "#fdca26"
            ],
            [
             1,
             "#f0f921"
            ]
           ],
           "sequentialminus": [
            [
             0,
             "#0d0887"
            ],
            [
             0.1111111111111111,
             "#46039f"
            ],
            [
             0.2222222222222222,
             "#7201a8"
            ],
            [
             0.3333333333333333,
             "#9c179e"
            ],
            [
             0.4444444444444444,
             "#bd3786"
            ],
            [
             0.5555555555555556,
             "#d8576b"
            ],
            [
             0.6666666666666666,
             "#ed7953"
            ],
            [
             0.7777777777777778,
             "#fb9f3a"
            ],
            [
             0.8888888888888888,
             "#fdca26"
            ],
            [
             1,
             "#f0f921"
            ]
           ]
          },
          "colorway": [
           "#636efa",
           "#EF553B",
           "#00cc96",
           "#ab63fa",
           "#FFA15A",
           "#19d3f3",
           "#FF6692",
           "#B6E880",
           "#FF97FF",
           "#FECB52"
          ],
          "font": {
           "color": "#2a3f5f"
          },
          "geo": {
           "bgcolor": "white",
           "lakecolor": "white",
           "landcolor": "#E5ECF6",
           "showlakes": true,
           "showland": true,
           "subunitcolor": "white"
          },
          "hoverlabel": {
           "align": "left"
          },
          "hovermode": "closest",
          "mapbox": {
           "style": "light"
          },
          "paper_bgcolor": "white",
          "plot_bgcolor": "#E5ECF6",
          "polar": {
           "angularaxis": {
            "gridcolor": "white",
            "linecolor": "white",
            "ticks": ""
           },
           "bgcolor": "#E5ECF6",
           "radialaxis": {
            "gridcolor": "white",
            "linecolor": "white",
            "ticks": ""
           }
          },
          "scene": {
           "xaxis": {
            "backgroundcolor": "#E5ECF6",
            "gridcolor": "white",
            "gridwidth": 2,
            "linecolor": "white",
            "showbackground": true,
            "ticks": "",
            "zerolinecolor": "white"
           },
           "yaxis": {
            "backgroundcolor": "#E5ECF6",
            "gridcolor": "white",
            "gridwidth": 2,
            "linecolor": "white",
            "showbackground": true,
            "ticks": "",
            "zerolinecolor": "white"
           },
           "zaxis": {
            "backgroundcolor": "#E5ECF6",
            "gridcolor": "white",
            "gridwidth": 2,
            "linecolor": "white",
            "showbackground": true,
            "ticks": "",
            "zerolinecolor": "white"
           }
          },
          "shapedefaults": {
           "line": {
            "color": "#2a3f5f"
           }
          },
          "ternary": {
           "aaxis": {
            "gridcolor": "white",
            "linecolor": "white",
            "ticks": ""
           },
           "baxis": {
            "gridcolor": "white",
            "linecolor": "white",
            "ticks": ""
           },
           "bgcolor": "#E5ECF6",
           "caxis": {
            "gridcolor": "white",
            "linecolor": "white",
            "ticks": ""
           }
          },
          "title": {
           "x": 0.05
          },
          "xaxis": {
           "automargin": true,
           "gridcolor": "white",
           "linecolor": "white",
           "ticks": "",
           "title": {
            "standoff": 15
           },
           "zerolinecolor": "white",
           "zerolinewidth": 2
          },
          "yaxis": {
           "automargin": true,
           "gridcolor": "white",
           "linecolor": "white",
           "ticks": "",
           "title": {
            "standoff": 15
           },
           "zerolinecolor": "white",
           "zerolinewidth": 2
          }
         }
        },
        "title": {
         "text": "Estimated running times and running times through the day"
        },
        "xaxis": {
         "title": {
          "text": "Hour of the day"
         }
        },
        "yaxis": {
         "title": {
          "text": "Running time (minutes)"
         }
        }
       }
      },
      "text/html": [
       "<div>\n",
       "        \n",
       "        \n",
       "            <div id=\"24067aab-c091-48ba-aa85-657be2d85117\" class=\"plotly-graph-div\" style=\"height:525px; width:100%;\"></div>\n",
       "            <script type=\"text/javascript\">\n",
       "                require([\"plotly\"], function(Plotly) {\n",
       "                    window.PLOTLYENV=window.PLOTLYENV || {};\n",
       "                    \n",
       "                if (document.getElementById(\"24067aab-c091-48ba-aa85-657be2d85117\")) {\n",
       "                    Plotly.newPlot(\n",
       "                        '24067aab-c091-48ba-aa85-657be2d85117',\n",
       "                        [{\"marker\": {\"color\": \"red\"}, \"name\": \"running time estimate\", \"type\": \"box\", \"x\": [14, 13, 15, 21, 10, 15, 20, 19, 16, 20, 15, 16, 18, 8, 21, 20, 19, 8, 12, 5, 13, 5, 16, 14, 17, 14, 11, 11, 8, 6, 20, 11, 16, 16, 18, 6, 16, 7, 19, 20, 6, 13, 17, 11, 13, 21, 10, 20, 10, 12, 18, 18, 13, 14, 12, 14, 15, 13, 20, 15, 13, 6, 6, 9, 6, 15, 18, 8, 20, 22, 18, 14, 18, 22, 6, 12, 15, 9, 21, 15, 13, 17, 22, 11, 22, 12, 6, 20, 12, 18, 21, 9, 17, 8, 19, 18, 15, 11, 7, 6, 17, 17, 5, 13, 5, 8, 10, 14, 8, 7, 20, 10, 20, 14, 16, 21], \"y\": [13.566666666666666, 13.566666666666666, 13.566666666666666, 13.566666666666666, 13.566666666666666, 13.566666666666666, 13.566666666666666, 13.566666666666666, 13.566666666666666, 13.566666666666666, 13.566666666666666, 13.566666666666666, 13.566666666666666, 13.566666666666666, 13.566666666666666, 13.566666666666666, 13.566666666666666, 13.566666666666666, 13.566666666666666, 13.566666666666666, 13.566666666666666, 13.566666666666666, 13.566666666666666, 13.566666666666666, 13.566666666666666, 13.566666666666666, 13.566666666666666, 13.566666666666666, 13.566666666666666, 13.566666666666666, 13.566666666666666, 13.566666666666666, 13.566666666666666, 13.566666666666666, 13.566666666666666, 13.566666666666666, 13.566666666666666, 13.566666666666666, 13.566666666666666, 13.566666666666666, 13.566666666666666, 13.566666666666666, 13.566666666666666, 13.566666666666666, 13.566666666666666, 13.566666666666666, 13.566666666666666, 13.566666666666666, 13.566666666666666, 13.566666666666666, 13.566666666666666, 13.566666666666666, 13.566666666666666, 13.566666666666666, 13.566666666666666, 13.566666666666666, 13.566666666666666, 13.566666666666666, 13.566666666666666, 13.566666666666666, 13.566666666666666, 13.566666666666666, 13.566666666666666, 13.566666666666666, 13.566666666666666, 13.566666666666666, 13.566666666666666, 13.566666666666666, 13.566666666666666, 13.566666666666666, 13.566666666666666, 13.566666666666666, 13.566666666666666, 13.566666666666666, 13.566666666666666, 13.566666666666666, 13.566666666666666, 13.566666666666666, 13.566666666666666, 13.566666666666666, 13.566666666666666, 13.566666666666666, 13.566666666666666, 13.566666666666666, 13.566666666666666, 13.566666666666666, 13.566666666666666, 13.566666666666666, 13.566666666666666, 13.566666666666666, 13.566666666666666, 13.566666666666666, 13.566666666666666, 13.566666666666666, 13.566666666666666, 13.566666666666666, 13.566666666666666, 13.566666666666666, 13.566666666666666, 13.566666666666666, 13.566666666666666, 13.566666666666666, 13.566666666666666, 13.566666666666666, 13.566666666666666, 13.566666666666666, 13.566666666666666, 13.566666666666666, 13.566666666666666, 13.566666666666666, 13.566666666666666, 13.566666666666666, 13.566666666666666, 13.566666666666666, 13.566666666666666, 13.566666666666666]}, {\"marker\": {\"color\": \"green\"}, \"name\": \"running time\", \"type\": \"box\", \"x\": [14, 13, 15, 21, 10, 15, 20, 19, 16, 20, 15, 16, 18, 8, 21, 20, 19, 8, 12, 5, 13, 5, 16, 14, 17, 14, 11, 11, 8, 6, 20, 11, 16, 16, 18, 6, 16, 7, 19, 20, 6, 13, 17, 11, 13, 21, 10, 20, 10, 12, 18, 18, 13, 14, 12, 14, 15, 13, 20, 15, 13, 6, 6, 9, 6, 15, 18, 8, 20, 22, 18, 14, 18, 22, 6, 12, 15, 9, 21, 15, 13, 17, 22, 11, 22, 12, 6, 20, 12, 18, 21, 9, 17, 8, 19, 18, 15, 11, 7, 6, 17, 17, 5, 13, 5, 8, 10, 14, 8, 7, 20, 10, 20, 14, 16, 21], \"y\": [13.75, 14.85, 16.900000000000002, 10.133333333333333, 12.5, 17.333333333333332, 13.166666666666666, 14.683333333333334, 13.683333333333334, 14.033333333333333, 11.3, 12.2, 15.583333333333336, 11.583333333333334, 9.683333333333334, 13.35, 13.7, 16.3, 14.85, 11.9, 12.3, 12.233333333333333, 17.966666666666665, 14.316666666666666, 12.333333333333334, 10.033333333333333, 14.7, 13.283333333333333, 13.583333333333334, 13.95, 12.766666666666667, 11.683333333333334, 12.833333333333334, 15.383333333333335, 14.6, 13.816666666666666, 15.600000000000001, 13.766666666666667, 13.633333333333333, 13.9, 16.8, 12.066666666666666, 15.016666666666667, 13.0, 14.4, 11.283333333333333, 14.066666666666666, 12.483333333333333, 12.516666666666667, 12.466666666666667, 13.1, 16.283333333333335, 13.3, 13.366666666666667, 12.883333333333333, 15.400000000000002, 14.8, 14.8, 13.333333333333334, 10.333333333333334, 11.05, 14.283333333333333, 14.733333333333333, 12.183333333333334, 13.3, 16.56666666666667, 14.3, 13.15, 12.383333333333333, 10.433333333333334, 15.633333333333335, 15.783333333333335, 16.783333333333335, 9.116666666666667, 14.183333333333334, 14.383333333333333, 10.45, 13.883333333333333, 11.933333333333334, 14.633333333333333, 14.033333333333333, 15.683333333333335, 11.366666666666667, 13.183333333333334, 10.6, 12.983333333333333, 14.0, 13.116666666666667, 13.05, 12.516666666666667, 8.066666666666668, 9.933333333333334, 14.783333333333333, 10.533333333333333, 11.166666666666666, 16.05, 17.05, 14.983333333333333, 14.0, 16.1, 14.916666666666666, 11.916666666666666, 10.666666666666666, 15.566666666666668, 11.7, 13.85, 13.183333333333334, 14.65, 10.8, 13.6, 8.85, 11.433333333333334, 11.383333333333333, 11.783333333333333, 15.383333333333335, 10.883333333333333]}],\n",
       "                        {\"template\": {\"data\": {\"bar\": [{\"error_x\": {\"color\": \"#2a3f5f\"}, \"error_y\": {\"color\": \"#2a3f5f\"}, \"marker\": {\"line\": {\"color\": \"#E5ECF6\", \"width\": 0.5}}, \"type\": \"bar\"}], \"barpolar\": [{\"marker\": {\"line\": {\"color\": \"#E5ECF6\", \"width\": 0.5}}, \"type\": \"barpolar\"}], \"carpet\": [{\"aaxis\": {\"endlinecolor\": \"#2a3f5f\", \"gridcolor\": \"white\", \"linecolor\": \"white\", \"minorgridcolor\": \"white\", \"startlinecolor\": \"#2a3f5f\"}, \"baxis\": {\"endlinecolor\": \"#2a3f5f\", \"gridcolor\": \"white\", \"linecolor\": \"white\", \"minorgridcolor\": \"white\", \"startlinecolor\": \"#2a3f5f\"}, \"type\": \"carpet\"}], \"choropleth\": [{\"colorbar\": {\"outlinewidth\": 0, \"ticks\": \"\"}, \"type\": \"choropleth\"}], \"contour\": [{\"colorbar\": {\"outlinewidth\": 0, \"ticks\": \"\"}, \"colorscale\": [[0.0, \"#0d0887\"], [0.1111111111111111, \"#46039f\"], [0.2222222222222222, \"#7201a8\"], [0.3333333333333333, \"#9c179e\"], [0.4444444444444444, \"#bd3786\"], [0.5555555555555556, \"#d8576b\"], [0.6666666666666666, \"#ed7953\"], [0.7777777777777778, \"#fb9f3a\"], [0.8888888888888888, \"#fdca26\"], [1.0, \"#f0f921\"]], \"type\": \"contour\"}], \"contourcarpet\": [{\"colorbar\": {\"outlinewidth\": 0, \"ticks\": \"\"}, \"type\": \"contourcarpet\"}], \"heatmap\": [{\"colorbar\": {\"outlinewidth\": 0, \"ticks\": \"\"}, \"colorscale\": [[0.0, \"#0d0887\"], [0.1111111111111111, \"#46039f\"], [0.2222222222222222, \"#7201a8\"], [0.3333333333333333, \"#9c179e\"], [0.4444444444444444, \"#bd3786\"], [0.5555555555555556, \"#d8576b\"], [0.6666666666666666, \"#ed7953\"], [0.7777777777777778, \"#fb9f3a\"], [0.8888888888888888, \"#fdca26\"], [1.0, \"#f0f921\"]], \"type\": \"heatmap\"}], \"heatmapgl\": [{\"colorbar\": {\"outlinewidth\": 0, \"ticks\": \"\"}, \"colorscale\": [[0.0, \"#0d0887\"], [0.1111111111111111, \"#46039f\"], [0.2222222222222222, \"#7201a8\"], [0.3333333333333333, \"#9c179e\"], [0.4444444444444444, \"#bd3786\"], [0.5555555555555556, \"#d8576b\"], [0.6666666666666666, \"#ed7953\"], [0.7777777777777778, \"#fb9f3a\"], [0.8888888888888888, \"#fdca26\"], [1.0, \"#f0f921\"]], \"type\": \"heatmapgl\"}], \"histogram\": [{\"marker\": {\"colorbar\": {\"outlinewidth\": 0, \"ticks\": \"\"}}, \"type\": \"histogram\"}], \"histogram2d\": [{\"colorbar\": {\"outlinewidth\": 0, \"ticks\": \"\"}, \"colorscale\": [[0.0, \"#0d0887\"], [0.1111111111111111, \"#46039f\"], [0.2222222222222222, \"#7201a8\"], [0.3333333333333333, \"#9c179e\"], [0.4444444444444444, \"#bd3786\"], [0.5555555555555556, \"#d8576b\"], [0.6666666666666666, \"#ed7953\"], [0.7777777777777778, \"#fb9f3a\"], [0.8888888888888888, \"#fdca26\"], [1.0, \"#f0f921\"]], \"type\": \"histogram2d\"}], \"histogram2dcontour\": [{\"colorbar\": {\"outlinewidth\": 0, \"ticks\": \"\"}, \"colorscale\": [[0.0, \"#0d0887\"], [0.1111111111111111, \"#46039f\"], [0.2222222222222222, \"#7201a8\"], [0.3333333333333333, \"#9c179e\"], [0.4444444444444444, \"#bd3786\"], [0.5555555555555556, \"#d8576b\"], [0.6666666666666666, \"#ed7953\"], [0.7777777777777778, \"#fb9f3a\"], [0.8888888888888888, \"#fdca26\"], [1.0, \"#f0f921\"]], \"type\": \"histogram2dcontour\"}], \"mesh3d\": [{\"colorbar\": {\"outlinewidth\": 0, \"ticks\": \"\"}, \"type\": \"mesh3d\"}], \"parcoords\": [{\"line\": {\"colorbar\": {\"outlinewidth\": 0, \"ticks\": \"\"}}, \"type\": \"parcoords\"}], \"pie\": [{\"automargin\": true, \"type\": \"pie\"}], \"scatter\": [{\"marker\": {\"colorbar\": {\"outlinewidth\": 0, \"ticks\": \"\"}}, \"type\": \"scatter\"}], \"scatter3d\": [{\"line\": {\"colorbar\": {\"outlinewidth\": 0, \"ticks\": \"\"}}, \"marker\": {\"colorbar\": {\"outlinewidth\": 0, \"ticks\": \"\"}}, \"type\": \"scatter3d\"}], \"scattercarpet\": [{\"marker\": {\"colorbar\": {\"outlinewidth\": 0, \"ticks\": \"\"}}, \"type\": \"scattercarpet\"}], \"scattergeo\": [{\"marker\": {\"colorbar\": {\"outlinewidth\": 0, \"ticks\": \"\"}}, \"type\": \"scattergeo\"}], \"scattergl\": [{\"marker\": {\"colorbar\": {\"outlinewidth\": 0, \"ticks\": \"\"}}, \"type\": \"scattergl\"}], \"scattermapbox\": [{\"marker\": {\"colorbar\": {\"outlinewidth\": 0, \"ticks\": \"\"}}, \"type\": \"scattermapbox\"}], \"scatterpolar\": [{\"marker\": {\"colorbar\": {\"outlinewidth\": 0, \"ticks\": \"\"}}, \"type\": \"scatterpolar\"}], \"scatterpolargl\": [{\"marker\": {\"colorbar\": {\"outlinewidth\": 0, \"ticks\": \"\"}}, \"type\": \"scatterpolargl\"}], \"scatterternary\": [{\"marker\": {\"colorbar\": {\"outlinewidth\": 0, \"ticks\": \"\"}}, \"type\": \"scatterternary\"}], \"surface\": [{\"colorbar\": {\"outlinewidth\": 0, \"ticks\": \"\"}, \"colorscale\": [[0.0, \"#0d0887\"], [0.1111111111111111, \"#46039f\"], [0.2222222222222222, \"#7201a8\"], [0.3333333333333333, \"#9c179e\"], [0.4444444444444444, \"#bd3786\"], [0.5555555555555556, \"#d8576b\"], [0.6666666666666666, \"#ed7953\"], [0.7777777777777778, \"#fb9f3a\"], [0.8888888888888888, \"#fdca26\"], [1.0, \"#f0f921\"]], \"type\": \"surface\"}], \"table\": [{\"cells\": {\"fill\": {\"color\": \"#EBF0F8\"}, \"line\": {\"color\": \"white\"}}, \"header\": {\"fill\": {\"color\": \"#C8D4E3\"}, \"line\": {\"color\": \"white\"}}, \"type\": \"table\"}]}, \"layout\": {\"annotationdefaults\": {\"arrowcolor\": \"#2a3f5f\", \"arrowhead\": 0, \"arrowwidth\": 1}, \"coloraxis\": {\"colorbar\": {\"outlinewidth\": 0, \"ticks\": \"\"}}, \"colorscale\": {\"diverging\": [[0, \"#8e0152\"], [0.1, \"#c51b7d\"], [0.2, \"#de77ae\"], [0.3, \"#f1b6da\"], [0.4, \"#fde0ef\"], [0.5, \"#f7f7f7\"], [0.6, \"#e6f5d0\"], [0.7, \"#b8e186\"], [0.8, \"#7fbc41\"], [0.9, \"#4d9221\"], [1, \"#276419\"]], \"sequential\": [[0.0, \"#0d0887\"], [0.1111111111111111, \"#46039f\"], [0.2222222222222222, \"#7201a8\"], [0.3333333333333333, \"#9c179e\"], [0.4444444444444444, \"#bd3786\"], [0.5555555555555556, \"#d8576b\"], [0.6666666666666666, \"#ed7953\"], [0.7777777777777778, \"#fb9f3a\"], [0.8888888888888888, \"#fdca26\"], [1.0, \"#f0f921\"]], \"sequentialminus\": [[0.0, \"#0d0887\"], [0.1111111111111111, \"#46039f\"], [0.2222222222222222, \"#7201a8\"], [0.3333333333333333, \"#9c179e\"], [0.4444444444444444, \"#bd3786\"], [0.5555555555555556, \"#d8576b\"], [0.6666666666666666, \"#ed7953\"], [0.7777777777777778, \"#fb9f3a\"], [0.8888888888888888, \"#fdca26\"], [1.0, \"#f0f921\"]]}, \"colorway\": [\"#636efa\", \"#EF553B\", \"#00cc96\", \"#ab63fa\", \"#FFA15A\", \"#19d3f3\", \"#FF6692\", \"#B6E880\", \"#FF97FF\", \"#FECB52\"], \"font\": {\"color\": \"#2a3f5f\"}, \"geo\": {\"bgcolor\": \"white\", \"lakecolor\": \"white\", \"landcolor\": \"#E5ECF6\", \"showlakes\": true, \"showland\": true, \"subunitcolor\": \"white\"}, \"hoverlabel\": {\"align\": \"left\"}, \"hovermode\": \"closest\", \"mapbox\": {\"style\": \"light\"}, \"paper_bgcolor\": \"white\", \"plot_bgcolor\": \"#E5ECF6\", \"polar\": {\"angularaxis\": {\"gridcolor\": \"white\", \"linecolor\": \"white\", \"ticks\": \"\"}, \"bgcolor\": \"#E5ECF6\", \"radialaxis\": {\"gridcolor\": \"white\", \"linecolor\": \"white\", \"ticks\": \"\"}}, \"scene\": {\"xaxis\": {\"backgroundcolor\": \"#E5ECF6\", \"gridcolor\": \"white\", \"gridwidth\": 2, \"linecolor\": \"white\", \"showbackground\": true, \"ticks\": \"\", \"zerolinecolor\": \"white\"}, \"yaxis\": {\"backgroundcolor\": \"#E5ECF6\", \"gridcolor\": \"white\", \"gridwidth\": 2, \"linecolor\": \"white\", \"showbackground\": true, \"ticks\": \"\", \"zerolinecolor\": \"white\"}, \"zaxis\": {\"backgroundcolor\": \"#E5ECF6\", \"gridcolor\": \"white\", \"gridwidth\": 2, \"linecolor\": \"white\", \"showbackground\": true, \"ticks\": \"\", \"zerolinecolor\": \"white\"}}, \"shapedefaults\": {\"line\": {\"color\": \"#2a3f5f\"}}, \"ternary\": {\"aaxis\": {\"gridcolor\": \"white\", \"linecolor\": \"white\", \"ticks\": \"\"}, \"baxis\": {\"gridcolor\": \"white\", \"linecolor\": \"white\", \"ticks\": \"\"}, \"bgcolor\": \"#E5ECF6\", \"caxis\": {\"gridcolor\": \"white\", \"linecolor\": \"white\", \"ticks\": \"\"}}, \"title\": {\"x\": 0.05}, \"xaxis\": {\"automargin\": true, \"gridcolor\": \"white\", \"linecolor\": \"white\", \"ticks\": \"\", \"title\": {\"standoff\": 15}, \"zerolinecolor\": \"white\", \"zerolinewidth\": 2}, \"yaxis\": {\"automargin\": true, \"gridcolor\": \"white\", \"linecolor\": \"white\", \"ticks\": \"\", \"title\": {\"standoff\": 15}, \"zerolinecolor\": \"white\", \"zerolinewidth\": 2}}}, \"title\": {\"text\": \"Estimated running times and running times through the day\"}, \"xaxis\": {\"title\": {\"text\": \"Hour of the day\"}}, \"yaxis\": {\"title\": {\"text\": \"Running time (minutes)\"}}},\n",
       "                        {\"responsive\": true}\n",
       "                    ).then(function(){\n",
       "                            \n",
       "var gd = document.getElementById('24067aab-c091-48ba-aa85-657be2d85117');\n",
       "var x = new MutationObserver(function (mutations, observer) {{\n",
       "        var display = window.getComputedStyle(gd).display;\n",
       "        if (!display || display === 'none') {{\n",
       "            console.log([gd, 'removed!']);\n",
       "            Plotly.purge(gd);\n",
       "            observer.disconnect();\n",
       "        }}\n",
       "}});\n",
       "\n",
       "// Listen for the removal of the full notebook cells\n",
       "var notebookContainer = gd.closest('#notebook-container');\n",
       "if (notebookContainer) {{\n",
       "    x.observe(notebookContainer, {childList: true});\n",
       "}}\n",
       "\n",
       "// Listen for the clearing of the current output cell\n",
       "var outputEl = gd.closest('.output');\n",
       "if (outputEl) {{\n",
       "    x.observe(outputEl, {childList: true});\n",
       "}}\n",
       "\n",
       "                        })\n",
       "                };\n",
       "                });\n",
       "            </script>\n",
       "        </div>"
      ]
     },
     "metadata": {},
     "output_type": "display_data"
    },
    {
     "data": {
      "application/vnd.plotly.v1+json": {
       "config": {
        "plotlyServerURL": "https://plot.ly"
       },
       "data": [
        {
         "alignmentgroup": "True",
         "boxpoints": "all",
         "customdata": [
          [
           "Wednesday",
           54,
           4
          ],
          [
           "Monday",
           23,
           9
          ],
          [
           "Monday",
           22,
           24
          ],
          [
           "Wednesday",
           24,
           26
          ],
          [
           "Tuesday",
           25,
           18
          ],
          [
           "Thursday",
           24,
           20
          ],
          [
           "Saturday",
           3,
           7
          ],
          [
           "Tuesday",
           23,
           3
          ],
          [
           "Wednesday",
           53,
           11
          ],
          [
           "Monday",
           24,
           9
          ],
          [
           "Thursday",
           23,
           12
          ],
          [
           "Saturday",
           3,
           7
          ],
          [
           "Monday",
           23,
           17
          ],
          [
           "Thursday",
           53,
           12
          ],
          [
           "Wednesday",
           54,
           26
          ],
          [
           "Friday",
           23,
           6
          ],
          [
           "Monday",
           55,
           24
          ],
          [
           "Wednesday",
           0,
           26
          ],
          [
           "Thursday",
           56,
           20
          ],
          [
           "Monday",
           53,
           24
          ],
          [
           "Saturday",
           34,
           22
          ],
          [
           "Wednesday",
           53,
           4
          ],
          [
           "Tuesday",
           25,
           3
          ],
          [
           "Friday",
           56,
           28
          ],
          [
           "Sunday",
           33,
           8
          ],
          [
           "Sunday",
           18,
           1
          ],
          [
           "Thursday",
           23,
           5
          ],
          [
           "Wednesday",
           25,
           26
          ],
          [
           "Monday",
           55,
           2
          ],
          [
           "Monday",
           24,
           9
          ],
          [
           "Sunday",
           34,
           1
          ],
          [
           "Thursday",
           24,
           12
          ],
          [
           "Monday",
           25,
           2
          ],
          [
           "Tuesday",
           53,
           18
          ],
          [
           "Wednesday",
           25,
           4
          ],
          [
           "Friday",
           25,
           21
          ],
          [
           "Monday",
           54,
           17
          ],
          [
           "Tuesday",
           55,
           10
          ],
          [
           "Sunday",
           34,
           8
          ],
          [
           "Monday",
           23,
           24
          ],
          [
           "Friday",
           53,
           21
          ],
          [
           "Thursday",
           24,
           12
          ],
          [
           "Thursday",
           22,
           20
          ],
          [
           "Tuesday",
           25,
           10
          ],
          [
           "Wednesday",
           55,
           4
          ],
          [
           "Monday",
           54,
           17
          ],
          [
           "Tuesday",
           53,
           18
          ],
          [
           "Monday",
           23,
           17
          ],
          [
           "Thursday",
           25,
           20
          ],
          [
           "Tuesday",
           25,
           18
          ],
          [
           "Wednesday",
           53,
           11
          ],
          [
           "Monday",
           25,
           9
          ],
          [
           "Wednesday",
           23,
           11
          ],
          [
           "Tuesday",
           24,
           18
          ],
          [
           "Tuesday",
           25,
           10
          ],
          [
           "Tuesday",
           52,
           18
          ],
          [
           "Friday",
           54,
           28
          ],
          [
           "Monday",
           57,
           24
          ],
          [
           "Tuesday",
           26,
           18
          ],
          [
           "Sunday",
           33,
           8
          ],
          [
           "Sunday",
           18,
           16
          ],
          [
           "Tuesday",
           55,
           18
          ],
          [
           "Monday",
           24,
           24
          ],
          [
           "Sunday",
           33,
           23
          ],
          [
           "Monday",
           55,
           2
          ],
          [
           "Friday",
           54,
           6
          ],
          [
           "Friday",
           55,
           6
          ],
          [
           "Monday",
           54,
           24
          ],
          [
           "Thursday",
           23,
           20
          ],
          [
           "Thursday",
           32,
           27
          ],
          [
           "Monday",
           53,
           2
          ],
          [
           "Wednesday",
           23,
           19
          ],
          [
           "Thursday",
           23,
           27
          ],
          [
           "Tuesday",
           34,
           25
          ],
          [
           "Tuesday",
           23,
           25
          ],
          [
           "Tuesday",
           54,
           18
          ],
          [
           "Saturday",
           3,
           29
          ],
          [
           "Monday",
           25,
           2
          ],
          [
           "Friday",
           54,
           6
          ],
          [
           "Wednesday",
           55,
           19
          ],
          [
           "Tuesday",
           25,
           10
          ],
          [
           "Monday",
           23,
           24
          ],
          [
           "Wednesday",
           33,
           4
          ],
          [
           "Tuesday",
           54,
           3
          ],
          [
           "Sunday",
           2,
           16
          ],
          [
           "Saturday",
           32,
           22
          ],
          [
           "Wednesday",
           54,
           4
          ],
          [
           "Wednesday",
           24,
           26
          ],
          [
           "Monday",
           55,
           9
          ],
          [
           "Friday",
           55,
           21
          ],
          [
           "Monday",
           24,
           2
          ],
          [
           "Tuesday",
           25,
           10
          ],
          [
           "Friday",
           23,
           6
          ],
          [
           "Sunday",
           32,
           8
          ],
          [
           "Tuesday",
           53,
           10
          ],
          [
           "Monday",
           53,
           9
          ],
          [
           "Wednesday",
           23,
           4
          ],
          [
           "Tuesday",
           24,
           25
          ],
          [
           "Monday",
           25,
           9
          ],
          [
           "Monday",
           54,
           24
          ],
          [
           "Monday",
           55,
           2
          ],
          [
           "Sunday",
           34,
           1
          ],
          [
           "Thursday",
           55,
           20
          ],
          [
           "Monday",
           24,
           17
          ],
          [
           "Tuesday",
           55,
           10
          ],
          [
           "Friday",
           25,
           21
          ],
          [
           "Thursday",
           53,
           12
          ],
          [
           "Tuesday",
           25,
           3
          ],
          [
           "Tuesday",
           25,
           10
          ],
          [
           "Thursday",
           55,
           27
          ],
          [
           "Tuesday",
           54,
           25
          ],
          [
           "Thursday",
           24,
           12
          ],
          [
           "Thursday",
           54,
           20
          ],
          [
           "Thursday",
           25,
           12
          ],
          [
           "Thursday",
           55,
           27
          ],
          [
           "Thursday",
           23,
           20
          ]
         ],
         "hovertemplate": "color=8__658___<br>x=%{x}<br>y=%{y}<br>hover_data_0=%{customdata[0]}<br>hover_data_1=%{customdata[1]}<br>hover_data_2=%{customdata[2]}<extra></extra>",
         "legendgroup": "8__658___",
         "marker": {
          "color": "#636efa"
         },
         "name": "8__658___",
         "notched": false,
         "offsetgroup": "8__658___",
         "orientation": "v",
         "showlegend": true,
         "type": "box",
         "x": [
          14,
          13,
          15,
          21,
          10,
          15,
          20,
          19,
          16,
          20,
          15,
          16,
          18,
          8,
          21,
          20,
          19,
          8,
          12,
          5,
          13,
          5,
          16,
          14,
          17,
          14,
          11,
          11,
          8,
          6,
          20,
          11,
          16,
          16,
          18,
          6,
          16,
          7,
          19,
          20,
          6,
          13,
          17,
          11,
          13,
          21,
          10,
          20,
          10,
          12,
          18,
          18,
          13,
          14,
          12,
          14,
          15,
          13,
          20,
          15,
          13,
          6,
          6,
          9,
          6,
          15,
          18,
          8,
          20,
          22,
          18,
          14,
          18,
          22,
          6,
          12,
          15,
          9,
          21,
          15,
          13,
          17,
          22,
          11,
          22,
          12,
          6,
          20,
          12,
          18,
          21,
          9,
          17,
          8,
          19,
          18,
          15,
          11,
          7,
          6,
          17,
          17,
          5,
          13,
          5,
          8,
          10,
          14,
          8,
          7,
          20,
          10,
          20,
          14,
          16,
          21
         ],
         "x0": " ",
         "xaxis": "x",
         "y": [
          0.18333333333333332,
          1.2833333333333334,
          3.3333333333333353,
          -3.433333333333333,
          -1.0666666666666667,
          3.7666666666666666,
          -0.4,
          1.1166666666666667,
          0.11666666666666667,
          0.4666666666666667,
          -2.2666666666666666,
          -1.3666666666666667,
          2.0166666666666684,
          -1.9833333333333334,
          -3.8833333333333333,
          -0.21666666666666667,
          0.13333333333333333,
          2.733333333333335,
          1.2833333333333334,
          -1.6666666666666667,
          -1.2666666666666666,
          -1.3333333333333333,
          4.4,
          0.75,
          -1.2333333333333334,
          -3.533333333333333,
          1.1333333333333333,
          -0.2833333333333333,
          0.016666666666666666,
          0.38333333333333336,
          -0.8,
          -1.8833333333333333,
          -0.7333333333333333,
          1.8166666666666687,
          1.0333333333333334,
          0.25,
          2.0333333333333354,
          0.2,
          0.06666666666666667,
          0.3333333333333333,
          3.233333333333335,
          -1.5,
          1.45,
          -0.5666666666666667,
          0.8333333333333334,
          -2.283333333333333,
          0.5,
          -1.0833333333333333,
          -1.05,
          -1.1,
          -0.4666666666666667,
          2.7166666666666686,
          -0.26666666666666666,
          -0.2,
          -0.6833333333333333,
          1.8333333333333353,
          1.2333333333333334,
          1.2333333333333334,
          -0.23333333333333334,
          -3.2333333333333334,
          -2.5166666666666666,
          0.7166666666666667,
          1.1666666666666667,
          -1.3833333333333333,
          -0.26666666666666666,
          3.0000000000000018,
          0.7333333333333333,
          -0.4166666666666667,
          -1.1833333333333333,
          -3.1333333333333333,
          2.0666666666666687,
          2.2166666666666686,
          3.2166666666666686,
          -4.45,
          0.6166666666666667,
          0.8166666666666667,
          -3.1166666666666667,
          0.31666666666666665,
          -1.6333333333333333,
          1.0666666666666667,
          0.4666666666666667,
          2.1166666666666685,
          -2.2,
          -0.38333333333333336,
          -2.966666666666667,
          -0.5833333333333334,
          0.43333333333333335,
          -0.45,
          -0.5166666666666667,
          -1.05,
          -5.499999999999999,
          -3.6333333333333333,
          1.2166666666666666,
          -3.033333333333333,
          -2.4,
          2.483333333333335,
          3.483333333333335,
          1.4166666666666667,
          0.43333333333333335,
          2.5333333333333354,
          1.35,
          -1.65,
          -2.9,
          2.0000000000000018,
          -1.8666666666666667,
          0.2833333333333333,
          -0.38333333333333336,
          1.0833333333333333,
          -2.7666666666666666,
          0.03333333333333333,
          -4.716666666666667,
          -2.1333333333333333,
          -2.183333333333333,
          -1.7833333333333334,
          1.8166666666666687,
          -2.683333333333333
         ],
         "y0": " ",
         "yaxis": "y"
        }
       ],
       "layout": {
        "boxmode": "group",
        "legend": {
         "title": {
          "text": "color"
         },
         "tracegroupgap": 0
        },
        "margin": {
         "t": 60
        },
        "template": {
         "data": {
          "bar": [
           {
            "error_x": {
             "color": "#2a3f5f"
            },
            "error_y": {
             "color": "#2a3f5f"
            },
            "marker": {
             "line": {
              "color": "#E5ECF6",
              "width": 0.5
             }
            },
            "type": "bar"
           }
          ],
          "barpolar": [
           {
            "marker": {
             "line": {
              "color": "#E5ECF6",
              "width": 0.5
             }
            },
            "type": "barpolar"
           }
          ],
          "carpet": [
           {
            "aaxis": {
             "endlinecolor": "#2a3f5f",
             "gridcolor": "white",
             "linecolor": "white",
             "minorgridcolor": "white",
             "startlinecolor": "#2a3f5f"
            },
            "baxis": {
             "endlinecolor": "#2a3f5f",
             "gridcolor": "white",
             "linecolor": "white",
             "minorgridcolor": "white",
             "startlinecolor": "#2a3f5f"
            },
            "type": "carpet"
           }
          ],
          "choropleth": [
           {
            "colorbar": {
             "outlinewidth": 0,
             "ticks": ""
            },
            "type": "choropleth"
           }
          ],
          "contour": [
           {
            "colorbar": {
             "outlinewidth": 0,
             "ticks": ""
            },
            "colorscale": [
             [
              0,
              "#0d0887"
             ],
             [
              0.1111111111111111,
              "#46039f"
             ],
             [
              0.2222222222222222,
              "#7201a8"
             ],
             [
              0.3333333333333333,
              "#9c179e"
             ],
             [
              0.4444444444444444,
              "#bd3786"
             ],
             [
              0.5555555555555556,
              "#d8576b"
             ],
             [
              0.6666666666666666,
              "#ed7953"
             ],
             [
              0.7777777777777778,
              "#fb9f3a"
             ],
             [
              0.8888888888888888,
              "#fdca26"
             ],
             [
              1,
              "#f0f921"
             ]
            ],
            "type": "contour"
           }
          ],
          "contourcarpet": [
           {
            "colorbar": {
             "outlinewidth": 0,
             "ticks": ""
            },
            "type": "contourcarpet"
           }
          ],
          "heatmap": [
           {
            "colorbar": {
             "outlinewidth": 0,
             "ticks": ""
            },
            "colorscale": [
             [
              0,
              "#0d0887"
             ],
             [
              0.1111111111111111,
              "#46039f"
             ],
             [
              0.2222222222222222,
              "#7201a8"
             ],
             [
              0.3333333333333333,
              "#9c179e"
             ],
             [
              0.4444444444444444,
              "#bd3786"
             ],
             [
              0.5555555555555556,
              "#d8576b"
             ],
             [
              0.6666666666666666,
              "#ed7953"
             ],
             [
              0.7777777777777778,
              "#fb9f3a"
             ],
             [
              0.8888888888888888,
              "#fdca26"
             ],
             [
              1,
              "#f0f921"
             ]
            ],
            "type": "heatmap"
           }
          ],
          "heatmapgl": [
           {
            "colorbar": {
             "outlinewidth": 0,
             "ticks": ""
            },
            "colorscale": [
             [
              0,
              "#0d0887"
             ],
             [
              0.1111111111111111,
              "#46039f"
             ],
             [
              0.2222222222222222,
              "#7201a8"
             ],
             [
              0.3333333333333333,
              "#9c179e"
             ],
             [
              0.4444444444444444,
              "#bd3786"
             ],
             [
              0.5555555555555556,
              "#d8576b"
             ],
             [
              0.6666666666666666,
              "#ed7953"
             ],
             [
              0.7777777777777778,
              "#fb9f3a"
             ],
             [
              0.8888888888888888,
              "#fdca26"
             ],
             [
              1,
              "#f0f921"
             ]
            ],
            "type": "heatmapgl"
           }
          ],
          "histogram": [
           {
            "marker": {
             "colorbar": {
              "outlinewidth": 0,
              "ticks": ""
             }
            },
            "type": "histogram"
           }
          ],
          "histogram2d": [
           {
            "colorbar": {
             "outlinewidth": 0,
             "ticks": ""
            },
            "colorscale": [
             [
              0,
              "#0d0887"
             ],
             [
              0.1111111111111111,
              "#46039f"
             ],
             [
              0.2222222222222222,
              "#7201a8"
             ],
             [
              0.3333333333333333,
              "#9c179e"
             ],
             [
              0.4444444444444444,
              "#bd3786"
             ],
             [
              0.5555555555555556,
              "#d8576b"
             ],
             [
              0.6666666666666666,
              "#ed7953"
             ],
             [
              0.7777777777777778,
              "#fb9f3a"
             ],
             [
              0.8888888888888888,
              "#fdca26"
             ],
             [
              1,
              "#f0f921"
             ]
            ],
            "type": "histogram2d"
           }
          ],
          "histogram2dcontour": [
           {
            "colorbar": {
             "outlinewidth": 0,
             "ticks": ""
            },
            "colorscale": [
             [
              0,
              "#0d0887"
             ],
             [
              0.1111111111111111,
              "#46039f"
             ],
             [
              0.2222222222222222,
              "#7201a8"
             ],
             [
              0.3333333333333333,
              "#9c179e"
             ],
             [
              0.4444444444444444,
              "#bd3786"
             ],
             [
              0.5555555555555556,
              "#d8576b"
             ],
             [
              0.6666666666666666,
              "#ed7953"
             ],
             [
              0.7777777777777778,
              "#fb9f3a"
             ],
             [
              0.8888888888888888,
              "#fdca26"
             ],
             [
              1,
              "#f0f921"
             ]
            ],
            "type": "histogram2dcontour"
           }
          ],
          "mesh3d": [
           {
            "colorbar": {
             "outlinewidth": 0,
             "ticks": ""
            },
            "type": "mesh3d"
           }
          ],
          "parcoords": [
           {
            "line": {
             "colorbar": {
              "outlinewidth": 0,
              "ticks": ""
             }
            },
            "type": "parcoords"
           }
          ],
          "pie": [
           {
            "automargin": true,
            "type": "pie"
           }
          ],
          "scatter": [
           {
            "marker": {
             "colorbar": {
              "outlinewidth": 0,
              "ticks": ""
             }
            },
            "type": "scatter"
           }
          ],
          "scatter3d": [
           {
            "line": {
             "colorbar": {
              "outlinewidth": 0,
              "ticks": ""
             }
            },
            "marker": {
             "colorbar": {
              "outlinewidth": 0,
              "ticks": ""
             }
            },
            "type": "scatter3d"
           }
          ],
          "scattercarpet": [
           {
            "marker": {
             "colorbar": {
              "outlinewidth": 0,
              "ticks": ""
             }
            },
            "type": "scattercarpet"
           }
          ],
          "scattergeo": [
           {
            "marker": {
             "colorbar": {
              "outlinewidth": 0,
              "ticks": ""
             }
            },
            "type": "scattergeo"
           }
          ],
          "scattergl": [
           {
            "marker": {
             "colorbar": {
              "outlinewidth": 0,
              "ticks": ""
             }
            },
            "type": "scattergl"
           }
          ],
          "scattermapbox": [
           {
            "marker": {
             "colorbar": {
              "outlinewidth": 0,
              "ticks": ""
             }
            },
            "type": "scattermapbox"
           }
          ],
          "scatterpolar": [
           {
            "marker": {
             "colorbar": {
              "outlinewidth": 0,
              "ticks": ""
             }
            },
            "type": "scatterpolar"
           }
          ],
          "scatterpolargl": [
           {
            "marker": {
             "colorbar": {
              "outlinewidth": 0,
              "ticks": ""
             }
            },
            "type": "scatterpolargl"
           }
          ],
          "scatterternary": [
           {
            "marker": {
             "colorbar": {
              "outlinewidth": 0,
              "ticks": ""
             }
            },
            "type": "scatterternary"
           }
          ],
          "surface": [
           {
            "colorbar": {
             "outlinewidth": 0,
             "ticks": ""
            },
            "colorscale": [
             [
              0,
              "#0d0887"
             ],
             [
              0.1111111111111111,
              "#46039f"
             ],
             [
              0.2222222222222222,
              "#7201a8"
             ],
             [
              0.3333333333333333,
              "#9c179e"
             ],
             [
              0.4444444444444444,
              "#bd3786"
             ],
             [
              0.5555555555555556,
              "#d8576b"
             ],
             [
              0.6666666666666666,
              "#ed7953"
             ],
             [
              0.7777777777777778,
              "#fb9f3a"
             ],
             [
              0.8888888888888888,
              "#fdca26"
             ],
             [
              1,
              "#f0f921"
             ]
            ],
            "type": "surface"
           }
          ],
          "table": [
           {
            "cells": {
             "fill": {
              "color": "#EBF0F8"
             },
             "line": {
              "color": "white"
             }
            },
            "header": {
             "fill": {
              "color": "#C8D4E3"
             },
             "line": {
              "color": "white"
             }
            },
            "type": "table"
           }
          ]
         },
         "layout": {
          "annotationdefaults": {
           "arrowcolor": "#2a3f5f",
           "arrowhead": 0,
           "arrowwidth": 1
          },
          "coloraxis": {
           "colorbar": {
            "outlinewidth": 0,
            "ticks": ""
           }
          },
          "colorscale": {
           "diverging": [
            [
             0,
             "#8e0152"
            ],
            [
             0.1,
             "#c51b7d"
            ],
            [
             0.2,
             "#de77ae"
            ],
            [
             0.3,
             "#f1b6da"
            ],
            [
             0.4,
             "#fde0ef"
            ],
            [
             0.5,
             "#f7f7f7"
            ],
            [
             0.6,
             "#e6f5d0"
            ],
            [
             0.7,
             "#b8e186"
            ],
            [
             0.8,
             "#7fbc41"
            ],
            [
             0.9,
             "#4d9221"
            ],
            [
             1,
             "#276419"
            ]
           ],
           "sequential": [
            [
             0,
             "#0d0887"
            ],
            [
             0.1111111111111111,
             "#46039f"
            ],
            [
             0.2222222222222222,
             "#7201a8"
            ],
            [
             0.3333333333333333,
             "#9c179e"
            ],
            [
             0.4444444444444444,
             "#bd3786"
            ],
            [
             0.5555555555555556,
             "#d8576b"
            ],
            [
             0.6666666666666666,
             "#ed7953"
            ],
            [
             0.7777777777777778,
             "#fb9f3a"
            ],
            [
             0.8888888888888888,
             "#fdca26"
            ],
            [
             1,
             "#f0f921"
            ]
           ],
           "sequentialminus": [
            [
             0,
             "#0d0887"
            ],
            [
             0.1111111111111111,
             "#46039f"
            ],
            [
             0.2222222222222222,
             "#7201a8"
            ],
            [
             0.3333333333333333,
             "#9c179e"
            ],
            [
             0.4444444444444444,
             "#bd3786"
            ],
            [
             0.5555555555555556,
             "#d8576b"
            ],
            [
             0.6666666666666666,
             "#ed7953"
            ],
            [
             0.7777777777777778,
             "#fb9f3a"
            ],
            [
             0.8888888888888888,
             "#fdca26"
            ],
            [
             1,
             "#f0f921"
            ]
           ]
          },
          "colorway": [
           "#636efa",
           "#EF553B",
           "#00cc96",
           "#ab63fa",
           "#FFA15A",
           "#19d3f3",
           "#FF6692",
           "#B6E880",
           "#FF97FF",
           "#FECB52"
          ],
          "font": {
           "color": "#2a3f5f"
          },
          "geo": {
           "bgcolor": "white",
           "lakecolor": "white",
           "landcolor": "#E5ECF6",
           "showlakes": true,
           "showland": true,
           "subunitcolor": "white"
          },
          "hoverlabel": {
           "align": "left"
          },
          "hovermode": "closest",
          "mapbox": {
           "style": "light"
          },
          "paper_bgcolor": "white",
          "plot_bgcolor": "#E5ECF6",
          "polar": {
           "angularaxis": {
            "gridcolor": "white",
            "linecolor": "white",
            "ticks": ""
           },
           "bgcolor": "#E5ECF6",
           "radialaxis": {
            "gridcolor": "white",
            "linecolor": "white",
            "ticks": ""
           }
          },
          "scene": {
           "xaxis": {
            "backgroundcolor": "#E5ECF6",
            "gridcolor": "white",
            "gridwidth": 2,
            "linecolor": "white",
            "showbackground": true,
            "ticks": "",
            "zerolinecolor": "white"
           },
           "yaxis": {
            "backgroundcolor": "#E5ECF6",
            "gridcolor": "white",
            "gridwidth": 2,
            "linecolor": "white",
            "showbackground": true,
            "ticks": "",
            "zerolinecolor": "white"
           },
           "zaxis": {
            "backgroundcolor": "#E5ECF6",
            "gridcolor": "white",
            "gridwidth": 2,
            "linecolor": "white",
            "showbackground": true,
            "ticks": "",
            "zerolinecolor": "white"
           }
          },
          "shapedefaults": {
           "line": {
            "color": "#2a3f5f"
           }
          },
          "ternary": {
           "aaxis": {
            "gridcolor": "white",
            "linecolor": "white",
            "ticks": ""
           },
           "baxis": {
            "gridcolor": "white",
            "linecolor": "white",
            "ticks": ""
           },
           "bgcolor": "#E5ECF6",
           "caxis": {
            "gridcolor": "white",
            "linecolor": "white",
            "ticks": ""
           }
          },
          "title": {
           "x": 0.05
          },
          "xaxis": {
           "automargin": true,
           "gridcolor": "white",
           "linecolor": "white",
           "ticks": "",
           "title": {
            "standoff": 15
           },
           "zerolinecolor": "white",
           "zerolinewidth": 2
          },
          "yaxis": {
           "automargin": true,
           "gridcolor": "white",
           "linecolor": "white",
           "ticks": "",
           "title": {
            "standoff": 15
           },
           "zerolinecolor": "white",
           "zerolinewidth": 2
          }
         }
        },
        "title": {
         "text": "Running time estimation error through the day"
        },
        "xaxis": {
         "anchor": "y",
         "domain": [
          0,
          1
         ],
         "title": {
          "text": "Hour of the day"
         }
        },
        "yaxis": {
         "anchor": "x",
         "domain": [
          0,
          1
         ],
         "title": {
          "text": "Running time error (minutes)"
         }
        }
       }
      },
      "text/html": [
       "<div>\n",
       "        \n",
       "        \n",
       "            <div id=\"11faebdb-398d-4301-adfb-f8eba25dc69f\" class=\"plotly-graph-div\" style=\"height:525px; width:100%;\"></div>\n",
       "            <script type=\"text/javascript\">\n",
       "                require([\"plotly\"], function(Plotly) {\n",
       "                    window.PLOTLYENV=window.PLOTLYENV || {};\n",
       "                    \n",
       "                if (document.getElementById(\"11faebdb-398d-4301-adfb-f8eba25dc69f\")) {\n",
       "                    Plotly.newPlot(\n",
       "                        '11faebdb-398d-4301-adfb-f8eba25dc69f',\n",
       "                        [{\"alignmentgroup\": \"True\", \"boxpoints\": \"all\", \"customdata\": [[\"Wednesday\", 54, 4], [\"Monday\", 23, 9], [\"Monday\", 22, 24], [\"Wednesday\", 24, 26], [\"Tuesday\", 25, 18], [\"Thursday\", 24, 20], [\"Saturday\", 3, 7], [\"Tuesday\", 23, 3], [\"Wednesday\", 53, 11], [\"Monday\", 24, 9], [\"Thursday\", 23, 12], [\"Saturday\", 3, 7], [\"Monday\", 23, 17], [\"Thursday\", 53, 12], [\"Wednesday\", 54, 26], [\"Friday\", 23, 6], [\"Monday\", 55, 24], [\"Wednesday\", 0, 26], [\"Thursday\", 56, 20], [\"Monday\", 53, 24], [\"Saturday\", 34, 22], [\"Wednesday\", 53, 4], [\"Tuesday\", 25, 3], [\"Friday\", 56, 28], [\"Sunday\", 33, 8], [\"Sunday\", 18, 1], [\"Thursday\", 23, 5], [\"Wednesday\", 25, 26], [\"Monday\", 55, 2], [\"Monday\", 24, 9], [\"Sunday\", 34, 1], [\"Thursday\", 24, 12], [\"Monday\", 25, 2], [\"Tuesday\", 53, 18], [\"Wednesday\", 25, 4], [\"Friday\", 25, 21], [\"Monday\", 54, 17], [\"Tuesday\", 55, 10], [\"Sunday\", 34, 8], [\"Monday\", 23, 24], [\"Friday\", 53, 21], [\"Thursday\", 24, 12], [\"Thursday\", 22, 20], [\"Tuesday\", 25, 10], [\"Wednesday\", 55, 4], [\"Monday\", 54, 17], [\"Tuesday\", 53, 18], [\"Monday\", 23, 17], [\"Thursday\", 25, 20], [\"Tuesday\", 25, 18], [\"Wednesday\", 53, 11], [\"Monday\", 25, 9], [\"Wednesday\", 23, 11], [\"Tuesday\", 24, 18], [\"Tuesday\", 25, 10], [\"Tuesday\", 52, 18], [\"Friday\", 54, 28], [\"Monday\", 57, 24], [\"Tuesday\", 26, 18], [\"Sunday\", 33, 8], [\"Sunday\", 18, 16], [\"Tuesday\", 55, 18], [\"Monday\", 24, 24], [\"Sunday\", 33, 23], [\"Monday\", 55, 2], [\"Friday\", 54, 6], [\"Friday\", 55, 6], [\"Monday\", 54, 24], [\"Thursday\", 23, 20], [\"Thursday\", 32, 27], [\"Monday\", 53, 2], [\"Wednesday\", 23, 19], [\"Thursday\", 23, 27], [\"Tuesday\", 34, 25], [\"Tuesday\", 23, 25], [\"Tuesday\", 54, 18], [\"Saturday\", 3, 29], [\"Monday\", 25, 2], [\"Friday\", 54, 6], [\"Wednesday\", 55, 19], [\"Tuesday\", 25, 10], [\"Monday\", 23, 24], [\"Wednesday\", 33, 4], [\"Tuesday\", 54, 3], [\"Sunday\", 2, 16], [\"Saturday\", 32, 22], [\"Wednesday\", 54, 4], [\"Wednesday\", 24, 26], [\"Monday\", 55, 9], [\"Friday\", 55, 21], [\"Monday\", 24, 2], [\"Tuesday\", 25, 10], [\"Friday\", 23, 6], [\"Sunday\", 32, 8], [\"Tuesday\", 53, 10], [\"Monday\", 53, 9], [\"Wednesday\", 23, 4], [\"Tuesday\", 24, 25], [\"Monday\", 25, 9], [\"Monday\", 54, 24], [\"Monday\", 55, 2], [\"Sunday\", 34, 1], [\"Thursday\", 55, 20], [\"Monday\", 24, 17], [\"Tuesday\", 55, 10], [\"Friday\", 25, 21], [\"Thursday\", 53, 12], [\"Tuesday\", 25, 3], [\"Tuesday\", 25, 10], [\"Thursday\", 55, 27], [\"Tuesday\", 54, 25], [\"Thursday\", 24, 12], [\"Thursday\", 54, 20], [\"Thursday\", 25, 12], [\"Thursday\", 55, 27], [\"Thursday\", 23, 20]], \"hovertemplate\": \"color=8__658___<br>x=%{x}<br>y=%{y}<br>hover_data_0=%{customdata[0]}<br>hover_data_1=%{customdata[1]}<br>hover_data_2=%{customdata[2]}<extra></extra>\", \"legendgroup\": \"8__658___\", \"marker\": {\"color\": \"#636efa\"}, \"name\": \"8__658___\", \"notched\": false, \"offsetgroup\": \"8__658___\", \"orientation\": \"v\", \"showlegend\": true, \"type\": \"box\", \"x\": [14, 13, 15, 21, 10, 15, 20, 19, 16, 20, 15, 16, 18, 8, 21, 20, 19, 8, 12, 5, 13, 5, 16, 14, 17, 14, 11, 11, 8, 6, 20, 11, 16, 16, 18, 6, 16, 7, 19, 20, 6, 13, 17, 11, 13, 21, 10, 20, 10, 12, 18, 18, 13, 14, 12, 14, 15, 13, 20, 15, 13, 6, 6, 9, 6, 15, 18, 8, 20, 22, 18, 14, 18, 22, 6, 12, 15, 9, 21, 15, 13, 17, 22, 11, 22, 12, 6, 20, 12, 18, 21, 9, 17, 8, 19, 18, 15, 11, 7, 6, 17, 17, 5, 13, 5, 8, 10, 14, 8, 7, 20, 10, 20, 14, 16, 21], \"x0\": \" \", \"xaxis\": \"x\", \"y\": [0.18333333333333332, 1.2833333333333334, 3.3333333333333353, -3.433333333333333, -1.0666666666666667, 3.7666666666666666, -0.4, 1.1166666666666667, 0.11666666666666667, 0.4666666666666667, -2.2666666666666666, -1.3666666666666667, 2.0166666666666684, -1.9833333333333334, -3.8833333333333333, -0.21666666666666667, 0.13333333333333333, 2.733333333333335, 1.2833333333333334, -1.6666666666666667, -1.2666666666666666, -1.3333333333333333, 4.4, 0.75, -1.2333333333333334, -3.533333333333333, 1.1333333333333333, -0.2833333333333333, 0.016666666666666666, 0.38333333333333336, -0.8, -1.8833333333333333, -0.7333333333333333, 1.8166666666666687, 1.0333333333333334, 0.25, 2.0333333333333354, 0.2, 0.06666666666666667, 0.3333333333333333, 3.233333333333335, -1.5, 1.45, -0.5666666666666667, 0.8333333333333334, -2.283333333333333, 0.5, -1.0833333333333333, -1.05, -1.1, -0.4666666666666667, 2.7166666666666686, -0.26666666666666666, -0.2, -0.6833333333333333, 1.8333333333333353, 1.2333333333333334, 1.2333333333333334, -0.23333333333333334, -3.2333333333333334, -2.5166666666666666, 0.7166666666666667, 1.1666666666666667, -1.3833333333333333, -0.26666666666666666, 3.0000000000000018, 0.7333333333333333, -0.4166666666666667, -1.1833333333333333, -3.1333333333333333, 2.0666666666666687, 2.2166666666666686, 3.2166666666666686, -4.45, 0.6166666666666667, 0.8166666666666667, -3.1166666666666667, 0.31666666666666665, -1.6333333333333333, 1.0666666666666667, 0.4666666666666667, 2.1166666666666685, -2.2, -0.38333333333333336, -2.966666666666667, -0.5833333333333334, 0.43333333333333335, -0.45, -0.5166666666666667, -1.05, -5.499999999999999, -3.6333333333333333, 1.2166666666666666, -3.033333333333333, -2.4, 2.483333333333335, 3.483333333333335, 1.4166666666666667, 0.43333333333333335, 2.5333333333333354, 1.35, -1.65, -2.9, 2.0000000000000018, -1.8666666666666667, 0.2833333333333333, -0.38333333333333336, 1.0833333333333333, -2.7666666666666666, 0.03333333333333333, -4.716666666666667, -2.1333333333333333, -2.183333333333333, -1.7833333333333334, 1.8166666666666687, -2.683333333333333], \"y0\": \" \", \"yaxis\": \"y\"}],\n",
       "                        {\"boxmode\": \"group\", \"legend\": {\"title\": {\"text\": \"color\"}, \"tracegroupgap\": 0}, \"margin\": {\"t\": 60}, \"template\": {\"data\": {\"bar\": [{\"error_x\": {\"color\": \"#2a3f5f\"}, \"error_y\": {\"color\": \"#2a3f5f\"}, \"marker\": {\"line\": {\"color\": \"#E5ECF6\", \"width\": 0.5}}, \"type\": \"bar\"}], \"barpolar\": [{\"marker\": {\"line\": {\"color\": \"#E5ECF6\", \"width\": 0.5}}, \"type\": \"barpolar\"}], \"carpet\": [{\"aaxis\": {\"endlinecolor\": \"#2a3f5f\", \"gridcolor\": \"white\", \"linecolor\": \"white\", \"minorgridcolor\": \"white\", \"startlinecolor\": \"#2a3f5f\"}, \"baxis\": {\"endlinecolor\": \"#2a3f5f\", \"gridcolor\": \"white\", \"linecolor\": \"white\", \"minorgridcolor\": \"white\", \"startlinecolor\": \"#2a3f5f\"}, \"type\": \"carpet\"}], \"choropleth\": [{\"colorbar\": {\"outlinewidth\": 0, \"ticks\": \"\"}, \"type\": \"choropleth\"}], \"contour\": [{\"colorbar\": {\"outlinewidth\": 0, \"ticks\": \"\"}, \"colorscale\": [[0.0, \"#0d0887\"], [0.1111111111111111, \"#46039f\"], [0.2222222222222222, \"#7201a8\"], [0.3333333333333333, \"#9c179e\"], [0.4444444444444444, \"#bd3786\"], [0.5555555555555556, \"#d8576b\"], [0.6666666666666666, \"#ed7953\"], [0.7777777777777778, \"#fb9f3a\"], [0.8888888888888888, \"#fdca26\"], [1.0, \"#f0f921\"]], \"type\": \"contour\"}], \"contourcarpet\": [{\"colorbar\": {\"outlinewidth\": 0, \"ticks\": \"\"}, \"type\": \"contourcarpet\"}], \"heatmap\": [{\"colorbar\": {\"outlinewidth\": 0, \"ticks\": \"\"}, \"colorscale\": [[0.0, \"#0d0887\"], [0.1111111111111111, \"#46039f\"], [0.2222222222222222, \"#7201a8\"], [0.3333333333333333, \"#9c179e\"], [0.4444444444444444, \"#bd3786\"], [0.5555555555555556, \"#d8576b\"], [0.6666666666666666, \"#ed7953\"], [0.7777777777777778, \"#fb9f3a\"], [0.8888888888888888, \"#fdca26\"], [1.0, \"#f0f921\"]], \"type\": \"heatmap\"}], \"heatmapgl\": [{\"colorbar\": {\"outlinewidth\": 0, \"ticks\": \"\"}, \"colorscale\": [[0.0, \"#0d0887\"], [0.1111111111111111, \"#46039f\"], [0.2222222222222222, \"#7201a8\"], [0.3333333333333333, \"#9c179e\"], [0.4444444444444444, \"#bd3786\"], [0.5555555555555556, \"#d8576b\"], [0.6666666666666666, \"#ed7953\"], [0.7777777777777778, \"#fb9f3a\"], [0.8888888888888888, \"#fdca26\"], [1.0, \"#f0f921\"]], \"type\": \"heatmapgl\"}], \"histogram\": [{\"marker\": {\"colorbar\": {\"outlinewidth\": 0, \"ticks\": \"\"}}, \"type\": \"histogram\"}], \"histogram2d\": [{\"colorbar\": {\"outlinewidth\": 0, \"ticks\": \"\"}, \"colorscale\": [[0.0, \"#0d0887\"], [0.1111111111111111, \"#46039f\"], [0.2222222222222222, \"#7201a8\"], [0.3333333333333333, \"#9c179e\"], [0.4444444444444444, \"#bd3786\"], [0.5555555555555556, \"#d8576b\"], [0.6666666666666666, \"#ed7953\"], [0.7777777777777778, \"#fb9f3a\"], [0.8888888888888888, \"#fdca26\"], [1.0, \"#f0f921\"]], \"type\": \"histogram2d\"}], \"histogram2dcontour\": [{\"colorbar\": {\"outlinewidth\": 0, \"ticks\": \"\"}, \"colorscale\": [[0.0, \"#0d0887\"], [0.1111111111111111, \"#46039f\"], [0.2222222222222222, \"#7201a8\"], [0.3333333333333333, \"#9c179e\"], [0.4444444444444444, \"#bd3786\"], [0.5555555555555556, \"#d8576b\"], [0.6666666666666666, \"#ed7953\"], [0.7777777777777778, \"#fb9f3a\"], [0.8888888888888888, \"#fdca26\"], [1.0, \"#f0f921\"]], \"type\": \"histogram2dcontour\"}], \"mesh3d\": [{\"colorbar\": {\"outlinewidth\": 0, \"ticks\": \"\"}, \"type\": \"mesh3d\"}], \"parcoords\": [{\"line\": {\"colorbar\": {\"outlinewidth\": 0, \"ticks\": \"\"}}, \"type\": \"parcoords\"}], \"pie\": [{\"automargin\": true, \"type\": \"pie\"}], \"scatter\": [{\"marker\": {\"colorbar\": {\"outlinewidth\": 0, \"ticks\": \"\"}}, \"type\": \"scatter\"}], \"scatter3d\": [{\"line\": {\"colorbar\": {\"outlinewidth\": 0, \"ticks\": \"\"}}, \"marker\": {\"colorbar\": {\"outlinewidth\": 0, \"ticks\": \"\"}}, \"type\": \"scatter3d\"}], \"scattercarpet\": [{\"marker\": {\"colorbar\": {\"outlinewidth\": 0, \"ticks\": \"\"}}, \"type\": \"scattercarpet\"}], \"scattergeo\": [{\"marker\": {\"colorbar\": {\"outlinewidth\": 0, \"ticks\": \"\"}}, \"type\": \"scattergeo\"}], \"scattergl\": [{\"marker\": {\"colorbar\": {\"outlinewidth\": 0, \"ticks\": \"\"}}, \"type\": \"scattergl\"}], \"scattermapbox\": [{\"marker\": {\"colorbar\": {\"outlinewidth\": 0, \"ticks\": \"\"}}, \"type\": \"scattermapbox\"}], \"scatterpolar\": [{\"marker\": {\"colorbar\": {\"outlinewidth\": 0, \"ticks\": \"\"}}, \"type\": \"scatterpolar\"}], \"scatterpolargl\": [{\"marker\": {\"colorbar\": {\"outlinewidth\": 0, \"ticks\": \"\"}}, \"type\": \"scatterpolargl\"}], \"scatterternary\": [{\"marker\": {\"colorbar\": {\"outlinewidth\": 0, \"ticks\": \"\"}}, \"type\": \"scatterternary\"}], \"surface\": [{\"colorbar\": {\"outlinewidth\": 0, \"ticks\": \"\"}, \"colorscale\": [[0.0, \"#0d0887\"], [0.1111111111111111, \"#46039f\"], [0.2222222222222222, \"#7201a8\"], [0.3333333333333333, \"#9c179e\"], [0.4444444444444444, \"#bd3786\"], [0.5555555555555556, \"#d8576b\"], [0.6666666666666666, \"#ed7953\"], [0.7777777777777778, \"#fb9f3a\"], [0.8888888888888888, \"#fdca26\"], [1.0, \"#f0f921\"]], \"type\": \"surface\"}], \"table\": [{\"cells\": {\"fill\": {\"color\": \"#EBF0F8\"}, \"line\": {\"color\": \"white\"}}, \"header\": {\"fill\": {\"color\": \"#C8D4E3\"}, \"line\": {\"color\": \"white\"}}, \"type\": \"table\"}]}, \"layout\": {\"annotationdefaults\": {\"arrowcolor\": \"#2a3f5f\", \"arrowhead\": 0, \"arrowwidth\": 1}, \"coloraxis\": {\"colorbar\": {\"outlinewidth\": 0, \"ticks\": \"\"}}, \"colorscale\": {\"diverging\": [[0, \"#8e0152\"], [0.1, \"#c51b7d\"], [0.2, \"#de77ae\"], [0.3, \"#f1b6da\"], [0.4, \"#fde0ef\"], [0.5, \"#f7f7f7\"], [0.6, \"#e6f5d0\"], [0.7, \"#b8e186\"], [0.8, \"#7fbc41\"], [0.9, \"#4d9221\"], [1, \"#276419\"]], \"sequential\": [[0.0, \"#0d0887\"], [0.1111111111111111, \"#46039f\"], [0.2222222222222222, \"#7201a8\"], [0.3333333333333333, \"#9c179e\"], [0.4444444444444444, \"#bd3786\"], [0.5555555555555556, \"#d8576b\"], [0.6666666666666666, \"#ed7953\"], [0.7777777777777778, \"#fb9f3a\"], [0.8888888888888888, \"#fdca26\"], [1.0, \"#f0f921\"]], \"sequentialminus\": [[0.0, \"#0d0887\"], [0.1111111111111111, \"#46039f\"], [0.2222222222222222, \"#7201a8\"], [0.3333333333333333, \"#9c179e\"], [0.4444444444444444, \"#bd3786\"], [0.5555555555555556, \"#d8576b\"], [0.6666666666666666, \"#ed7953\"], [0.7777777777777778, \"#fb9f3a\"], [0.8888888888888888, \"#fdca26\"], [1.0, \"#f0f921\"]]}, \"colorway\": [\"#636efa\", \"#EF553B\", \"#00cc96\", \"#ab63fa\", \"#FFA15A\", \"#19d3f3\", \"#FF6692\", \"#B6E880\", \"#FF97FF\", \"#FECB52\"], \"font\": {\"color\": \"#2a3f5f\"}, \"geo\": {\"bgcolor\": \"white\", \"lakecolor\": \"white\", \"landcolor\": \"#E5ECF6\", \"showlakes\": true, \"showland\": true, \"subunitcolor\": \"white\"}, \"hoverlabel\": {\"align\": \"left\"}, \"hovermode\": \"closest\", \"mapbox\": {\"style\": \"light\"}, \"paper_bgcolor\": \"white\", \"plot_bgcolor\": \"#E5ECF6\", \"polar\": {\"angularaxis\": {\"gridcolor\": \"white\", \"linecolor\": \"white\", \"ticks\": \"\"}, \"bgcolor\": \"#E5ECF6\", \"radialaxis\": {\"gridcolor\": \"white\", \"linecolor\": \"white\", \"ticks\": \"\"}}, \"scene\": {\"xaxis\": {\"backgroundcolor\": \"#E5ECF6\", \"gridcolor\": \"white\", \"gridwidth\": 2, \"linecolor\": \"white\", \"showbackground\": true, \"ticks\": \"\", \"zerolinecolor\": \"white\"}, \"yaxis\": {\"backgroundcolor\": \"#E5ECF6\", \"gridcolor\": \"white\", \"gridwidth\": 2, \"linecolor\": \"white\", \"showbackground\": true, \"ticks\": \"\", \"zerolinecolor\": \"white\"}, \"zaxis\": {\"backgroundcolor\": \"#E5ECF6\", \"gridcolor\": \"white\", \"gridwidth\": 2, \"linecolor\": \"white\", \"showbackground\": true, \"ticks\": \"\", \"zerolinecolor\": \"white\"}}, \"shapedefaults\": {\"line\": {\"color\": \"#2a3f5f\"}}, \"ternary\": {\"aaxis\": {\"gridcolor\": \"white\", \"linecolor\": \"white\", \"ticks\": \"\"}, \"baxis\": {\"gridcolor\": \"white\", \"linecolor\": \"white\", \"ticks\": \"\"}, \"bgcolor\": \"#E5ECF6\", \"caxis\": {\"gridcolor\": \"white\", \"linecolor\": \"white\", \"ticks\": \"\"}}, \"title\": {\"x\": 0.05}, \"xaxis\": {\"automargin\": true, \"gridcolor\": \"white\", \"linecolor\": \"white\", \"ticks\": \"\", \"title\": {\"standoff\": 15}, \"zerolinecolor\": \"white\", \"zerolinewidth\": 2}, \"yaxis\": {\"automargin\": true, \"gridcolor\": \"white\", \"linecolor\": \"white\", \"ticks\": \"\", \"title\": {\"standoff\": 15}, \"zerolinecolor\": \"white\", \"zerolinewidth\": 2}}}, \"title\": {\"text\": \"Running time estimation error through the day\"}, \"xaxis\": {\"anchor\": \"y\", \"domain\": [0.0, 1.0], \"title\": {\"text\": \"Hour of the day\"}}, \"yaxis\": {\"anchor\": \"x\", \"domain\": [0.0, 1.0], \"title\": {\"text\": \"Running time error (minutes)\"}}},\n",
       "                        {\"responsive\": true}\n",
       "                    ).then(function(){\n",
       "                            \n",
       "var gd = document.getElementById('11faebdb-398d-4301-adfb-f8eba25dc69f');\n",
       "var x = new MutationObserver(function (mutations, observer) {{\n",
       "        var display = window.getComputedStyle(gd).display;\n",
       "        if (!display || display === 'none') {{\n",
       "            console.log([gd, 'removed!']);\n",
       "            Plotly.purge(gd);\n",
       "            observer.disconnect();\n",
       "        }}\n",
       "}});\n",
       "\n",
       "// Listen for the removal of the full notebook cells\n",
       "var notebookContainer = gd.closest('#notebook-container');\n",
       "if (notebookContainer) {{\n",
       "    x.observe(notebookContainer, {childList: true});\n",
       "}}\n",
       "\n",
       "// Listen for the clearing of the current output cell\n",
       "var outputEl = gd.closest('.output');\n",
       "if (outputEl) {{\n",
       "    x.observe(outputEl, {childList: true});\n",
       "}}\n",
       "\n",
       "                        })\n",
       "                };\n",
       "                });\n",
       "            </script>\n",
       "        </div>"
      ]
     },
     "metadata": {},
     "output_type": "display_data"
    }
   ],
   "source": [
    "plot_graphs(plot_df)"
   ]
  },
  {
   "cell_type": "code",
   "execution_count": 28,
   "metadata": {
    "ExecuteTime": {
     "end_time": "2020-05-23T11:18:12.773481Z",
     "start_time": "2020-05-23T11:18:12.761252Z"
    }
   },
   "outputs": [
    {
     "name": "stdout",
     "output_type": "stream",
     "text": [
      "MAE: 1.5764367816091958 minutes.\n",
      "MAPE: 12.673317006357692 %.\n",
      "RMSE: 1.9760963783560066 minutes.\n",
      "                    trip_time trip_time_estimate       error\n",
      "count                     116                116  116.000000\n",
      "mean   0 days 00:13:21.103448    0 days 00:13:34  -12.896552\n",
      "std    0 days 00:01:58.373644    0 days 00:00:00  118.373644\n",
      "min           0 days 00:08:04    0 days 00:13:34 -330.000000\n",
      "25%           0 days 00:12:02    0 days 00:13:34  -92.000000\n",
      "50%    0 days 00:13:21.500000    0 days 00:13:34  -12.500000\n",
      "75%    0 days 00:14:42.500000    0 days 00:13:34   68.500000\n",
      "max           0 days 00:17:58    0 days 00:13:34  264.000000\n"
     ]
    }
   ],
   "source": [
    "get_metrics(plot_df)"
   ]
  }
 ],
 "metadata": {
  "kernelspec": {
   "display_name": "Python 3",
   "language": "python",
   "name": "python3"
  },
  "language_info": {
   "codemirror_mode": {
    "name": "ipython",
    "version": 3
   },
   "file_extension": ".py",
   "mimetype": "text/x-python",
   "name": "python",
   "nbconvert_exporter": "python",
   "pygments_lexer": "ipython3",
   "version": "3.7.6"
  },
  "toc": {
   "base_numbering": 1,
   "nav_menu": {},
   "number_sections": true,
   "sideBar": true,
   "skip_h1_title": false,
   "title_cell": "Table of Contents",
   "title_sidebar": "Contents",
   "toc_cell": false,
   "toc_position": {},
   "toc_section_display": true,
   "toc_window_display": false
  },
  "varInspector": {
   "cols": {
    "lenName": 16,
    "lenType": 16,
    "lenVar": 40
   },
   "kernels_config": {
    "python": {
     "delete_cmd_postfix": "",
     "delete_cmd_prefix": "del ",
     "library": "var_list.py",
     "varRefreshCmd": "print(var_dic_list())"
    },
    "r": {
     "delete_cmd_postfix": ") ",
     "delete_cmd_prefix": "rm(",
     "library": "var_list.r",
     "varRefreshCmd": "cat(var_dic_list()) "
    }
   },
   "types_to_exclude": [
    "module",
    "function",
    "builtin_function_or_method",
    "instance",
    "_Feature"
   ],
   "window_display": false
  }
 },
 "nbformat": 4,
 "nbformat_minor": 4
}
